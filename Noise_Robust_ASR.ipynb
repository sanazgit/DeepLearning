{
  "nbformat": 4,
  "nbformat_minor": 0,
  "metadata": {
    "colab": {
      "provenance": [],
      "collapsed_sections": [
        "xn-WlzCGjQaB"
      ],
      "gpuType": "T4",
      "authorship_tag": "ABX9TyM11p/z/BJQ8S1B/21hLRzE",
      "include_colab_link": true
    },
    "kernelspec": {
      "name": "python3",
      "display_name": "Python 3"
    },
    "language_info": {
      "name": "python"
    },
    "accelerator": "GPU",
    "widgets": {
      "application/vnd.jupyter.widget-state+json": {
        "428560df33f1493491cdf759d57ee562": {
          "model_module": "@jupyter-widgets/controls",
          "model_name": "HBoxModel",
          "model_module_version": "1.5.0",
          "state": {
            "_dom_classes": [],
            "_model_module": "@jupyter-widgets/controls",
            "_model_module_version": "1.5.0",
            "_model_name": "HBoxModel",
            "_view_count": null,
            "_view_module": "@jupyter-widgets/controls",
            "_view_module_version": "1.5.0",
            "_view_name": "HBoxView",
            "box_style": "",
            "children": [
              "IPY_MODEL_9845d42376fc40518a82b61b169fbfed",
              "IPY_MODEL_d8d7ec8ebd994b758014166dc149522a",
              "IPY_MODEL_f9b163a8519f43499e4b507f2df93757"
            ],
            "layout": "IPY_MODEL_586d9247c6da489b85ca12d32cc7c9a9"
          }
        },
        "9845d42376fc40518a82b61b169fbfed": {
          "model_module": "@jupyter-widgets/controls",
          "model_name": "HTMLModel",
          "model_module_version": "1.5.0",
          "state": {
            "_dom_classes": [],
            "_model_module": "@jupyter-widgets/controls",
            "_model_module_version": "1.5.0",
            "_model_name": "HTMLModel",
            "_view_count": null,
            "_view_module": "@jupyter-widgets/controls",
            "_view_module_version": "1.5.0",
            "_view_name": "HTMLView",
            "description": "",
            "description_tooltip": null,
            "layout": "IPY_MODEL_3d35881798014baea8aa8bdbb23b1412",
            "placeholder": "​",
            "style": "IPY_MODEL_877f2d3dc9c540069bb878f276d9966b",
            "value": "preprocessor_config.json: 100%"
          }
        },
        "d8d7ec8ebd994b758014166dc149522a": {
          "model_module": "@jupyter-widgets/controls",
          "model_name": "FloatProgressModel",
          "model_module_version": "1.5.0",
          "state": {
            "_dom_classes": [],
            "_model_module": "@jupyter-widgets/controls",
            "_model_module_version": "1.5.0",
            "_model_name": "FloatProgressModel",
            "_view_count": null,
            "_view_module": "@jupyter-widgets/controls",
            "_view_module_version": "1.5.0",
            "_view_name": "ProgressView",
            "bar_style": "success",
            "description": "",
            "description_tooltip": null,
            "layout": "IPY_MODEL_263400a11fa54483acdedc689045307f",
            "max": 159,
            "min": 0,
            "orientation": "horizontal",
            "style": "IPY_MODEL_41154f18ad064008bc3c963f122e2d14",
            "value": 159
          }
        },
        "f9b163a8519f43499e4b507f2df93757": {
          "model_module": "@jupyter-widgets/controls",
          "model_name": "HTMLModel",
          "model_module_version": "1.5.0",
          "state": {
            "_dom_classes": [],
            "_model_module": "@jupyter-widgets/controls",
            "_model_module_version": "1.5.0",
            "_model_name": "HTMLModel",
            "_view_count": null,
            "_view_module": "@jupyter-widgets/controls",
            "_view_module_version": "1.5.0",
            "_view_name": "HTMLView",
            "description": "",
            "description_tooltip": null,
            "layout": "IPY_MODEL_3c7c03cf28e24f6bb471534c94ffadca",
            "placeholder": "​",
            "style": "IPY_MODEL_d6d91f821d514854897eaaf9e140c33f",
            "value": " 159/159 [00:00&lt;00:00, 5.07kB/s]"
          }
        },
        "586d9247c6da489b85ca12d32cc7c9a9": {
          "model_module": "@jupyter-widgets/base",
          "model_name": "LayoutModel",
          "model_module_version": "1.2.0",
          "state": {
            "_model_module": "@jupyter-widgets/base",
            "_model_module_version": "1.2.0",
            "_model_name": "LayoutModel",
            "_view_count": null,
            "_view_module": "@jupyter-widgets/base",
            "_view_module_version": "1.2.0",
            "_view_name": "LayoutView",
            "align_content": null,
            "align_items": null,
            "align_self": null,
            "border": null,
            "bottom": null,
            "display": null,
            "flex": null,
            "flex_flow": null,
            "grid_area": null,
            "grid_auto_columns": null,
            "grid_auto_flow": null,
            "grid_auto_rows": null,
            "grid_column": null,
            "grid_gap": null,
            "grid_row": null,
            "grid_template_areas": null,
            "grid_template_columns": null,
            "grid_template_rows": null,
            "height": null,
            "justify_content": null,
            "justify_items": null,
            "left": null,
            "margin": null,
            "max_height": null,
            "max_width": null,
            "min_height": null,
            "min_width": null,
            "object_fit": null,
            "object_position": null,
            "order": null,
            "overflow": null,
            "overflow_x": null,
            "overflow_y": null,
            "padding": null,
            "right": null,
            "top": null,
            "visibility": null,
            "width": null
          }
        },
        "3d35881798014baea8aa8bdbb23b1412": {
          "model_module": "@jupyter-widgets/base",
          "model_name": "LayoutModel",
          "model_module_version": "1.2.0",
          "state": {
            "_model_module": "@jupyter-widgets/base",
            "_model_module_version": "1.2.0",
            "_model_name": "LayoutModel",
            "_view_count": null,
            "_view_module": "@jupyter-widgets/base",
            "_view_module_version": "1.2.0",
            "_view_name": "LayoutView",
            "align_content": null,
            "align_items": null,
            "align_self": null,
            "border": null,
            "bottom": null,
            "display": null,
            "flex": null,
            "flex_flow": null,
            "grid_area": null,
            "grid_auto_columns": null,
            "grid_auto_flow": null,
            "grid_auto_rows": null,
            "grid_column": null,
            "grid_gap": null,
            "grid_row": null,
            "grid_template_areas": null,
            "grid_template_columns": null,
            "grid_template_rows": null,
            "height": null,
            "justify_content": null,
            "justify_items": null,
            "left": null,
            "margin": null,
            "max_height": null,
            "max_width": null,
            "min_height": null,
            "min_width": null,
            "object_fit": null,
            "object_position": null,
            "order": null,
            "overflow": null,
            "overflow_x": null,
            "overflow_y": null,
            "padding": null,
            "right": null,
            "top": null,
            "visibility": null,
            "width": null
          }
        },
        "877f2d3dc9c540069bb878f276d9966b": {
          "model_module": "@jupyter-widgets/controls",
          "model_name": "DescriptionStyleModel",
          "model_module_version": "1.5.0",
          "state": {
            "_model_module": "@jupyter-widgets/controls",
            "_model_module_version": "1.5.0",
            "_model_name": "DescriptionStyleModel",
            "_view_count": null,
            "_view_module": "@jupyter-widgets/base",
            "_view_module_version": "1.2.0",
            "_view_name": "StyleView",
            "description_width": ""
          }
        },
        "263400a11fa54483acdedc689045307f": {
          "model_module": "@jupyter-widgets/base",
          "model_name": "LayoutModel",
          "model_module_version": "1.2.0",
          "state": {
            "_model_module": "@jupyter-widgets/base",
            "_model_module_version": "1.2.0",
            "_model_name": "LayoutModel",
            "_view_count": null,
            "_view_module": "@jupyter-widgets/base",
            "_view_module_version": "1.2.0",
            "_view_name": "LayoutView",
            "align_content": null,
            "align_items": null,
            "align_self": null,
            "border": null,
            "bottom": null,
            "display": null,
            "flex": null,
            "flex_flow": null,
            "grid_area": null,
            "grid_auto_columns": null,
            "grid_auto_flow": null,
            "grid_auto_rows": null,
            "grid_column": null,
            "grid_gap": null,
            "grid_row": null,
            "grid_template_areas": null,
            "grid_template_columns": null,
            "grid_template_rows": null,
            "height": null,
            "justify_content": null,
            "justify_items": null,
            "left": null,
            "margin": null,
            "max_height": null,
            "max_width": null,
            "min_height": null,
            "min_width": null,
            "object_fit": null,
            "object_position": null,
            "order": null,
            "overflow": null,
            "overflow_x": null,
            "overflow_y": null,
            "padding": null,
            "right": null,
            "top": null,
            "visibility": null,
            "width": null
          }
        },
        "41154f18ad064008bc3c963f122e2d14": {
          "model_module": "@jupyter-widgets/controls",
          "model_name": "ProgressStyleModel",
          "model_module_version": "1.5.0",
          "state": {
            "_model_module": "@jupyter-widgets/controls",
            "_model_module_version": "1.5.0",
            "_model_name": "ProgressStyleModel",
            "_view_count": null,
            "_view_module": "@jupyter-widgets/base",
            "_view_module_version": "1.2.0",
            "_view_name": "StyleView",
            "bar_color": null,
            "description_width": ""
          }
        },
        "3c7c03cf28e24f6bb471534c94ffadca": {
          "model_module": "@jupyter-widgets/base",
          "model_name": "LayoutModel",
          "model_module_version": "1.2.0",
          "state": {
            "_model_module": "@jupyter-widgets/base",
            "_model_module_version": "1.2.0",
            "_model_name": "LayoutModel",
            "_view_count": null,
            "_view_module": "@jupyter-widgets/base",
            "_view_module_version": "1.2.0",
            "_view_name": "LayoutView",
            "align_content": null,
            "align_items": null,
            "align_self": null,
            "border": null,
            "bottom": null,
            "display": null,
            "flex": null,
            "flex_flow": null,
            "grid_area": null,
            "grid_auto_columns": null,
            "grid_auto_flow": null,
            "grid_auto_rows": null,
            "grid_column": null,
            "grid_gap": null,
            "grid_row": null,
            "grid_template_areas": null,
            "grid_template_columns": null,
            "grid_template_rows": null,
            "height": null,
            "justify_content": null,
            "justify_items": null,
            "left": null,
            "margin": null,
            "max_height": null,
            "max_width": null,
            "min_height": null,
            "min_width": null,
            "object_fit": null,
            "object_position": null,
            "order": null,
            "overflow": null,
            "overflow_x": null,
            "overflow_y": null,
            "padding": null,
            "right": null,
            "top": null,
            "visibility": null,
            "width": null
          }
        },
        "d6d91f821d514854897eaaf9e140c33f": {
          "model_module": "@jupyter-widgets/controls",
          "model_name": "DescriptionStyleModel",
          "model_module_version": "1.5.0",
          "state": {
            "_model_module": "@jupyter-widgets/controls",
            "_model_module_version": "1.5.0",
            "_model_name": "DescriptionStyleModel",
            "_view_count": null,
            "_view_module": "@jupyter-widgets/base",
            "_view_module_version": "1.2.0",
            "_view_name": "StyleView",
            "description_width": ""
          }
        },
        "60926a43ffda4a2d9000a6a908ae3414": {
          "model_module": "@jupyter-widgets/controls",
          "model_name": "HBoxModel",
          "model_module_version": "1.5.0",
          "state": {
            "_dom_classes": [],
            "_model_module": "@jupyter-widgets/controls",
            "_model_module_version": "1.5.0",
            "_model_name": "HBoxModel",
            "_view_count": null,
            "_view_module": "@jupyter-widgets/controls",
            "_view_module_version": "1.5.0",
            "_view_name": "HBoxView",
            "box_style": "",
            "children": [
              "IPY_MODEL_87fd9552878d4a02831415231215a81b",
              "IPY_MODEL_9fdc6c17c0fb48168762b521d8443cdf",
              "IPY_MODEL_128bb50ba4814dab89a7b09d1872298a"
            ],
            "layout": "IPY_MODEL_302f453886ee47c2b51dae5ef9f7ff88"
          }
        },
        "87fd9552878d4a02831415231215a81b": {
          "model_module": "@jupyter-widgets/controls",
          "model_name": "HTMLModel",
          "model_module_version": "1.5.0",
          "state": {
            "_dom_classes": [],
            "_model_module": "@jupyter-widgets/controls",
            "_model_module_version": "1.5.0",
            "_model_name": "HTMLModel",
            "_view_count": null,
            "_view_module": "@jupyter-widgets/controls",
            "_view_module_version": "1.5.0",
            "_view_name": "HTMLView",
            "description": "",
            "description_tooltip": null,
            "layout": "IPY_MODEL_216b0d18a9cc47b99a03fbaa3620b78e",
            "placeholder": "​",
            "style": "IPY_MODEL_6aa161b2cf044f539124cd60acb7b4c3",
            "value": "tokenizer_config.json: 100%"
          }
        },
        "9fdc6c17c0fb48168762b521d8443cdf": {
          "model_module": "@jupyter-widgets/controls",
          "model_name": "FloatProgressModel",
          "model_module_version": "1.5.0",
          "state": {
            "_dom_classes": [],
            "_model_module": "@jupyter-widgets/controls",
            "_model_module_version": "1.5.0",
            "_model_name": "FloatProgressModel",
            "_view_count": null,
            "_view_module": "@jupyter-widgets/controls",
            "_view_module_version": "1.5.0",
            "_view_name": "ProgressView",
            "bar_style": "success",
            "description": "",
            "description_tooltip": null,
            "layout": "IPY_MODEL_ffc926671ce14b84a7665ba97333c577",
            "max": 163,
            "min": 0,
            "orientation": "horizontal",
            "style": "IPY_MODEL_5e84837c49e649578ec258610cbff398",
            "value": 163
          }
        },
        "128bb50ba4814dab89a7b09d1872298a": {
          "model_module": "@jupyter-widgets/controls",
          "model_name": "HTMLModel",
          "model_module_version": "1.5.0",
          "state": {
            "_dom_classes": [],
            "_model_module": "@jupyter-widgets/controls",
            "_model_module_version": "1.5.0",
            "_model_name": "HTMLModel",
            "_view_count": null,
            "_view_module": "@jupyter-widgets/controls",
            "_view_module_version": "1.5.0",
            "_view_name": "HTMLView",
            "description": "",
            "description_tooltip": null,
            "layout": "IPY_MODEL_6ac64d6c7d4d4ef7a5180eb9d372e237",
            "placeholder": "​",
            "style": "IPY_MODEL_368f1ea1dbf64b11aa3de7b1d1277850",
            "value": " 163/163 [00:00&lt;00:00, 5.21kB/s]"
          }
        },
        "302f453886ee47c2b51dae5ef9f7ff88": {
          "model_module": "@jupyter-widgets/base",
          "model_name": "LayoutModel",
          "model_module_version": "1.2.0",
          "state": {
            "_model_module": "@jupyter-widgets/base",
            "_model_module_version": "1.2.0",
            "_model_name": "LayoutModel",
            "_view_count": null,
            "_view_module": "@jupyter-widgets/base",
            "_view_module_version": "1.2.0",
            "_view_name": "LayoutView",
            "align_content": null,
            "align_items": null,
            "align_self": null,
            "border": null,
            "bottom": null,
            "display": null,
            "flex": null,
            "flex_flow": null,
            "grid_area": null,
            "grid_auto_columns": null,
            "grid_auto_flow": null,
            "grid_auto_rows": null,
            "grid_column": null,
            "grid_gap": null,
            "grid_row": null,
            "grid_template_areas": null,
            "grid_template_columns": null,
            "grid_template_rows": null,
            "height": null,
            "justify_content": null,
            "justify_items": null,
            "left": null,
            "margin": null,
            "max_height": null,
            "max_width": null,
            "min_height": null,
            "min_width": null,
            "object_fit": null,
            "object_position": null,
            "order": null,
            "overflow": null,
            "overflow_x": null,
            "overflow_y": null,
            "padding": null,
            "right": null,
            "top": null,
            "visibility": null,
            "width": null
          }
        },
        "216b0d18a9cc47b99a03fbaa3620b78e": {
          "model_module": "@jupyter-widgets/base",
          "model_name": "LayoutModel",
          "model_module_version": "1.2.0",
          "state": {
            "_model_module": "@jupyter-widgets/base",
            "_model_module_version": "1.2.0",
            "_model_name": "LayoutModel",
            "_view_count": null,
            "_view_module": "@jupyter-widgets/base",
            "_view_module_version": "1.2.0",
            "_view_name": "LayoutView",
            "align_content": null,
            "align_items": null,
            "align_self": null,
            "border": null,
            "bottom": null,
            "display": null,
            "flex": null,
            "flex_flow": null,
            "grid_area": null,
            "grid_auto_columns": null,
            "grid_auto_flow": null,
            "grid_auto_rows": null,
            "grid_column": null,
            "grid_gap": null,
            "grid_row": null,
            "grid_template_areas": null,
            "grid_template_columns": null,
            "grid_template_rows": null,
            "height": null,
            "justify_content": null,
            "justify_items": null,
            "left": null,
            "margin": null,
            "max_height": null,
            "max_width": null,
            "min_height": null,
            "min_width": null,
            "object_fit": null,
            "object_position": null,
            "order": null,
            "overflow": null,
            "overflow_x": null,
            "overflow_y": null,
            "padding": null,
            "right": null,
            "top": null,
            "visibility": null,
            "width": null
          }
        },
        "6aa161b2cf044f539124cd60acb7b4c3": {
          "model_module": "@jupyter-widgets/controls",
          "model_name": "DescriptionStyleModel",
          "model_module_version": "1.5.0",
          "state": {
            "_model_module": "@jupyter-widgets/controls",
            "_model_module_version": "1.5.0",
            "_model_name": "DescriptionStyleModel",
            "_view_count": null,
            "_view_module": "@jupyter-widgets/base",
            "_view_module_version": "1.2.0",
            "_view_name": "StyleView",
            "description_width": ""
          }
        },
        "ffc926671ce14b84a7665ba97333c577": {
          "model_module": "@jupyter-widgets/base",
          "model_name": "LayoutModel",
          "model_module_version": "1.2.0",
          "state": {
            "_model_module": "@jupyter-widgets/base",
            "_model_module_version": "1.2.0",
            "_model_name": "LayoutModel",
            "_view_count": null,
            "_view_module": "@jupyter-widgets/base",
            "_view_module_version": "1.2.0",
            "_view_name": "LayoutView",
            "align_content": null,
            "align_items": null,
            "align_self": null,
            "border": null,
            "bottom": null,
            "display": null,
            "flex": null,
            "flex_flow": null,
            "grid_area": null,
            "grid_auto_columns": null,
            "grid_auto_flow": null,
            "grid_auto_rows": null,
            "grid_column": null,
            "grid_gap": null,
            "grid_row": null,
            "grid_template_areas": null,
            "grid_template_columns": null,
            "grid_template_rows": null,
            "height": null,
            "justify_content": null,
            "justify_items": null,
            "left": null,
            "margin": null,
            "max_height": null,
            "max_width": null,
            "min_height": null,
            "min_width": null,
            "object_fit": null,
            "object_position": null,
            "order": null,
            "overflow": null,
            "overflow_x": null,
            "overflow_y": null,
            "padding": null,
            "right": null,
            "top": null,
            "visibility": null,
            "width": null
          }
        },
        "5e84837c49e649578ec258610cbff398": {
          "model_module": "@jupyter-widgets/controls",
          "model_name": "ProgressStyleModel",
          "model_module_version": "1.5.0",
          "state": {
            "_model_module": "@jupyter-widgets/controls",
            "_model_module_version": "1.5.0",
            "_model_name": "ProgressStyleModel",
            "_view_count": null,
            "_view_module": "@jupyter-widgets/base",
            "_view_module_version": "1.2.0",
            "_view_name": "StyleView",
            "bar_color": null,
            "description_width": ""
          }
        },
        "6ac64d6c7d4d4ef7a5180eb9d372e237": {
          "model_module": "@jupyter-widgets/base",
          "model_name": "LayoutModel",
          "model_module_version": "1.2.0",
          "state": {
            "_model_module": "@jupyter-widgets/base",
            "_model_module_version": "1.2.0",
            "_model_name": "LayoutModel",
            "_view_count": null,
            "_view_module": "@jupyter-widgets/base",
            "_view_module_version": "1.2.0",
            "_view_name": "LayoutView",
            "align_content": null,
            "align_items": null,
            "align_self": null,
            "border": null,
            "bottom": null,
            "display": null,
            "flex": null,
            "flex_flow": null,
            "grid_area": null,
            "grid_auto_columns": null,
            "grid_auto_flow": null,
            "grid_auto_rows": null,
            "grid_column": null,
            "grid_gap": null,
            "grid_row": null,
            "grid_template_areas": null,
            "grid_template_columns": null,
            "grid_template_rows": null,
            "height": null,
            "justify_content": null,
            "justify_items": null,
            "left": null,
            "margin": null,
            "max_height": null,
            "max_width": null,
            "min_height": null,
            "min_width": null,
            "object_fit": null,
            "object_position": null,
            "order": null,
            "overflow": null,
            "overflow_x": null,
            "overflow_y": null,
            "padding": null,
            "right": null,
            "top": null,
            "visibility": null,
            "width": null
          }
        },
        "368f1ea1dbf64b11aa3de7b1d1277850": {
          "model_module": "@jupyter-widgets/controls",
          "model_name": "DescriptionStyleModel",
          "model_module_version": "1.5.0",
          "state": {
            "_model_module": "@jupyter-widgets/controls",
            "_model_module_version": "1.5.0",
            "_model_name": "DescriptionStyleModel",
            "_view_count": null,
            "_view_module": "@jupyter-widgets/base",
            "_view_module_version": "1.2.0",
            "_view_name": "StyleView",
            "description_width": ""
          }
        },
        "41934270ce8a48a1afd362201c717e0c": {
          "model_module": "@jupyter-widgets/controls",
          "model_name": "HBoxModel",
          "model_module_version": "1.5.0",
          "state": {
            "_dom_classes": [],
            "_model_module": "@jupyter-widgets/controls",
            "_model_module_version": "1.5.0",
            "_model_name": "HBoxModel",
            "_view_count": null,
            "_view_module": "@jupyter-widgets/controls",
            "_view_module_version": "1.5.0",
            "_view_name": "HBoxView",
            "box_style": "",
            "children": [
              "IPY_MODEL_16f266c61dae4f6d9f9989e72f5a2416",
              "IPY_MODEL_6e8115e5c3a647348ccc5c01a47a06e6",
              "IPY_MODEL_bbb4b7593b5348daaf8a667a2a5ce31c"
            ],
            "layout": "IPY_MODEL_96396f9e91174b9da3281fa7ed226ff7"
          }
        },
        "16f266c61dae4f6d9f9989e72f5a2416": {
          "model_module": "@jupyter-widgets/controls",
          "model_name": "HTMLModel",
          "model_module_version": "1.5.0",
          "state": {
            "_dom_classes": [],
            "_model_module": "@jupyter-widgets/controls",
            "_model_module_version": "1.5.0",
            "_model_name": "HTMLModel",
            "_view_count": null,
            "_view_module": "@jupyter-widgets/controls",
            "_view_module_version": "1.5.0",
            "_view_name": "HTMLView",
            "description": "",
            "description_tooltip": null,
            "layout": "IPY_MODEL_adcdc94fce9b43fb907f1e5c966cf96a",
            "placeholder": "​",
            "style": "IPY_MODEL_f9c312fc40ff4eb6a851a999dd3dc500",
            "value": "config.json: "
          }
        },
        "6e8115e5c3a647348ccc5c01a47a06e6": {
          "model_module": "@jupyter-widgets/controls",
          "model_name": "FloatProgressModel",
          "model_module_version": "1.5.0",
          "state": {
            "_dom_classes": [],
            "_model_module": "@jupyter-widgets/controls",
            "_model_module_version": "1.5.0",
            "_model_name": "FloatProgressModel",
            "_view_count": null,
            "_view_module": "@jupyter-widgets/controls",
            "_view_module_version": "1.5.0",
            "_view_name": "ProgressView",
            "bar_style": "success",
            "description": "",
            "description_tooltip": null,
            "layout": "IPY_MODEL_731df761d2fc4700a813549c6b2f9052",
            "max": 1,
            "min": 0,
            "orientation": "horizontal",
            "style": "IPY_MODEL_948f44bdc4f4479ba256acfc9fe72a4b",
            "value": 1
          }
        },
        "bbb4b7593b5348daaf8a667a2a5ce31c": {
          "model_module": "@jupyter-widgets/controls",
          "model_name": "HTMLModel",
          "model_module_version": "1.5.0",
          "state": {
            "_dom_classes": [],
            "_model_module": "@jupyter-widgets/controls",
            "_model_module_version": "1.5.0",
            "_model_name": "HTMLModel",
            "_view_count": null,
            "_view_module": "@jupyter-widgets/controls",
            "_view_module_version": "1.5.0",
            "_view_name": "HTMLView",
            "description": "",
            "description_tooltip": null,
            "layout": "IPY_MODEL_053daa5456e64d30be98e21de55565df",
            "placeholder": "​",
            "style": "IPY_MODEL_c3d88d7b17714f3d914660a1d9e908a2",
            "value": " 1.60k/? [00:00&lt;00:00, 31.3kB/s]"
          }
        },
        "96396f9e91174b9da3281fa7ed226ff7": {
          "model_module": "@jupyter-widgets/base",
          "model_name": "LayoutModel",
          "model_module_version": "1.2.0",
          "state": {
            "_model_module": "@jupyter-widgets/base",
            "_model_module_version": "1.2.0",
            "_model_name": "LayoutModel",
            "_view_count": null,
            "_view_module": "@jupyter-widgets/base",
            "_view_module_version": "1.2.0",
            "_view_name": "LayoutView",
            "align_content": null,
            "align_items": null,
            "align_self": null,
            "border": null,
            "bottom": null,
            "display": null,
            "flex": null,
            "flex_flow": null,
            "grid_area": null,
            "grid_auto_columns": null,
            "grid_auto_flow": null,
            "grid_auto_rows": null,
            "grid_column": null,
            "grid_gap": null,
            "grid_row": null,
            "grid_template_areas": null,
            "grid_template_columns": null,
            "grid_template_rows": null,
            "height": null,
            "justify_content": null,
            "justify_items": null,
            "left": null,
            "margin": null,
            "max_height": null,
            "max_width": null,
            "min_height": null,
            "min_width": null,
            "object_fit": null,
            "object_position": null,
            "order": null,
            "overflow": null,
            "overflow_x": null,
            "overflow_y": null,
            "padding": null,
            "right": null,
            "top": null,
            "visibility": null,
            "width": null
          }
        },
        "adcdc94fce9b43fb907f1e5c966cf96a": {
          "model_module": "@jupyter-widgets/base",
          "model_name": "LayoutModel",
          "model_module_version": "1.2.0",
          "state": {
            "_model_module": "@jupyter-widgets/base",
            "_model_module_version": "1.2.0",
            "_model_name": "LayoutModel",
            "_view_count": null,
            "_view_module": "@jupyter-widgets/base",
            "_view_module_version": "1.2.0",
            "_view_name": "LayoutView",
            "align_content": null,
            "align_items": null,
            "align_self": null,
            "border": null,
            "bottom": null,
            "display": null,
            "flex": null,
            "flex_flow": null,
            "grid_area": null,
            "grid_auto_columns": null,
            "grid_auto_flow": null,
            "grid_auto_rows": null,
            "grid_column": null,
            "grid_gap": null,
            "grid_row": null,
            "grid_template_areas": null,
            "grid_template_columns": null,
            "grid_template_rows": null,
            "height": null,
            "justify_content": null,
            "justify_items": null,
            "left": null,
            "margin": null,
            "max_height": null,
            "max_width": null,
            "min_height": null,
            "min_width": null,
            "object_fit": null,
            "object_position": null,
            "order": null,
            "overflow": null,
            "overflow_x": null,
            "overflow_y": null,
            "padding": null,
            "right": null,
            "top": null,
            "visibility": null,
            "width": null
          }
        },
        "f9c312fc40ff4eb6a851a999dd3dc500": {
          "model_module": "@jupyter-widgets/controls",
          "model_name": "DescriptionStyleModel",
          "model_module_version": "1.5.0",
          "state": {
            "_model_module": "@jupyter-widgets/controls",
            "_model_module_version": "1.5.0",
            "_model_name": "DescriptionStyleModel",
            "_view_count": null,
            "_view_module": "@jupyter-widgets/base",
            "_view_module_version": "1.2.0",
            "_view_name": "StyleView",
            "description_width": ""
          }
        },
        "731df761d2fc4700a813549c6b2f9052": {
          "model_module": "@jupyter-widgets/base",
          "model_name": "LayoutModel",
          "model_module_version": "1.2.0",
          "state": {
            "_model_module": "@jupyter-widgets/base",
            "_model_module_version": "1.2.0",
            "_model_name": "LayoutModel",
            "_view_count": null,
            "_view_module": "@jupyter-widgets/base",
            "_view_module_version": "1.2.0",
            "_view_name": "LayoutView",
            "align_content": null,
            "align_items": null,
            "align_self": null,
            "border": null,
            "bottom": null,
            "display": null,
            "flex": null,
            "flex_flow": null,
            "grid_area": null,
            "grid_auto_columns": null,
            "grid_auto_flow": null,
            "grid_auto_rows": null,
            "grid_column": null,
            "grid_gap": null,
            "grid_row": null,
            "grid_template_areas": null,
            "grid_template_columns": null,
            "grid_template_rows": null,
            "height": null,
            "justify_content": null,
            "justify_items": null,
            "left": null,
            "margin": null,
            "max_height": null,
            "max_width": null,
            "min_height": null,
            "min_width": null,
            "object_fit": null,
            "object_position": null,
            "order": null,
            "overflow": null,
            "overflow_x": null,
            "overflow_y": null,
            "padding": null,
            "right": null,
            "top": null,
            "visibility": null,
            "width": "20px"
          }
        },
        "948f44bdc4f4479ba256acfc9fe72a4b": {
          "model_module": "@jupyter-widgets/controls",
          "model_name": "ProgressStyleModel",
          "model_module_version": "1.5.0",
          "state": {
            "_model_module": "@jupyter-widgets/controls",
            "_model_module_version": "1.5.0",
            "_model_name": "ProgressStyleModel",
            "_view_count": null,
            "_view_module": "@jupyter-widgets/base",
            "_view_module_version": "1.2.0",
            "_view_name": "StyleView",
            "bar_color": null,
            "description_width": ""
          }
        },
        "053daa5456e64d30be98e21de55565df": {
          "model_module": "@jupyter-widgets/base",
          "model_name": "LayoutModel",
          "model_module_version": "1.2.0",
          "state": {
            "_model_module": "@jupyter-widgets/base",
            "_model_module_version": "1.2.0",
            "_model_name": "LayoutModel",
            "_view_count": null,
            "_view_module": "@jupyter-widgets/base",
            "_view_module_version": "1.2.0",
            "_view_name": "LayoutView",
            "align_content": null,
            "align_items": null,
            "align_self": null,
            "border": null,
            "bottom": null,
            "display": null,
            "flex": null,
            "flex_flow": null,
            "grid_area": null,
            "grid_auto_columns": null,
            "grid_auto_flow": null,
            "grid_auto_rows": null,
            "grid_column": null,
            "grid_gap": null,
            "grid_row": null,
            "grid_template_areas": null,
            "grid_template_columns": null,
            "grid_template_rows": null,
            "height": null,
            "justify_content": null,
            "justify_items": null,
            "left": null,
            "margin": null,
            "max_height": null,
            "max_width": null,
            "min_height": null,
            "min_width": null,
            "object_fit": null,
            "object_position": null,
            "order": null,
            "overflow": null,
            "overflow_x": null,
            "overflow_y": null,
            "padding": null,
            "right": null,
            "top": null,
            "visibility": null,
            "width": null
          }
        },
        "c3d88d7b17714f3d914660a1d9e908a2": {
          "model_module": "@jupyter-widgets/controls",
          "model_name": "DescriptionStyleModel",
          "model_module_version": "1.5.0",
          "state": {
            "_model_module": "@jupyter-widgets/controls",
            "_model_module_version": "1.5.0",
            "_model_name": "DescriptionStyleModel",
            "_view_count": null,
            "_view_module": "@jupyter-widgets/base",
            "_view_module_version": "1.2.0",
            "_view_name": "StyleView",
            "description_width": ""
          }
        },
        "6bf720f97dae413eaf093b48e093b594": {
          "model_module": "@jupyter-widgets/controls",
          "model_name": "HBoxModel",
          "model_module_version": "1.5.0",
          "state": {
            "_dom_classes": [],
            "_model_module": "@jupyter-widgets/controls",
            "_model_module_version": "1.5.0",
            "_model_name": "HBoxModel",
            "_view_count": null,
            "_view_module": "@jupyter-widgets/controls",
            "_view_module_version": "1.5.0",
            "_view_name": "HBoxView",
            "box_style": "",
            "children": [
              "IPY_MODEL_76976b6f919d4b2a99e911c309fc8272",
              "IPY_MODEL_76df04c4e06f4534aaf60b4c5565bacd",
              "IPY_MODEL_05a591891a09444fa01d01e9b493718a"
            ],
            "layout": "IPY_MODEL_b7ec32395c7c40a4a27b3ad6223c7cbb"
          }
        },
        "76976b6f919d4b2a99e911c309fc8272": {
          "model_module": "@jupyter-widgets/controls",
          "model_name": "HTMLModel",
          "model_module_version": "1.5.0",
          "state": {
            "_dom_classes": [],
            "_model_module": "@jupyter-widgets/controls",
            "_model_module_version": "1.5.0",
            "_model_name": "HTMLModel",
            "_view_count": null,
            "_view_module": "@jupyter-widgets/controls",
            "_view_module_version": "1.5.0",
            "_view_name": "HTMLView",
            "description": "",
            "description_tooltip": null,
            "layout": "IPY_MODEL_7dc844718f8540f1a17239f097f64449",
            "placeholder": "​",
            "style": "IPY_MODEL_40703b62ed5541c0adcb24ed5c95c16e",
            "value": "vocab.json: 100%"
          }
        },
        "76df04c4e06f4534aaf60b4c5565bacd": {
          "model_module": "@jupyter-widgets/controls",
          "model_name": "FloatProgressModel",
          "model_module_version": "1.5.0",
          "state": {
            "_dom_classes": [],
            "_model_module": "@jupyter-widgets/controls",
            "_model_module_version": "1.5.0",
            "_model_name": "FloatProgressModel",
            "_view_count": null,
            "_view_module": "@jupyter-widgets/controls",
            "_view_module_version": "1.5.0",
            "_view_name": "ProgressView",
            "bar_style": "success",
            "description": "",
            "description_tooltip": null,
            "layout": "IPY_MODEL_f42dd517e76141319e76573f28087047",
            "max": 291,
            "min": 0,
            "orientation": "horizontal",
            "style": "IPY_MODEL_5944805def65400382e13f12aeba95b8",
            "value": 291
          }
        },
        "05a591891a09444fa01d01e9b493718a": {
          "model_module": "@jupyter-widgets/controls",
          "model_name": "HTMLModel",
          "model_module_version": "1.5.0",
          "state": {
            "_dom_classes": [],
            "_model_module": "@jupyter-widgets/controls",
            "_model_module_version": "1.5.0",
            "_model_name": "HTMLModel",
            "_view_count": null,
            "_view_module": "@jupyter-widgets/controls",
            "_view_module_version": "1.5.0",
            "_view_name": "HTMLView",
            "description": "",
            "description_tooltip": null,
            "layout": "IPY_MODEL_8ca0a4c88479453b842b211fd1cc95c5",
            "placeholder": "​",
            "style": "IPY_MODEL_3577c37be66d441da8907006ae6fa4f9",
            "value": " 291/291 [00:00&lt;00:00, 13.0kB/s]"
          }
        },
        "b7ec32395c7c40a4a27b3ad6223c7cbb": {
          "model_module": "@jupyter-widgets/base",
          "model_name": "LayoutModel",
          "model_module_version": "1.2.0",
          "state": {
            "_model_module": "@jupyter-widgets/base",
            "_model_module_version": "1.2.0",
            "_model_name": "LayoutModel",
            "_view_count": null,
            "_view_module": "@jupyter-widgets/base",
            "_view_module_version": "1.2.0",
            "_view_name": "LayoutView",
            "align_content": null,
            "align_items": null,
            "align_self": null,
            "border": null,
            "bottom": null,
            "display": null,
            "flex": null,
            "flex_flow": null,
            "grid_area": null,
            "grid_auto_columns": null,
            "grid_auto_flow": null,
            "grid_auto_rows": null,
            "grid_column": null,
            "grid_gap": null,
            "grid_row": null,
            "grid_template_areas": null,
            "grid_template_columns": null,
            "grid_template_rows": null,
            "height": null,
            "justify_content": null,
            "justify_items": null,
            "left": null,
            "margin": null,
            "max_height": null,
            "max_width": null,
            "min_height": null,
            "min_width": null,
            "object_fit": null,
            "object_position": null,
            "order": null,
            "overflow": null,
            "overflow_x": null,
            "overflow_y": null,
            "padding": null,
            "right": null,
            "top": null,
            "visibility": null,
            "width": null
          }
        },
        "7dc844718f8540f1a17239f097f64449": {
          "model_module": "@jupyter-widgets/base",
          "model_name": "LayoutModel",
          "model_module_version": "1.2.0",
          "state": {
            "_model_module": "@jupyter-widgets/base",
            "_model_module_version": "1.2.0",
            "_model_name": "LayoutModel",
            "_view_count": null,
            "_view_module": "@jupyter-widgets/base",
            "_view_module_version": "1.2.0",
            "_view_name": "LayoutView",
            "align_content": null,
            "align_items": null,
            "align_self": null,
            "border": null,
            "bottom": null,
            "display": null,
            "flex": null,
            "flex_flow": null,
            "grid_area": null,
            "grid_auto_columns": null,
            "grid_auto_flow": null,
            "grid_auto_rows": null,
            "grid_column": null,
            "grid_gap": null,
            "grid_row": null,
            "grid_template_areas": null,
            "grid_template_columns": null,
            "grid_template_rows": null,
            "height": null,
            "justify_content": null,
            "justify_items": null,
            "left": null,
            "margin": null,
            "max_height": null,
            "max_width": null,
            "min_height": null,
            "min_width": null,
            "object_fit": null,
            "object_position": null,
            "order": null,
            "overflow": null,
            "overflow_x": null,
            "overflow_y": null,
            "padding": null,
            "right": null,
            "top": null,
            "visibility": null,
            "width": null
          }
        },
        "40703b62ed5541c0adcb24ed5c95c16e": {
          "model_module": "@jupyter-widgets/controls",
          "model_name": "DescriptionStyleModel",
          "model_module_version": "1.5.0",
          "state": {
            "_model_module": "@jupyter-widgets/controls",
            "_model_module_version": "1.5.0",
            "_model_name": "DescriptionStyleModel",
            "_view_count": null,
            "_view_module": "@jupyter-widgets/base",
            "_view_module_version": "1.2.0",
            "_view_name": "StyleView",
            "description_width": ""
          }
        },
        "f42dd517e76141319e76573f28087047": {
          "model_module": "@jupyter-widgets/base",
          "model_name": "LayoutModel",
          "model_module_version": "1.2.0",
          "state": {
            "_model_module": "@jupyter-widgets/base",
            "_model_module_version": "1.2.0",
            "_model_name": "LayoutModel",
            "_view_count": null,
            "_view_module": "@jupyter-widgets/base",
            "_view_module_version": "1.2.0",
            "_view_name": "LayoutView",
            "align_content": null,
            "align_items": null,
            "align_self": null,
            "border": null,
            "bottom": null,
            "display": null,
            "flex": null,
            "flex_flow": null,
            "grid_area": null,
            "grid_auto_columns": null,
            "grid_auto_flow": null,
            "grid_auto_rows": null,
            "grid_column": null,
            "grid_gap": null,
            "grid_row": null,
            "grid_template_areas": null,
            "grid_template_columns": null,
            "grid_template_rows": null,
            "height": null,
            "justify_content": null,
            "justify_items": null,
            "left": null,
            "margin": null,
            "max_height": null,
            "max_width": null,
            "min_height": null,
            "min_width": null,
            "object_fit": null,
            "object_position": null,
            "order": null,
            "overflow": null,
            "overflow_x": null,
            "overflow_y": null,
            "padding": null,
            "right": null,
            "top": null,
            "visibility": null,
            "width": null
          }
        },
        "5944805def65400382e13f12aeba95b8": {
          "model_module": "@jupyter-widgets/controls",
          "model_name": "ProgressStyleModel",
          "model_module_version": "1.5.0",
          "state": {
            "_model_module": "@jupyter-widgets/controls",
            "_model_module_version": "1.5.0",
            "_model_name": "ProgressStyleModel",
            "_view_count": null,
            "_view_module": "@jupyter-widgets/base",
            "_view_module_version": "1.2.0",
            "_view_name": "StyleView",
            "bar_color": null,
            "description_width": ""
          }
        },
        "8ca0a4c88479453b842b211fd1cc95c5": {
          "model_module": "@jupyter-widgets/base",
          "model_name": "LayoutModel",
          "model_module_version": "1.2.0",
          "state": {
            "_model_module": "@jupyter-widgets/base",
            "_model_module_version": "1.2.0",
            "_model_name": "LayoutModel",
            "_view_count": null,
            "_view_module": "@jupyter-widgets/base",
            "_view_module_version": "1.2.0",
            "_view_name": "LayoutView",
            "align_content": null,
            "align_items": null,
            "align_self": null,
            "border": null,
            "bottom": null,
            "display": null,
            "flex": null,
            "flex_flow": null,
            "grid_area": null,
            "grid_auto_columns": null,
            "grid_auto_flow": null,
            "grid_auto_rows": null,
            "grid_column": null,
            "grid_gap": null,
            "grid_row": null,
            "grid_template_areas": null,
            "grid_template_columns": null,
            "grid_template_rows": null,
            "height": null,
            "justify_content": null,
            "justify_items": null,
            "left": null,
            "margin": null,
            "max_height": null,
            "max_width": null,
            "min_height": null,
            "min_width": null,
            "object_fit": null,
            "object_position": null,
            "order": null,
            "overflow": null,
            "overflow_x": null,
            "overflow_y": null,
            "padding": null,
            "right": null,
            "top": null,
            "visibility": null,
            "width": null
          }
        },
        "3577c37be66d441da8907006ae6fa4f9": {
          "model_module": "@jupyter-widgets/controls",
          "model_name": "DescriptionStyleModel",
          "model_module_version": "1.5.0",
          "state": {
            "_model_module": "@jupyter-widgets/controls",
            "_model_module_version": "1.5.0",
            "_model_name": "DescriptionStyleModel",
            "_view_count": null,
            "_view_module": "@jupyter-widgets/base",
            "_view_module_version": "1.2.0",
            "_view_name": "StyleView",
            "description_width": ""
          }
        },
        "09918948f73c4989b099051a6fbc090b": {
          "model_module": "@jupyter-widgets/controls",
          "model_name": "HBoxModel",
          "model_module_version": "1.5.0",
          "state": {
            "_dom_classes": [],
            "_model_module": "@jupyter-widgets/controls",
            "_model_module_version": "1.5.0",
            "_model_name": "HBoxModel",
            "_view_count": null,
            "_view_module": "@jupyter-widgets/controls",
            "_view_module_version": "1.5.0",
            "_view_name": "HBoxView",
            "box_style": "",
            "children": [
              "IPY_MODEL_eaf79d1db927464f915eab2bfc64632a",
              "IPY_MODEL_13f6a5d375d14c5ba2e376c93125016e",
              "IPY_MODEL_71edd4b7e2274fa793ecd9fde8d70840"
            ],
            "layout": "IPY_MODEL_3efb542f133f45c99ff4b040f5d647da"
          }
        },
        "eaf79d1db927464f915eab2bfc64632a": {
          "model_module": "@jupyter-widgets/controls",
          "model_name": "HTMLModel",
          "model_module_version": "1.5.0",
          "state": {
            "_dom_classes": [],
            "_model_module": "@jupyter-widgets/controls",
            "_model_module_version": "1.5.0",
            "_model_name": "HTMLModel",
            "_view_count": null,
            "_view_module": "@jupyter-widgets/controls",
            "_view_module_version": "1.5.0",
            "_view_name": "HTMLView",
            "description": "",
            "description_tooltip": null,
            "layout": "IPY_MODEL_7ba81d8e8e5b453082678576dff53062",
            "placeholder": "​",
            "style": "IPY_MODEL_83d29e415dbe47c79ad9e18836815ac9",
            "value": "special_tokens_map.json: 100%"
          }
        },
        "13f6a5d375d14c5ba2e376c93125016e": {
          "model_module": "@jupyter-widgets/controls",
          "model_name": "FloatProgressModel",
          "model_module_version": "1.5.0",
          "state": {
            "_dom_classes": [],
            "_model_module": "@jupyter-widgets/controls",
            "_model_module_version": "1.5.0",
            "_model_name": "FloatProgressModel",
            "_view_count": null,
            "_view_module": "@jupyter-widgets/controls",
            "_view_module_version": "1.5.0",
            "_view_name": "ProgressView",
            "bar_style": "success",
            "description": "",
            "description_tooltip": null,
            "layout": "IPY_MODEL_4786459ead8247c485fdc1df6c3ecb65",
            "max": 85,
            "min": 0,
            "orientation": "horizontal",
            "style": "IPY_MODEL_052648e9639541c2a05e541b20ef64cf",
            "value": 85
          }
        },
        "71edd4b7e2274fa793ecd9fde8d70840": {
          "model_module": "@jupyter-widgets/controls",
          "model_name": "HTMLModel",
          "model_module_version": "1.5.0",
          "state": {
            "_dom_classes": [],
            "_model_module": "@jupyter-widgets/controls",
            "_model_module_version": "1.5.0",
            "_model_name": "HTMLModel",
            "_view_count": null,
            "_view_module": "@jupyter-widgets/controls",
            "_view_module_version": "1.5.0",
            "_view_name": "HTMLView",
            "description": "",
            "description_tooltip": null,
            "layout": "IPY_MODEL_72d65708301e4a67a03b82da8f4a8e06",
            "placeholder": "​",
            "style": "IPY_MODEL_9dfd649e602145d5b027ff34e65bc030",
            "value": " 85.0/85.0 [00:00&lt;00:00, 4.28kB/s]"
          }
        },
        "3efb542f133f45c99ff4b040f5d647da": {
          "model_module": "@jupyter-widgets/base",
          "model_name": "LayoutModel",
          "model_module_version": "1.2.0",
          "state": {
            "_model_module": "@jupyter-widgets/base",
            "_model_module_version": "1.2.0",
            "_model_name": "LayoutModel",
            "_view_count": null,
            "_view_module": "@jupyter-widgets/base",
            "_view_module_version": "1.2.0",
            "_view_name": "LayoutView",
            "align_content": null,
            "align_items": null,
            "align_self": null,
            "border": null,
            "bottom": null,
            "display": null,
            "flex": null,
            "flex_flow": null,
            "grid_area": null,
            "grid_auto_columns": null,
            "grid_auto_flow": null,
            "grid_auto_rows": null,
            "grid_column": null,
            "grid_gap": null,
            "grid_row": null,
            "grid_template_areas": null,
            "grid_template_columns": null,
            "grid_template_rows": null,
            "height": null,
            "justify_content": null,
            "justify_items": null,
            "left": null,
            "margin": null,
            "max_height": null,
            "max_width": null,
            "min_height": null,
            "min_width": null,
            "object_fit": null,
            "object_position": null,
            "order": null,
            "overflow": null,
            "overflow_x": null,
            "overflow_y": null,
            "padding": null,
            "right": null,
            "top": null,
            "visibility": null,
            "width": null
          }
        },
        "7ba81d8e8e5b453082678576dff53062": {
          "model_module": "@jupyter-widgets/base",
          "model_name": "LayoutModel",
          "model_module_version": "1.2.0",
          "state": {
            "_model_module": "@jupyter-widgets/base",
            "_model_module_version": "1.2.0",
            "_model_name": "LayoutModel",
            "_view_count": null,
            "_view_module": "@jupyter-widgets/base",
            "_view_module_version": "1.2.0",
            "_view_name": "LayoutView",
            "align_content": null,
            "align_items": null,
            "align_self": null,
            "border": null,
            "bottom": null,
            "display": null,
            "flex": null,
            "flex_flow": null,
            "grid_area": null,
            "grid_auto_columns": null,
            "grid_auto_flow": null,
            "grid_auto_rows": null,
            "grid_column": null,
            "grid_gap": null,
            "grid_row": null,
            "grid_template_areas": null,
            "grid_template_columns": null,
            "grid_template_rows": null,
            "height": null,
            "justify_content": null,
            "justify_items": null,
            "left": null,
            "margin": null,
            "max_height": null,
            "max_width": null,
            "min_height": null,
            "min_width": null,
            "object_fit": null,
            "object_position": null,
            "order": null,
            "overflow": null,
            "overflow_x": null,
            "overflow_y": null,
            "padding": null,
            "right": null,
            "top": null,
            "visibility": null,
            "width": null
          }
        },
        "83d29e415dbe47c79ad9e18836815ac9": {
          "model_module": "@jupyter-widgets/controls",
          "model_name": "DescriptionStyleModel",
          "model_module_version": "1.5.0",
          "state": {
            "_model_module": "@jupyter-widgets/controls",
            "_model_module_version": "1.5.0",
            "_model_name": "DescriptionStyleModel",
            "_view_count": null,
            "_view_module": "@jupyter-widgets/base",
            "_view_module_version": "1.2.0",
            "_view_name": "StyleView",
            "description_width": ""
          }
        },
        "4786459ead8247c485fdc1df6c3ecb65": {
          "model_module": "@jupyter-widgets/base",
          "model_name": "LayoutModel",
          "model_module_version": "1.2.0",
          "state": {
            "_model_module": "@jupyter-widgets/base",
            "_model_module_version": "1.2.0",
            "_model_name": "LayoutModel",
            "_view_count": null,
            "_view_module": "@jupyter-widgets/base",
            "_view_module_version": "1.2.0",
            "_view_name": "LayoutView",
            "align_content": null,
            "align_items": null,
            "align_self": null,
            "border": null,
            "bottom": null,
            "display": null,
            "flex": null,
            "flex_flow": null,
            "grid_area": null,
            "grid_auto_columns": null,
            "grid_auto_flow": null,
            "grid_auto_rows": null,
            "grid_column": null,
            "grid_gap": null,
            "grid_row": null,
            "grid_template_areas": null,
            "grid_template_columns": null,
            "grid_template_rows": null,
            "height": null,
            "justify_content": null,
            "justify_items": null,
            "left": null,
            "margin": null,
            "max_height": null,
            "max_width": null,
            "min_height": null,
            "min_width": null,
            "object_fit": null,
            "object_position": null,
            "order": null,
            "overflow": null,
            "overflow_x": null,
            "overflow_y": null,
            "padding": null,
            "right": null,
            "top": null,
            "visibility": null,
            "width": null
          }
        },
        "052648e9639541c2a05e541b20ef64cf": {
          "model_module": "@jupyter-widgets/controls",
          "model_name": "ProgressStyleModel",
          "model_module_version": "1.5.0",
          "state": {
            "_model_module": "@jupyter-widgets/controls",
            "_model_module_version": "1.5.0",
            "_model_name": "ProgressStyleModel",
            "_view_count": null,
            "_view_module": "@jupyter-widgets/base",
            "_view_module_version": "1.2.0",
            "_view_name": "StyleView",
            "bar_color": null,
            "description_width": ""
          }
        },
        "72d65708301e4a67a03b82da8f4a8e06": {
          "model_module": "@jupyter-widgets/base",
          "model_name": "LayoutModel",
          "model_module_version": "1.2.0",
          "state": {
            "_model_module": "@jupyter-widgets/base",
            "_model_module_version": "1.2.0",
            "_model_name": "LayoutModel",
            "_view_count": null,
            "_view_module": "@jupyter-widgets/base",
            "_view_module_version": "1.2.0",
            "_view_name": "LayoutView",
            "align_content": null,
            "align_items": null,
            "align_self": null,
            "border": null,
            "bottom": null,
            "display": null,
            "flex": null,
            "flex_flow": null,
            "grid_area": null,
            "grid_auto_columns": null,
            "grid_auto_flow": null,
            "grid_auto_rows": null,
            "grid_column": null,
            "grid_gap": null,
            "grid_row": null,
            "grid_template_areas": null,
            "grid_template_columns": null,
            "grid_template_rows": null,
            "height": null,
            "justify_content": null,
            "justify_items": null,
            "left": null,
            "margin": null,
            "max_height": null,
            "max_width": null,
            "min_height": null,
            "min_width": null,
            "object_fit": null,
            "object_position": null,
            "order": null,
            "overflow": null,
            "overflow_x": null,
            "overflow_y": null,
            "padding": null,
            "right": null,
            "top": null,
            "visibility": null,
            "width": null
          }
        },
        "9dfd649e602145d5b027ff34e65bc030": {
          "model_module": "@jupyter-widgets/controls",
          "model_name": "DescriptionStyleModel",
          "model_module_version": "1.5.0",
          "state": {
            "_model_module": "@jupyter-widgets/controls",
            "_model_module_version": "1.5.0",
            "_model_name": "DescriptionStyleModel",
            "_view_count": null,
            "_view_module": "@jupyter-widgets/base",
            "_view_module_version": "1.2.0",
            "_view_name": "StyleView",
            "description_width": ""
          }
        },
        "396345e9dba64a52bc05e76ca59519f9": {
          "model_module": "@jupyter-widgets/controls",
          "model_name": "HBoxModel",
          "model_module_version": "1.5.0",
          "state": {
            "_dom_classes": [],
            "_model_module": "@jupyter-widgets/controls",
            "_model_module_version": "1.5.0",
            "_model_name": "HBoxModel",
            "_view_count": null,
            "_view_module": "@jupyter-widgets/controls",
            "_view_module_version": "1.5.0",
            "_view_name": "HBoxView",
            "box_style": "",
            "children": [
              "IPY_MODEL_2de474e66d484c9d8081a6e5087e0481",
              "IPY_MODEL_08523c7faa19468a942e08b41f8b8373",
              "IPY_MODEL_7ba91f1c42c64aa3850ed7acecb3a598"
            ],
            "layout": "IPY_MODEL_75362d3d41fb4a37b265fdddc12db616"
          }
        },
        "2de474e66d484c9d8081a6e5087e0481": {
          "model_module": "@jupyter-widgets/controls",
          "model_name": "HTMLModel",
          "model_module_version": "1.5.0",
          "state": {
            "_dom_classes": [],
            "_model_module": "@jupyter-widgets/controls",
            "_model_module_version": "1.5.0",
            "_model_name": "HTMLModel",
            "_view_count": null,
            "_view_module": "@jupyter-widgets/controls",
            "_view_module_version": "1.5.0",
            "_view_name": "HTMLView",
            "description": "",
            "description_tooltip": null,
            "layout": "IPY_MODEL_cc949bb269694203a0519bc239670b89",
            "placeholder": "​",
            "style": "IPY_MODEL_b03501edb0c34dc5a23bb67d23b1f739",
            "value": "model.safetensors: 100%"
          }
        },
        "08523c7faa19468a942e08b41f8b8373": {
          "model_module": "@jupyter-widgets/controls",
          "model_name": "FloatProgressModel",
          "model_module_version": "1.5.0",
          "state": {
            "_dom_classes": [],
            "_model_module": "@jupyter-widgets/controls",
            "_model_module_version": "1.5.0",
            "_model_name": "FloatProgressModel",
            "_view_count": null,
            "_view_module": "@jupyter-widgets/controls",
            "_view_module_version": "1.5.0",
            "_view_name": "ProgressView",
            "bar_style": "success",
            "description": "",
            "description_tooltip": null,
            "layout": "IPY_MODEL_77ab02757cff450b895bfd39cf1d0b1c",
            "max": 377607901,
            "min": 0,
            "orientation": "horizontal",
            "style": "IPY_MODEL_8be5375c3493439d83f3d7c047f1644c",
            "value": 377607901
          }
        },
        "7ba91f1c42c64aa3850ed7acecb3a598": {
          "model_module": "@jupyter-widgets/controls",
          "model_name": "HTMLModel",
          "model_module_version": "1.5.0",
          "state": {
            "_dom_classes": [],
            "_model_module": "@jupyter-widgets/controls",
            "_model_module_version": "1.5.0",
            "_model_name": "HTMLModel",
            "_view_count": null,
            "_view_module": "@jupyter-widgets/controls",
            "_view_module_version": "1.5.0",
            "_view_name": "HTMLView",
            "description": "",
            "description_tooltip": null,
            "layout": "IPY_MODEL_2bb73f32a1a944d8a67c65f913a5a70e",
            "placeholder": "​",
            "style": "IPY_MODEL_5348485c733a4788953fa0dad4d298ca",
            "value": " 378M/378M [00:07&lt;00:00, 38.8MB/s]"
          }
        },
        "75362d3d41fb4a37b265fdddc12db616": {
          "model_module": "@jupyter-widgets/base",
          "model_name": "LayoutModel",
          "model_module_version": "1.2.0",
          "state": {
            "_model_module": "@jupyter-widgets/base",
            "_model_module_version": "1.2.0",
            "_model_name": "LayoutModel",
            "_view_count": null,
            "_view_module": "@jupyter-widgets/base",
            "_view_module_version": "1.2.0",
            "_view_name": "LayoutView",
            "align_content": null,
            "align_items": null,
            "align_self": null,
            "border": null,
            "bottom": null,
            "display": null,
            "flex": null,
            "flex_flow": null,
            "grid_area": null,
            "grid_auto_columns": null,
            "grid_auto_flow": null,
            "grid_auto_rows": null,
            "grid_column": null,
            "grid_gap": null,
            "grid_row": null,
            "grid_template_areas": null,
            "grid_template_columns": null,
            "grid_template_rows": null,
            "height": null,
            "justify_content": null,
            "justify_items": null,
            "left": null,
            "margin": null,
            "max_height": null,
            "max_width": null,
            "min_height": null,
            "min_width": null,
            "object_fit": null,
            "object_position": null,
            "order": null,
            "overflow": null,
            "overflow_x": null,
            "overflow_y": null,
            "padding": null,
            "right": null,
            "top": null,
            "visibility": null,
            "width": null
          }
        },
        "cc949bb269694203a0519bc239670b89": {
          "model_module": "@jupyter-widgets/base",
          "model_name": "LayoutModel",
          "model_module_version": "1.2.0",
          "state": {
            "_model_module": "@jupyter-widgets/base",
            "_model_module_version": "1.2.0",
            "_model_name": "LayoutModel",
            "_view_count": null,
            "_view_module": "@jupyter-widgets/base",
            "_view_module_version": "1.2.0",
            "_view_name": "LayoutView",
            "align_content": null,
            "align_items": null,
            "align_self": null,
            "border": null,
            "bottom": null,
            "display": null,
            "flex": null,
            "flex_flow": null,
            "grid_area": null,
            "grid_auto_columns": null,
            "grid_auto_flow": null,
            "grid_auto_rows": null,
            "grid_column": null,
            "grid_gap": null,
            "grid_row": null,
            "grid_template_areas": null,
            "grid_template_columns": null,
            "grid_template_rows": null,
            "height": null,
            "justify_content": null,
            "justify_items": null,
            "left": null,
            "margin": null,
            "max_height": null,
            "max_width": null,
            "min_height": null,
            "min_width": null,
            "object_fit": null,
            "object_position": null,
            "order": null,
            "overflow": null,
            "overflow_x": null,
            "overflow_y": null,
            "padding": null,
            "right": null,
            "top": null,
            "visibility": null,
            "width": null
          }
        },
        "b03501edb0c34dc5a23bb67d23b1f739": {
          "model_module": "@jupyter-widgets/controls",
          "model_name": "DescriptionStyleModel",
          "model_module_version": "1.5.0",
          "state": {
            "_model_module": "@jupyter-widgets/controls",
            "_model_module_version": "1.5.0",
            "_model_name": "DescriptionStyleModel",
            "_view_count": null,
            "_view_module": "@jupyter-widgets/base",
            "_view_module_version": "1.2.0",
            "_view_name": "StyleView",
            "description_width": ""
          }
        },
        "77ab02757cff450b895bfd39cf1d0b1c": {
          "model_module": "@jupyter-widgets/base",
          "model_name": "LayoutModel",
          "model_module_version": "1.2.0",
          "state": {
            "_model_module": "@jupyter-widgets/base",
            "_model_module_version": "1.2.0",
            "_model_name": "LayoutModel",
            "_view_count": null,
            "_view_module": "@jupyter-widgets/base",
            "_view_module_version": "1.2.0",
            "_view_name": "LayoutView",
            "align_content": null,
            "align_items": null,
            "align_self": null,
            "border": null,
            "bottom": null,
            "display": null,
            "flex": null,
            "flex_flow": null,
            "grid_area": null,
            "grid_auto_columns": null,
            "grid_auto_flow": null,
            "grid_auto_rows": null,
            "grid_column": null,
            "grid_gap": null,
            "grid_row": null,
            "grid_template_areas": null,
            "grid_template_columns": null,
            "grid_template_rows": null,
            "height": null,
            "justify_content": null,
            "justify_items": null,
            "left": null,
            "margin": null,
            "max_height": null,
            "max_width": null,
            "min_height": null,
            "min_width": null,
            "object_fit": null,
            "object_position": null,
            "order": null,
            "overflow": null,
            "overflow_x": null,
            "overflow_y": null,
            "padding": null,
            "right": null,
            "top": null,
            "visibility": null,
            "width": null
          }
        },
        "8be5375c3493439d83f3d7c047f1644c": {
          "model_module": "@jupyter-widgets/controls",
          "model_name": "ProgressStyleModel",
          "model_module_version": "1.5.0",
          "state": {
            "_model_module": "@jupyter-widgets/controls",
            "_model_module_version": "1.5.0",
            "_model_name": "ProgressStyleModel",
            "_view_count": null,
            "_view_module": "@jupyter-widgets/base",
            "_view_module_version": "1.2.0",
            "_view_name": "StyleView",
            "bar_color": null,
            "description_width": ""
          }
        },
        "2bb73f32a1a944d8a67c65f913a5a70e": {
          "model_module": "@jupyter-widgets/base",
          "model_name": "LayoutModel",
          "model_module_version": "1.2.0",
          "state": {
            "_model_module": "@jupyter-widgets/base",
            "_model_module_version": "1.2.0",
            "_model_name": "LayoutModel",
            "_view_count": null,
            "_view_module": "@jupyter-widgets/base",
            "_view_module_version": "1.2.0",
            "_view_name": "LayoutView",
            "align_content": null,
            "align_items": null,
            "align_self": null,
            "border": null,
            "bottom": null,
            "display": null,
            "flex": null,
            "flex_flow": null,
            "grid_area": null,
            "grid_auto_columns": null,
            "grid_auto_flow": null,
            "grid_auto_rows": null,
            "grid_column": null,
            "grid_gap": null,
            "grid_row": null,
            "grid_template_areas": null,
            "grid_template_columns": null,
            "grid_template_rows": null,
            "height": null,
            "justify_content": null,
            "justify_items": null,
            "left": null,
            "margin": null,
            "max_height": null,
            "max_width": null,
            "min_height": null,
            "min_width": null,
            "object_fit": null,
            "object_position": null,
            "order": null,
            "overflow": null,
            "overflow_x": null,
            "overflow_y": null,
            "padding": null,
            "right": null,
            "top": null,
            "visibility": null,
            "width": null
          }
        },
        "5348485c733a4788953fa0dad4d298ca": {
          "model_module": "@jupyter-widgets/controls",
          "model_name": "DescriptionStyleModel",
          "model_module_version": "1.5.0",
          "state": {
            "_model_module": "@jupyter-widgets/controls",
            "_model_module_version": "1.5.0",
            "_model_name": "DescriptionStyleModel",
            "_view_count": null,
            "_view_module": "@jupyter-widgets/base",
            "_view_module_version": "1.2.0",
            "_view_name": "StyleView",
            "description_width": ""
          }
        }
      }
    }
  },
  "cells": [
    {
      "cell_type": "markdown",
      "metadata": {
        "id": "view-in-github",
        "colab_type": "text"
      },
      "source": [
        "<a href=\"https://colab.research.google.com/github/sanazgit/DeepLearning/blob/main/Noise_Robust_ASR.ipynb\" target=\"_parent\"><img src=\"https://colab.research.google.com/assets/colab-badge.svg\" alt=\"Open In Colab\"/></a>"
      ]
    },
    {
      "cell_type": "code",
      "source": [
        "!wget https://github.com/mozilla/DeepSpeech/releases/download/v0.6.1/audio-0.6.1.tar.gz\n",
        "!tar -xzf audio-0.6.1.tar.gz"
      ],
      "metadata": {
        "id": "ZmKzhctFa47v"
      },
      "execution_count": null,
      "outputs": []
    },
    {
      "cell_type": "code",
      "execution_count": 7,
      "metadata": {
        "id": "t9lE5iCLae86",
        "colab": {
          "base_uri": "https://localhost:8080/"
        },
        "outputId": "ea8cca50-30ea-4fe0-9899-b28e33088ed1"
      },
      "outputs": [
        {
          "output_type": "stream",
          "name": "stdout",
          "text": [
            "\u001b[?25l     \u001b[90m━━━━━━━━━━━━━━━━━━━━━━━━━━━━━━━━━━━━━━━━\u001b[0m \u001b[32m0.0/803.2 kB\u001b[0m \u001b[31m?\u001b[0m eta \u001b[36m-:--:--\u001b[0m\r\u001b[2K     \u001b[91m━━━━━━━━━━━━━━━━━━━\u001b[0m\u001b[91m╸\u001b[0m\u001b[90m━━━━━━━━━━━━━━━━━━\u001b[0m \u001b[32m419.8/803.2 kB\u001b[0m \u001b[31m12.4 MB/s\u001b[0m eta \u001b[36m0:00:01\u001b[0m\r\u001b[2K     \u001b[90m━━━━━━━━━━━━━━━━━━━━━━━━━━━━━━━━━━━━━━\u001b[0m \u001b[32m803.2/803.2 kB\u001b[0m \u001b[31m15.2 MB/s\u001b[0m eta \u001b[36m0:00:00\u001b[0m\n",
            "\u001b[?25h  Installing build dependencies ... \u001b[?25l\u001b[?25hdone\n",
            "  Getting requirements to build wheel ... \u001b[?25l\u001b[?25hdone\n",
            "  Preparing metadata (pyproject.toml) ... \u001b[?25l\u001b[?25hdone\n",
            "\u001b[2K   \u001b[90m━━━━━━━━━━━━━━━━━━━━━━━━━━━━━━━━━━━━━━━━\u001b[0m \u001b[32m363.4/363.4 MB\u001b[0m \u001b[31m2.8 MB/s\u001b[0m eta \u001b[36m0:00:00\u001b[0m\n",
            "\u001b[2K   \u001b[90m━━━━━━━━━━━━━━━━━━━━━━━━━━━━━━━━━━━━━━━━\u001b[0m \u001b[32m13.8/13.8 MB\u001b[0m \u001b[31m113.4 MB/s\u001b[0m eta \u001b[36m0:00:00\u001b[0m\n",
            "\u001b[2K   \u001b[90m━━━━━━━━━━━━━━━━━━━━━━━━━━━━━━━━━━━━━━━━\u001b[0m \u001b[32m24.6/24.6 MB\u001b[0m \u001b[31m26.7 MB/s\u001b[0m eta \u001b[36m0:00:00\u001b[0m\n",
            "\u001b[2K   \u001b[90m━━━━━━━━━━━━━━━━━━━━━━━━━━━━━━━━━━━━━━━━\u001b[0m \u001b[32m883.7/883.7 kB\u001b[0m \u001b[31m57.9 MB/s\u001b[0m eta \u001b[36m0:00:00\u001b[0m\n",
            "\u001b[2K   \u001b[90m━━━━━━━━━━━━━━━━━━━━━━━━━━━━━━━━━━━━━━━━\u001b[0m \u001b[32m664.8/664.8 MB\u001b[0m \u001b[31m1.2 MB/s\u001b[0m eta \u001b[36m0:00:00\u001b[0m\n",
            "\u001b[2K   \u001b[90m━━━━━━━━━━━━━━━━━━━━━━━━━━━━━━━━━━━━━━━━\u001b[0m \u001b[32m211.5/211.5 MB\u001b[0m \u001b[31m6.3 MB/s\u001b[0m eta \u001b[36m0:00:00\u001b[0m\n",
            "\u001b[2K   \u001b[90m━━━━━━━━━━━━━━━━━━━━━━━━━━━━━━━━━━━━━━━━\u001b[0m \u001b[32m56.3/56.3 MB\u001b[0m \u001b[31m14.3 MB/s\u001b[0m eta \u001b[36m0:00:00\u001b[0m\n",
            "\u001b[2K   \u001b[90m━━━━━━━━━━━━━━━━━━━━━━━━━━━━━━━━━━━━━━━━\u001b[0m \u001b[32m127.9/127.9 MB\u001b[0m \u001b[31m9.2 MB/s\u001b[0m eta \u001b[36m0:00:00\u001b[0m\n",
            "\u001b[2K   \u001b[90m━━━━━━━━━━━━━━━━━━━━━━━━━━━━━━━━━━━━━━━━\u001b[0m \u001b[32m207.5/207.5 MB\u001b[0m \u001b[31m6.6 MB/s\u001b[0m eta \u001b[36m0:00:00\u001b[0m\n",
            "\u001b[2K   \u001b[90m━━━━━━━━━━━━━━━━━━━━━━━━━━━━━━━━━━━━━━━━\u001b[0m \u001b[32m21.1/21.1 MB\u001b[0m \u001b[31m37.8 MB/s\u001b[0m eta \u001b[36m0:00:00\u001b[0m\n",
            "\u001b[2K   \u001b[90m━━━━━━━━━━━━━━━━━━━━━━━━━━━━━━━━━━━━━━━━\u001b[0m \u001b[32m3.1/3.1 MB\u001b[0m \u001b[31m62.6 MB/s\u001b[0m eta \u001b[36m0:00:00\u001b[0m\n",
            "\u001b[?25h  Building wheel for openai-whisper (pyproject.toml) ... \u001b[?25l\u001b[?25hdone\n"
          ]
        }
      ],
      "source": [
        "!pip install -q torchaudio openai-whisper noisereduce librosa jiwer"
      ]
    },
    {
      "cell_type": "code",
      "source": [
        "import torchaudio\n",
        "from torchaudio import transforms as T\n",
        "import torch\n",
        "import matplotlib.pyplot as plt\n",
        "import librosa\n",
        "import librosa.display\n",
        "import matplotlib.pyplot as plt\n",
        "import numpy as np\n",
        "from IPython.display import Audio"
      ],
      "metadata": {
        "id": "PM9isRWLcIf_"
      },
      "execution_count": 6,
      "outputs": []
    },
    {
      "cell_type": "markdown",
      "source": [
        "# **Whisper**"
      ],
      "metadata": {
        "id": "xn-WlzCGjQaB"
      }
    },
    {
      "cell_type": "markdown",
      "source": [
        "### **Load Data**"
      ],
      "metadata": {
        "id": "9a_uPs0NhMpP"
      }
    },
    {
      "cell_type": "code",
      "source": [
        "y, sr = librosa.load('/content/audio/4507-16021-0012.wav',sr=None)"
      ],
      "metadata": {
        "id": "or4cPbXYcUJ7"
      },
      "execution_count": 8,
      "outputs": []
    },
    {
      "cell_type": "code",
      "source": [
        "Audio(data=y, rate=sr)"
      ],
      "metadata": {
        "colab": {
          "base_uri": "https://localhost:8080/",
          "height": 75
        },
        "id": "z4OZPxVacbY1",
        "outputId": "dc745c09-f6d3-4330-94ee-e6d2bda6759f"
      },
      "execution_count": null,
      "outputs": [
        {
          "output_type": "execute_result",
          "data": {
            "text/plain": [
              "<IPython.lib.display.Audio object>"
            ],
            "text/html": [
              "\n",
              "                <audio  controls=\"controls\" >\n",
              "                    <source src=\"data:audio/wav;base64,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\" type=\"audio/wav\" />\n",
              "                    Your browser does not support the audio element.\n",
              "                </audio>\n",
              "              "
            ]
          },
          "metadata": {},
          "execution_count": 13
        }
      ]
    },
    {
      "cell_type": "code",
      "source": [
        "metadata = torchaudio.info('/content/audio/4507-16021-0012.wav')\n",
        "print(metadata)"
      ],
      "metadata": {
        "colab": {
          "base_uri": "https://localhost:8080/"
        },
        "id": "ilwmdEQvc3M2",
        "outputId": "ee78078d-ce61-4bd5-d9b2-5556a0b8a2f5"
      },
      "execution_count": null,
      "outputs": [
        {
          "output_type": "stream",
          "name": "stdout",
          "text": [
            "AudioMetaData(sample_rate=16000, num_frames=43760, num_channels=1, bits_per_sample=16, encoding=PCM_S)\n"
          ]
        }
      ]
    },
    {
      "cell_type": "markdown",
      "source": [
        "### **Step 1: Noise Reduction**\n",
        "We load an audio sample and apply basic denoising using the `noisereduce` library. The goal is to observe whether removing background noise improves ASR model output.\n"
      ],
      "metadata": {
        "id": "JUVqsMM9hWUg"
      }
    },
    {
      "cell_type": "code",
      "source": [
        "import noisereduce as nr\n",
        "import soundfile as sf\n",
        "\n",
        "y_denoised = nr.reduce_noise(y=y, sr=sr, stationary=True)\n",
        "\n",
        "sf.write('denoised.wav', y_denoised, sr)"
      ],
      "metadata": {
        "id": "Yc7-b8nyc60X"
      },
      "execution_count": 9,
      "outputs": []
    },
    {
      "cell_type": "code",
      "source": [
        "y_dn, sr_dn= librosa.load('/content/denoised.wav',sr=None)\n",
        "Audio(data=y_dn, rate=sr_dn)"
      ],
      "metadata": {
        "colab": {
          "base_uri": "https://localhost:8080/",
          "height": 75
        },
        "id": "DdcmVl9Idfqk",
        "outputId": "8832be2f-a1da-4dbe-d153-8bdfab9444f1"
      },
      "execution_count": null,
      "outputs": [
        {
          "output_type": "execute_result",
          "data": {
            "text/plain": [
              "<IPython.lib.display.Audio object>"
            ],
            "text/html": [
              "\n",
              "                <audio  controls=\"controls\" >\n",
              "                    <source src=\"data:audio/wav;base64,UklGRgRWAQBXQVZFZm10IBAAAAABAAEAgD4AAAB9AAACABAAZGF0YeBVAQAAAAAAAAAAAAAAAAAAAAAAAAAAAAAAAAAAAAAAAAAAAAAAAAAAAAAAAAAAAAAAAAAAAAAAAAAAAAAAAAAAAAAAAAAAAAAAAAAAAAAAAAAAAAAAAAAAAAAAAAAAAAAAAAAAAAAAAAAAAAAAAAAAAAAAAAAAAAAAAAAAAAAAAAAAAAAAAAAAAAAAAAAAAAAAAAAAAAAAAAAAAAAAAAAAAAAAAAAAAAAAAAAAAAAAAAAAAAAAAAAAAAAAAAAAAAAAAAAAAAAAAAAAAAAAAAAAAAAAAAAAAAAAAAAAAAAAAAAAAAAAAAAAAAAAAAAAAAAAAAAAAAAAAAAAAAAAAAAAAAAAAAAAAAAAAAAAAAAAAAAAAAAAAAAAAAAAAAAAAAAAAAAAAAAAAAAAAAAAAAAAAAAAAAAAAAAAAAAAAAAAAAAAAAAAAAAAAAAAAAAAAAAAAAAAAAAAAAAAAAAAAAAAAAAAAAAAAAAAAAAAAAAAAAAAAAAAAAAAAAAAAAAAAAAAAAAAAAAAAAAAAAAAAAAAAAAAAAAAAAAAAAAAAAAAAAAAAAAAAAAAAAAAAAAAAAAAAAAAAAAAAAAAAAAAAAAAAAAAAAAAAAAAAAAAAAAAAAAAAAAAAAAAAAAAAAAAAAAAAAAAAAAAAAAAAAAAAAAAAAAAAAAAAAAAAAAAAAAAAAAAAAAAAAAAAAAAAAAAAAAAAAAAAAAAAAAAAAAAAAAAAAAAAAAAAAAAAAAAAAAAAAAAAAAAAAAAAAAAAAAAAAAAAAAAAAAAAAAAAAAAAAAAAAAAAAAAAAAAAAAAAAAAAAAAAAAAAAAAAAAAAAAAAAAAAAAAAAAAAAAAAAAAAAAAAAAAAAAAAAAAAAAAAAAAAAAAAAAAAAAAAAAAAAAAAAAAAAAAAAAAAAAAAAAAAAAAAAAAAAAAAAAAAAAAAAAAAAAAAAAAAAAAAAAAAAAAAAAAAAAAAAAAAAAAAAAAAAAAAAAAAAAAAAAAAAAAAAAAAAAAAAAAAAAAAAAAAAAAAAAAAAAAAAAAAAAAAAAAAAAAAAAAAAAAAAAAAAAAAAAAAAAAAAAAAAAAAAAAAAAAAAAAAAAAAAAAAAAAAAAAAAAAAAAAAAAAAAAAAAAAAAAAAAAAAAAAAAAAAAAAAAAAAAAAAAAAAAAAAAAAAAAAAAAAAAAAAAAAAAAAAAAAAAAAAAAAAAAAAAAAAAAAAAAAAAAAAAAAAAAAAAAAAAAAAAAAAAAAAAAAAAAAAAAAAAAAAAAAAAAAAAAAAAAAAAAAAAAAAAAAAAAAAAAAAAAAAAAAAAAAAAAAAAAAAAAAAAAAAAAAAAAAAAAAAAAAAAAAAAAAAAAAAAAAAAAAAAAAAAAAAAAAAAAAAAAAAAAAAAAAAAAAAAAAAAAAAAAAAAAAAAAAAAAAAAAAAAAAAAAAAAAAAAAAAAAAAAAAAAAAAAAAAAAAAAAAAAAAAAAAAAAAAAAAAAAAAAAAAAAAAAAAAAAAAAAAAAAAAAAAAAAAAAAAAAAAAAAAAAAAAAAAAAAAAAAAAAAAAAAAAAAAAAAAAAAAAAAAAAAAAAAAAAAAAAAAAAAAAAAAAAAAAAAAAAAAAAAAAAAAAAAAAAAAAAAAAAAAAAAAAAAAAAAAAAAAAAAAAAAAAAAAAAAAAAAAAAAAAAAAAAAAAAAAAAAAAAAAAAAAAAAAAAAAAAAAAAAAAAAAAAAAAAAAAAAAAAAAAAAAAAAAAAAAAAAAAAAAAAAAAAAAAAAAAAAAAAAAAAAAAAAAAAAAAAAAAAAAAAAAAAAAAAAAAAAAAAAAAAAAAAAAAAAAAAAAAAAAAAAAAAAAAAAAAAAAAAAAAAAAAAAAAAAAAAAAAAAAAAAAAAAAAAAAAAAAAAAAAAAAAAAAAAAAAAAAAAAAAAAAAAAAAAAAAAAAAAAAAAAAAAAAAAAAAAAAAAAAAAAAAAAAAAAAAAAAAAAAAAAAAAAAAAAAAAAAAAAAAAAAAAAAAAAAAAAAAAAAAAAAAAAAAAAAAAAAAAAAAAAAAAAAAAAAAAAAAAAAAAAAAAAAAAAAAAAAAAAAAAAAAAAAAAAAAAAAAAAAAAAAAAAAAAAAAAAAAAAAAAAAAAAAAAAAAAAAAAAAAAAAAAAAAAAAAAAAAAAAAAAAAAAAAAAAAAAAAAAAAAAAAAAAAAAAAAAAAAAAAAAAAAAAAAAAAAAAAAAAAAAAAAAAAAAAAAAAAAAAAAAAAAAAAAAAAAAAAAAAAAAAAAAAAAAAAAAAAAAAAAAAAAAAAAAAAAAAAAAAAAAAAAAAAAAAAAAAAAAAAAAAAAAAAAAAAAAAAAAAAAAAAAAAAAAAAAAAAAAAAAAAAAAAAAAAAAAAAAAAAAAAAAAAAAAAAAAAAAAAAAAAAAAAAAAAAAAAAAAAAAAAAAAAAAAAAAAAAAAAAAAAAAAAAAAAAAAAAAAAAAAAAAAAAAAAAAAAAAAAAAAAAAAAAAAAAAAAAAAAAAAAAAAAAAAAAAAAAAAAAAAAAAAAAAAAAAAAAAAAAAAAAAAAAAAAAAAAAAAAAAAAAAAAAAAAAAAAAAAAAAAAAAAAAAAAAAAAAAAAAAAAAAAAAAAAAAAAAAAAAAAAAAAAAAAAAAAAAAAAAAAAAAAAAAAAAAAAAAAAAAAAAAAAAAAAAAAAAAAAAAAAAAAAAAAAAAAAAAAAAAAAAAAAAAAAAAAAAAAAAAAAAAAAAAAAAAAAAAAAAAAAAAAAAAAAAAAAAAAAAAAAAAAAAAAAAAAAAAAAAAAAAAAAAAAAAAAAAAAAAAAAAAAAAAAAAAAAAAAAAAAAAAAAAAAAAAAAAAAAAAAAAAAAAAAAAAAAAAAAAAAAAAAAAAAAAAAAAAAAAAAAAAAAAAAAAAAAAAAAAAAAAAAAAAAAAAAAAAAAAAAAAAAAAAAAAAAAAAAAAAAAAAAAAAAAAAAAAAAAAAAAAAAAAAAAAAAAAAAAAAAAAAAAAAAAAAAAAAAAAAAAAAAAAAAAAAAAAAAAAAAAAAAAAAAAAAAAAAAAAAAAAAAAAAAAAAAAAAAAAAAAAAAAAAAAAAAAAAAAAAAAAAAAAAAAAAAAAAAAAAAAAAAAAAAAAAAAAAAAAAAAAAAAAAAAAAAAAAAAAAAAAAAAAAAAAAAAAAAAAAAAAAAAAAAAAAAAAAAAAAAAAAAAAAAAAAAAAAAAAAAAAAAAAAAAAAAAAAAAAAAAAAAAAAAAAAAAAAAAAAAAAAAAAAAAAAAAAAAAAAAAAAAAAAAAAAAAAAAAAAAAAAAAAAAAAAAAAAAAAAAAAAAAAAAAAAAAAAAAAAAAAAAAAAAAAAAAAAAAAAAAAAAAAAAAAAAAAAAAAAAAAAAAAAAAAAAAAAAAAAAAAAAAAAAAAAAAAAAAAAAAAAAAAAAAAAAAAAAAAAAAAAAAAAAAAAAAAAAAAAAAAAAAAAAAAAAAAAAAAAAAAAAAAAAAAAAAAAAAAAAAAAAAAAAAAAAAAAAAAAAAAAAAAAAAAAAAAAAAAAAAAAAAAAAAAAAAAAAAAAAAAAAAAAAAAAAAAAAAAAAAAAAAAAAAAAAAAAAAAAAAAAAAAAAAAAAAAAAAAAAAAAAAAAAAAAAAAAAAAAAAAAAAAAAAAAAAAAAAAAAAAAAAAAAAAAAAAAAAAAAAAAAAAAAAAAAAAAAAAAAAAAAAAAAAAAAAAAAAAAAAAAAAAAAAAAAAAAAAAAAAAAAAAAAAAAAAAAAAAAAAAAAAAAAAAAAAAAAAAAAAAAAAAAAAAAAAAAAAAAAAAAAAAAAAAAAAAAAAAAAAAAAAAAAAAAAAAAAAAAAAAAAAAAAAAAAAAAAAAAAAAAAAAAAAAAAAAAAAAAAAAAAAAAAAAAAAAAAAAAAAAAAAAAAAAAAAAAAAAAAAAAAAAAAAAAAAAAAAAAAAAAAAAAAAAAAAAAAAAAAAAAAAAAAAAAAAAAAAAAAAAAAAAAAAAAAAAAAAAAAAAAAAAAAAAAAAAAAAAAAAAAAAAAAAAAAAAAAAAAAAAAAAAAAAAAAAAAAAAAAAAAAAAAAAAAAAAAAAAAAAAAAAAAAAAAAAAAAAAAAAAAAAAAAAAAAAAAAAAAAAAAAAAAAAAAAAAAAAAAAAAAAAAAAAAAAAAAAAAAAAAAAAAAAAAAAAAAAAAAAAAAAAAAAAAAAAAAAAAAAAAAAAAAAAAAAAAAAAAAAAAAAAAAAAAAAAAAAAAAAAAAAAAAAAAAAAAAAAAAAAAAAAAAAAAAAAAAAAAAAAAAAAAAAAAAAAAAAAAAAAAAAAAAAAAAAAAAAAAAAAAAAAAAAAAAAAAAAAAAAAAAAAAAAAAAAAAAAAAAAAAAAAAAAAAAAAAAAAAAAAAAAAAAAAAAAAAAAAAAAAAAAAAAAAAAAAAAAAAAAAAAAAAAAAAAAAAAAAAAAAAAAAAAAAAAAAAAAAAAAAAAAAAAAAAAAAAAAAAAAAAAAAAAAAAAAAAAAAAAAAAAAAAAAAAAAAAAAAAAAAAAAAAAAAAAAAAAAAAAAAAAAAAAAAAAAAAAAAAAAAAAAAAAAAAAAAAAAAAAAAAAAAAAAAAAAAAAAAAAAAAAAAAAAAAAAAAAAAAAAAAAAAAAAAAAAAAAAAAAAAAAAAAAAAAAAAAAAAAAAAAAAAAAAAAAAAAAAAAAAAAAAAAAAAAAAAAAAAAAAAAAAAAAAAAAAAAAAAAAAAAAAAAAAAAAAAAAAAAAAAAAAAAAAAAAAAAAAAAAAAAAAAAAAAAAAAAAAAAAAAAAAAAAAAAAAAAAAAAAAAAAAAAAAAAAAAAAAAAAAAAAAAAAAAAAAAAAAAAAAAAAAAAAAAAAAAAAAAAAAAAAAAAAAAAAAAAAAAAAAAAAAAAAAAAAAAAAAAAAAAAAAAAAAAAAAAAAAAAAAAAAAAAAAAAAAAAAAAAAAAAAAAAAAAAAAAAAAAAAAAAAAAAAAAAAAAAAAAAAAAAAAAAAAAAAAAAAAAAAAAAAAAAAAAAAAAAAAAAAAAAAAAAAAAAAAAAAAAAAAAAAAAAAAAAAAAAAAAAAAAAAAAAAAAAAAAAAAAAAAAAAAAAAAAAAAAAAAAAAAAAAAAAAAAAAAAAAAAAAAAAAAAAAAAAAAAAAAAAAAAAAAAAAAAAAAAAAAAAAAAAAAAAAAAAAAAAAAAAAAAAAAAAAAAAAAAAAAAAAAAAAAAAAAAAAAAAAAAAAAAAAAAAAAAAAAAAAAAAAAAAAAAAAAAAAAAAAAAAAAAAAAAAAAAAAAAAAAAAAAAAAAAAAAAAAAAAAAAAAAAAAAAAAAAAAAAAAAAAAAAAAAAAAAAAAAAAAAAAAAAAAAAAAAAAAAAAAAAAAAAAAAAAAAAAAAAAAAAAAAAAAAAAAAAAAAAAAAAAAAAAAAAAAAAAAAAAAAAAAAAAAAAAAAAAAAAAAAAAAAAAAAAAAAAAAAAAAAAAAAAAAAAAAAAAAAAAAAAAAAAAAAAAAAAAAAAAAAAAAAAAAAAAAAAAAAAAAAAAAAAAAAAAAAAAAAAAAAAAAAAAAAAAAAAAAAAAAAAAAAAAAAAAAAAAAAAAAAAAAAAAAAAAAAAAAAAAAAAAAAAAAAAAAAAAAAAAAAAAAAAAAAAAAAAAAAAAAAAAAAAAAAAAAAAAAAAAAAAAAAAAAAAAAAAAAAAAAAAAAAAAAAAAAAAAAAAAAAAAAAAAAAAAAAAAAAAAAAAAAAAAAAAAAAAAAAAAAAAAAAAAAAAAAAAAAAAAAAAAAAAAAAAAAAAAAAAAAAAAAAAAAAAAAAAAAAAAAAAAAAAAAAAAAAAAAAAAAAAAAAAAAAAAAAAAAAAAAAAAAAAAAAAAAAAAAAAAAAAAAAAAAAAAAAAAAAAAAAAAAAAAAAAAAAAAAAAAAAAAAAAAAAAAAAAAAAAAAAAAAAAAAAAAAAAAAAAAAAAAAAAAAAAAAAAAAAAAAAAAAAAAAAAAAAAAAAAAAAAAAAAAAAAAAAAAAAAAAAAAAAAAAAAAAAAAAAAAAAAAAAAAAAAAAAAAAAAAAAAAAAAAAAAAAAAAAAAAAAAAAAAAAAAAAAAAAAAAAAAAAAAAAAAAAAAAAAAAAAAAAAAAAAAAAAAAAAAAAAAAAAAAAAAAAAAAAAAAAAAAAAAAAAAAAAAAAAAAAAAAAAAAAAAAAAAAAAAAAAAAAAAAAAAAAAAAAAAAAAAAAAAAAAAAAAAAAAAAAAAAAAAAAAAAAAAAAAAAAAAAAAAAAAAAAAAAAAAAAAAAAAAAAAAAAAAAAAAAAAAAAAAAAAAAAAAAAAAAAAAAAAAAAAAAAAAAAAAAAAAAAAAAAAAAAAAAAAAAAAAAAAAAAAAAAAAAAAAAAAAAAAAAAAAAAAAAAAAAAAAAAAAAAAAAAAAAAAAAAAAAAAAAAAAAAAAAAAAAAAAAAAAAAAAAAAAAAAAAAAAAAAAAAAAAAAAAAAAAAAAAAAAAAAAAAAAAAAAAAAAAAAAAAAAAAAAAAAAAAAAAAAAAAAAAAAAAAAAAAAAAAAAAAAAAAAAAAAAAAAAAAAAAAAAAAAAAAAAAAAAAAAAAAAAAAAAAAAAAAAAAAAAAAAAAAAAAAAAAAAAAAAAAAAAAAAAAAAAAAAAAAAAAAAAAAAAAAAAAAAAAAAAAAAAAAAAAAAAAAAAAAAAAAAAAAAAAAAAAAAAAAAAAAAAAAAAAAAAAAAAAAAAAAAAAAAAAAAAAAAAAAAAAAAAAAAAAAAAAAAAAAAAAAAAAAAAAAAAAAAAAAAAAAAAAAAAAAAAAAAAAAAAAAAAAAAAAAAAAAAAAAAAAAAAAAAAAAAAAAAAAAAAAAAAAAAAAAAAAAAAAAAAAAAAAAAAAAAAAAAAAAAAAAAAAAAAAAAAAAAAAAAAAAAAAAAAAAAAAAAAAAAAAAAAAAAAAAAAAAAAAAAAAAAAAAAAAAAAAAAAAAAAAAAAAAAAAAAAAAAAAAAAAAAAAAAAAAAAAAAAAAAAAAAAAAAAAAAAAAAAAAAAAAAAAAAAAAAAAAAAAAAAAAAAAAAAAAAAAAAAAAAAAAAAAAAAAAAAAAAAAAAAAAAAAAAAAAAAAAAAAAAAAAAAAAAAAAAAAAAAAAAAAAAAAAAAAAAAAAAAAAAAAAAAAAAAAAAAAAAAAAAAAAAAAAAAAAAAAAAAAAAAAAAAAAAAAAAAAAAAAAAAAAAAAAAAAAAAAAAAAAAAAAAAAAAAAAAAAAAAAAAAAAAAAAAAAAAAAAAAAAAAAAAAAAAAAAAAAAAAAAAAAAAAAAAAAAAAAAAAAAAAAAAAAAAAAAAAAAAAAAAAAAAAAAAAAAAAAAAAAAAAAAAAAAAAAAAAAAAAAAAAAAAAAAAAAAAAAAAAAAAAAAAAAAAAAAAAAAAAAAAAAAAAAAAAAAAAAAAAAAAAAAAAAAAAAAAAAAAAAAAAAAAAAAAAAAAAAAAAAAAAAAAAAAAAAAAAAAAAAAAAAAAAAAAAAAAAAAAAAAAAAAAAAAAAAAAAAAAAAAAAAAAAAAAAAAAAAAAAAAAAAAAAAAAAAAAAAAAAAAAAAAAAAAAAAAAAAAAAAAAAAAAAAAAAAAAAAAAAAAAAAAAAAAAAAAAAAAAAAAAAAAAAAAAAAAAAAAAAAAAAAAAAAAAAAAAAAAAAAAAAAAAAAAAAAAAAAAAAAAAAAAAAAAAAAAAAAAAAAAAAAAAAAAAAAAAAAAAAAAAAAAAAAAAAAAAAAAAAAAAAAAAAAAAAAAAAAAAAAAAAAAAAAAAAAAAAAAAAAAAAAAAAAAAAAAAAAAAAAAAAAAAAAAAAAAAAAAAAAAAAAAAAAAAAAAAAAAAAAAAAAAAAAAAAAAAAAAAAAAAAAAAAAAAAAAAAAAAAAAAAAAAAAAAAAAAAAAAAAAAAAAAAAAAAAAAAAAAAAAAAAAAAAAAAAAAAAAAAAAAAAAAAAAAAAAAAAAAAAAAAAAAAAAAAAAAAAAAAAAAAAAAAAAAAAAAAAAAAAAAAAAAAAAAAAAAAAAAAAAAAAAAAAAAAAAAAAAAAAAAAAAAAAAAAAAAAAAAAAAAAAAAAAAAAAAAAAAAAAAAAAAAAAAAAAAAAAAAAAAAAAAAAAAAAAAAAAAAAAAAAAAAAAAAAAAAAAAAAAAAAAAAAAAAAAAAAAAAAAAAAAAAAAAAAAAAAAAAAAAAAAAAAAAAAAAAAAAAAAAAAAAAAAAAAAAAAAAAAAAAAAAAAAAAAAAAAAAAAAAAAAAAAAAAAAAAAAAAAAAAAAAAAAAAAAAAAAAAAAAAAAAAAAAAAAAAAAAAAAAAAAAAAAAAAAAAAAAAAAAAAAAAAAAAAAAAAAAAAAAAAAAAAAAAAAAAAAAAAAAAAAAAAAAAAAAAAAAAAAAAAAAAAAAAAAAAAAAAAAAAAAAAAAAAAAAAAAAAAAAAAAAAAAAAAAAAAAAAAAAAAAAAAAAAAAAAAAAAAAAAAAAAAAAAAAAAAAAAAAAAAAAAAAAAAAAAAAAAAAAAAAAAAAAAAAAAAAAAAAAAAAAAAAAAAAAAAAAAAAAAAAAAAAAAAAAAAAAAAAAAAAAAAAAAAAAAAAAAAAAAAAAAAAAAAAAAAAAAAAAAAAAAAAAAAAAAAAAAAAAAAAAAAAAAAAAAAAAAAAAAAAAAAAAAAAAAAAAAAAAAAAAAAAAAAAAAAAAAAAAAAAAAAAAAAAAAAAAAAAAAAAAAAAAAAAAAAAAAAAAAAAAAAAAAAAAAAAAAAAAAAAAAAAAAAAAAAAAAAAAAAAAAAAAAAAAAAAAAAAAAAAAAAAAAAAAAAAAAAAAAAAAAAAAAAAAAAAAAAAAAAAAAAAAAAAAAAAAAAAAAAAAAAAAAAAAAAAAAAAAAAAAAAAAAAAAAAAAAAAAAAAAAAAAAAAAAAAAAAAAAAAAAAAAAAAAAAAAAAAAAAAAAAAAAAAAAAAAAAAAAAAAAAAAAAAAAAAAAAAAAAAAAAAAAAAAAAAAAAAAAAAAAAAAAAAAAAAAAAAAAAAAAAAAAAAAAAAAAAAAAAAAAAAAAAAAAAAAAAAAAAAAAAAAAAAAAAAAAAAAAAAAAAAAAAAAAAAAAAAAAAAAAAAAAAAAAAAAAAAAAAAAAAAAAAAAAAAAAAAAAAAAAAAAAAAAAAAAAAAAAAAAAAAAAAAAAAAAAAAAAAAAAAAAAAAAAAAAAAAAAAAAAAAAAAAAAAAAAAAAAAAAAAAAAAAAAAAAAAAAAAAAAAAAAAAAAAAAAAAAAAAAAAAAAAAAAAAAAAAAAAAAAAAAAAAAAAAAAAAAAAAAAAAAAAAAAAAAAAAAAAAAAAAAAAAAAAAAAAAAAAAAAAAAAAAAAAAAAAAAAAAAAAAAAAAAAAAAAAAAAAAAAAAAAAAAAAAAAAAAAAAAAAAAAAAAAAAAAAAAAAAAAAAAAAAAAAAAAAAAAAAAAAAAAAAAAAAAAAAAAAAAAAAAAAAAAAAAAAAAAAAAAAAAAAAAAAAAAAAAAAAAAAAAAAAAAAAAAAAAAAAAAAAAAAAAAAAAAAAAAAAAAAAAAAAAAAAAAAAAAAAAAAAAAAAAAAAAAAAAAAAAAAAAAAAAAAAAAAAAAAAAAAAAAAAAAAAAAAAAAAAAAAAAAAAAAAAAAAAAAAAAAAAAAAAAAAAAAAAAAAAAAAAAAAAAAAAAAAAAAAAAAAAAAAAAAAAAAAAAAAAAAAAAAAAAAAAAAAAAAAAAAAAAAAAAAAAAAAAAAAAAAAAAAAAAAAAAAAAAAAAAAAAAAAAAAAAAAAAAAAAAAAAAAAAAAAAAAAAAAAAAAAAAAAAAAAAAAAAAAAAAAAAAAAAAAAAAAAAAAAAAAAAAAAAAAAAAAAAAAAAAAAAAAAAAAAAAAAAAAAAAAAAAAAAAAAAAAAAAAAAAAAAAAAAAAAAAAAAAAAAAAAAAAAAAAAAAAAAAAAAAAAAAAAAAAAAAAAAAAAAAAAAAAAAAAAAAAAAAAAAAAAAAAAAAAAAAAAAAAAAAAAAAAAAAAAAAAAAAAAAAAAAAAAAAAAAAAAAAAAAAAAAAAAAAAAAAAAAAAAAAAAAAAAAAAAAAAAAAAAAAAAAAAAAAAAAAAAAAAAAAAAAAAAAAAAAAAAAAAAAAAAAAAAAAAAAAAAAAAAAAAAAAAAAAAAAAAAAAAAAAAAAAAAAAAAAAAAAAAAAAAAAAAAAAAAAAAAAAAAAAAAAAAAAAAAAAAAAAAAAAAAAAAAAAAAAAAAAAAAAAAAAAAAAAAAAAAAAAAAAAAAAAAAAAAAAAAAAAAAAAAAAAAAAAAAAAAAAAAAAAAAAAAAAAAAAAAAAAAAAAAAAAAAAAAAAAAAAAAAAAAAAAAAAAAAAAAAAAAAAAAAAAAAAAAAAAAAAAAAAAAAAAAAAAAAAAAAAAAAAAAAAAAAAAAAAAAAAAAAAAAAAAAAAAAAAAAAAAAAAAAAAAAAAAAAAAAAAAAAAAAAAAAAAAAAAAAAAAAAAAAAAAAAAAAAAAAAAAAAAAAAAAAAAAAAAAAAAAAAAAAAAAAAAAAAAAAAAAAAAAAAAAAAAAAAAAAAAAAAAAAAAAAAAAAAAAAAAAAAAAAAAAAAAAAAAAAAAAAAAAAAAAAAAAAAAAAAAAAAAAAAAAAAAAAAAAAAAAAAAAAAAAAAAAAAAAAAAAAAAAAAAAAAAAAAAAAAAAAAAAAAAAAAAAAAAAAAAAAAAAAAAAAAAAAAAAAAAAAAAAAAAAAAAAAAAAAAAAAAAAAAAAAAAAAAAAAAAAAAAAAAAAAAAAAAAAAAAAAAAAAAAAAAAAAAAAAAAAAAAAAAAAAAAAAAAAAAAAAAAAAAAAAAAAAAAAAAAAAAAAAAAAAAAAAAAAAAAAAAAAAAAAAAAAAAAAAAAAAAAAAAAAAAAAAAAAAAAAAAAAAAAAAAAAAAAAAAAAAAAAAAAAAAAAAAAAAAAAAAAAAAAAAAAAAAAAAAAAAAAAAAAAAAAAAAAAAAAAAAAAAAAAAAAAAAAAAAAAAAAAAAAAAAAAAAAAAAAAAAAAAAAAAAAAAAAAAAAAAAAAAAAAAAAAAAAAAAAAAAAAAAAAAAAAAAAAAAAAAAAAAAAAAAAAAAAAAAAAAAAAAAAAAAAAAAAAAAAAAAAAAAAAAAAAAAAAAAAAAAAAAAAAAAAAAAAAAAAAAAAAAAAAAAAAAAAAAAAAAAAAAAAAAAAAAAAAAAAAAAAAAAAAAAAAAAAAAAAAAAAAAAAAAAAAAAAAAAAAAAAAAAAAAAAAAAAAAAAAAAAAAAAAAAAAAAAAAAAAAAAAAAAAAAAAAAAAAAAAAAAAAAAAAAAAAAAAAAAAAAAAAAAAAAAAAAAAAAAAAAAAAAAAAAAAAAAAAAAAAAAAAAAAAAAAAAAAAAAAAAAAAAAAAAAAAAAAAAAAAAAAAAAAAAAAAAAAAAAAAAAAAAAAAAAAAAAAAAAAAAAAAAAAAAAAAAAAAAAAAAAAAAAAAAAAAAAAAAAAAAAAAAAAAAAAAAAAAAAAAAAAAAAAAAAAAAAAAAAAAAAAAAAAAAAAAAAAAAAAAAAAAAAAAAAAAAAAAAAAAAAAAAAAAAAAAAAAAAAAAAAAAAAAAAAAAAAAAAAAAAAAAAAAAAAAAAAAAAAAAAAAAAAAAAAAAAAAAAAAAAAAAAAAAAAAAAAAAAAAAAAAAAAAAAAAAAAAAAAAAAAAAAAAAAAAAAAAAAAAAAAAAAAAAAAAAAAAAAAAAAAAAAAAAAAAAAAAAAAAAAAAAAAAAAAAAAAAAAAAAAAAAAAAAAAAAAAAAAAAAAAAAAAAAAAAAAAAAAAAAAAAAAAAAAAAAAAAAAAAAAAAAAAAAAAAAAAAAAAAAAAAAAAAAAAAAAAAAAAAAAAAAAAAAAAAAAAAAAAAAAAAAAAAAAAAAAAAAAAAAAAAAAAAAAAAAAAAAAAAAAAAAAAAAAAAAAAAAAAAAAAAAAAAAAAAAAAAAAAAAAAAAAAAAAAAAAAAAAAAAAAAAAAAAAAAAAAAAAAAAAAAAAAAAAAAAAAAAAAAAAAAAAAAAAAAAAAAAAAAAAAAAAAAAAAAAAAAAAAAAAAAAAAAAAAAAAAAAAAAAAAAAAAAAAAAAAAAAAAAAAAAAAAAAAAAAAAAAAAAAAAAAAAAAAAAAAAAAAAAAAAAAAAAAAAAAAAAAAAAAAAAAAAAAAAAAAAAAAAAAAAAAAAAAAAAAAAAAAAAAAAAAAAAAAAAAAAAAAAAAAAAAAAAAAAAAAAAAAAAAAAAAAAAAAAAAAAAAAAAAAAAAAAAAAAAAAAAAAAAAAAAAAAAAAAAAAAAAAAAAAAAAAAAAAAAAAAAAAAAAAAAAAAAAAAAAAAAAAAAAAAAAAAAAAAAAAAAAAAAAAAAAAAAAAAAAAAAAAAAAAAAAAAAAAAAAAAAAAAAAAAAAAAAAAAAAAAAAAAAAAAAAAAAAAAAAAAAAAAAAAAAAAAAAAAAAAAAAAAAAAAAAAAAAAAAAAAAAAAAAAAAAAAAAAAAAAAAAAAAAAAAAAAAAAAAAAAAAAAAAAAAAAAAAAAAAAAAAAAAAAAAAAAAAAAAAAAAAAAAAAAAAAAAAAAAAAAAAAAAAAAAAAAAAAAAAAAAAAAAAAAAAAAAAAAAAAAAAAAAAAAAAAAAAAAAAAAAAAAAAAAAAAAAAAAAAAAAAAAAAAAAAAAAAAAAAAAAAAAAAAAAAAAAAAAAAAAAAAAAAAAAAAAAAAAAAAAAAAAAAAAAAAAAAAAAAAAAAAAAAAAAAAAAAAAAAAAAAAAAAAAAAAAAAAAAAAAAAAAAAAAAAAAAAAAAAAAAAAAAAAAAAAAAAAAAAAAAAAAAAAAAAAAAAAAAAAAAAAAAAAAAAAAAAAAAAAAAAAAAAAAAAAAAAAAAAAAAAAAAAAAAAAAAAAAAAAAAAAAAAAAAAAAAAAAAAAAAAAAAAAAAAAAAAAAAAAAAAAAAAAAAAAAAAAAAAAAAAAAAAAAAAAAAAAAAAAAAAAAAAAAAAAAAAAAAAAAAAAAAAAAAAAAAAAAAAAAAAAAAAAAAAAAAAAAAAAAAAAAAAAAAAAAAAAAAAAAAAAAAAAAAAAAAAAAAAAAAAAAAAAAAAAAAAAAAAAAAAAAAAAAAAAAAAAAAAAAAAAAAAAAAAAAAAAAAAAAAAAAAAAAAAAAAAAAAAAAAAAAAAAAAAAAAAAAAAAAAAAAAAAAAAAAAAAAAAAAAAAAAAAAAAAAAAAAAAAAAAAAAAAAAAAAAAAAAAAAAAAAAAAAAAAAAAAAAAAAAAAAAAAAAAAAAAAAAAAAAAAAAAAAAAAAAAAAAAAAAAAAAAAAAAAAAAAAAAAAAAAAAAAAAAAAAAAAAAAAAAAAAAAAAAAAAAAAAAAAAAAAAAAAAAAAAAAAAAAAAAAAAAAAAAAAAAAAAAAAAAAAAAAAAAAAAAAAAAAAAAAAAAAAAAAAAAAAAAAAAAAAAAAAAAAAAAAAAAAAAAAAAAAAAAAAAAAAAAAAAAAAAAAAAAAAAAAAAAAAAAAAAAAAAAAAAAAAAAAAAAAAAAAAAAAAAAAAAAAAAAAAAAAAAAAAAAAAAAAAAAAAAAAAAAAAAAAAAAAAAAAAAAAAAAAAAAAAAAAAAAAAAAAAAAAAAAAAAAAAAAAAAAAAAAAAAAAAAAAAAAAAAAAAAAAAAAAAAAAAAAAAAAAAAAAAAAAAAAAAAAAAAAAAAAAAAAAAAAAAAAAAAAAAAAAAAAAAAAAAAAAAAAAAAAAAAAAAAAAAAAAAAAAAAAAAAAAAAAAAAAAAAAAAAAAAAAAAAAAAAAAAAAAAAAAAAAAAAAAAAAAAAAAAAAAAAAAAAAAAAAAAAAAAAAAAAAAAAAAAAAAAAAAAAAAAAAAAAAAAAAAAAAAAAAAAAAAAAAAAAAAAAAAAAAAAAAAAAAAAAAAAAAAAAAAAAAAAAAAAAAAAAAAAAAAAAAAAAAAAAAAAAAAAAAAAAAAAAAAAAAAAAAAAAAAAAAAAAAAAAAAAAAAAAAAAAAAAAAAAAAAAAAAAAAAAAAAAAAAAAAAAAAAAAAAAAAAAAAAAAAAAAAAAAAAAAAAAAAAAAAAAAAAAAAAAAAAAAAAAAAAAAAAAAAAAAAAAAAAAAAAAAAAAAAAAAAAAAAAAAAAAAAAAAAAAAAAAAAAAAAAAAAAAAAAAAAAAAAAAAAAAAAAAAAAAAAAAAAAAAAAAAAAAAAAAAAAAAAAAAAAAAAAAAAAAAAAAAAAAAAAAAAAAAAAAAAAAAAAAAAAAAAAAAAAAAAAAAAAAAAAAAAAAAAAAAAAAAAAAAAAAAAAAAAAAAAAAAAAAAAAAAAAAAAAAAAAAAAAAAAAAAAAAAAAAAAAAAAAAAAAAAAAAAAAAAAAAAAAAAAAAAAAAAAAAAAAAAAAAAAAAAAAAAAAAAAAAAAAAAAAAAAAAAAAAAAAAAAAAAAAAAAAAAAAAAAAAAAAAAAAAAAAAAAAAAAAAAAAAAAAAAAAAAAAAAAAAAAAAAAAAAAAAAAAAAAAAAAAAAAAAAAAAAAAAAAAAAAAAAAAAAAAAAAAAAAAAAAAAAAAAAAAAAAAAAAAAAAAAAAAAAAAAAAAAAAAAAAAAAAAAAAAAAAAAAAAAAAAAAAAAAAAAAAAAAAAAAAAAAAAAAAAAAAAAAAAAAAAAAAAAAAAAAAAAAAAAAAAAAAAAAAAAAAAAAAAAAAAAAAAAAAAAAAAAAAAAAAAAAAAAAAAAAAAAAAAAAAAAAAAAAAAAAAAAAAAAAAAAAAAAAAAAAAAAAAAAAAAAAAAAAAAAAAAAAAAAAAAAAAAAAAAAAAAAAAAAAAAAAAAAAAAAAAAAAAAAAAAAAAAAAAAAAAAAAAAAAAAAAAAAAAAAAAAAAAAAAAAAAAAAAAAAAAAAAAAAAAAAAAAAAAAAAAAAAAAAAAAAAAAAAAAAAAAAAAAAAAAAAAAAAAAAAAAAAAAAAAAAAAAAAAAAAAAAAAAAAAAAAAAAAAAAAAAAAAAAAAAAAAAAAAAAAAAAAAAAAAAAAAAAAAAAAAAAAAAAAAAAAAAAAAAAAAAAAAAAAAAAAAAAAAAAAAAAAAAAAAAAAAAAAAAAAAAAAAAAAAAAAAAAAAAAAAAAAAAAAAAAAAAAAAAAAAAAAAAAAAAAAAAAAAAAAAAAAAAAAAAAAAAAAAAAAAAAAAAAAAAAAAAAAAAAAAAAAAAAAAAAAAAAAAAAAAAAAAAAAAAAAAAAAAAAAAAAAAAAAAAAAAAAAAAAAAAAAAAAAAAAAAAAAAAAAAAAAAAAAAAAAAAAAAAAAAAAAAAAAAAAAAAAAAAAAAAAAAAAAAAAAAAAAAAAAAAAAAAAAAAAAAAAAAAAAAAAAAAAAAAAAAAAAAAAAAAAAAAAAAAAAAAAAAAAAAAAAAAAAAAAAAAAAAAAAAAAAAAAAAAAAAAAAAAAAAAAAAAAAAAAAAAAAAAAAAAAAAAAAAAAAAAAAAAAAAAAAAAAAAAAAAAAAAAAAAAAAAAAAAAAAAAAAAAAAAAAAAAAAAAAAAAAAAAAAAAAAAAAAAAAAAAAAAAAAAAAAAAAAAAAAAAAAAAAAAAAAAAAAAAAAAAAAAAAAAAAAAAAAAAAAAAAAAAAAAAAAAAAAAAAAAAAAAAAAAAAAAAAAAAAAAAAAAAAAAAAAAAAAAAAAAAAAAAAAAAAAAAAAAAAAAAAAAAAAAAAAAAAAAAAAAAAAAAAAAAAAAAAAAAAAAAAAAAAAAAAAAAAAAAAAAAAAAAAAAAAAAAAAAAAAAAAAAAAAAAAAAAAAAAAAAAAAAAAAAAAAAAAAAAAAAAAAAAAAAAAAAAAAAAAAAAAAAAAAAAAAAAAAAAAAAAAAAAAAAAAAAAAAAAAAAAAAAAAAAAAAAAAAAAAAAAAAAAAAAAAAAAAAAAAAAAAAAAAAAAAAAAAAAAAAAAAAAAAAAAAAAAAAAAAAAAAAAAAAAAAAAAAAAAAAAAAAAAAAAAAAAAAAAAAAAAAAAAAAAAAAAAAAAAAAAAAAAAAAAAAAAAAAAAAAAAAAAAAAAAAAAAAAAAAAAAAAAAAAAAAAAAAAAAAAAAAAAAAAAAAAAAAAAAAAAAAAAAAAAAAAAAAAAAAAAAAAAAAAAAAAAAAAAAAAAAAAAAAAAAAAAAAAAAAAAAAAAAAAAAAAAAAAAAAAAAAAAAAAAAAAAAAAAAAAAAAAAAAAAAAAAAAAAAAAAAAAAAAAAAAAAAAAAAAAAAAAAAAAAAAAAAAAAAAAAAAAAAAAAAAAAAAAAAAAAAAAAAAAAAAAAAAAAAAAAAAAAAAAAAAAAAAAAAAAAAAAAAAAAAAAAAAAAAAAAAAAAAAAAAAAAAAAAAAAAAAAAAAAAAAAAAAAAAAAAAAAAAAAAAAAAAAAAAAAAAAAAAAAAAAAAAAAAAAAAAAAAAAAAAAAAAAAAAAAAAAAAAAAAAAAAAAAAAAAAAAAAAAAAAAAAAAAAAAAAAAAAAAAAAAAAAAAAAAAAAAAAAAAAAAAAAAAAAAAAAAAAAAAAAAAAAAAAAAAAAAAAAAAAAAAAAAAAAAAAAAAAAAAAAAAAAAAAAAAAAAAAAAAAAAAAAAAAAAAAAAAAAAAAAAAAAAAAAAAAAAAAAAAAAAAAAAAAAAAAAAAAAAAAAAAAAAAAAAAAAAAAAAAAAAAAAAAAAAAAAAAAAAAAAAAAAAAAAAAAAAAAAAAAAAAAAAAAAAAAAAAAAAAAAAAAAAAAAAAAAAAAAAAAAAAAAAAAAAAAAAAAAAAAAAAAAAAAAAAAAAAAAAAAAAAAAAAAAAAAAAAAAAAAAAAAAAAAAAAAAAAAAAAAAAAAAAAAAAAAAAAAAAAAAAAAAAAAAAAAAAAAAAAAAAAAAAAAAAAAAAAAAAAAAAAAAAAAAAAAAAAAAAAAAAAAAAAAAAAAAAAAAAAAAAAAAAAAAAAAAAAAAAAAAAAAAAAAAAAAAAAAAAAAAAAAAAAAAAAAAAAAAAAAAAAAAAAAAAAAAAAAAAAAAAAAAAAAAAAAAAAAAAAAAAAAAAAAAAAAAAAAAAAAAAAAAAAAAAAAAAAAAAAAAAAAAAAAAAAAAAAAAAAAAAAAAAAAAAAAAAAAAAAAAAAAAAAAAAAAAAAAAAAAAAAAAAAAAAAAAAAAAAAAAAAAAAAAAAAAAAAAAAAAAAAAAAAAAAAAAAAAAAAAAAAAAAAAAAAAAAAAAAAAAAAAAAAAAAAAAAAAAAAAAAAAAAAAAAAAAAAAAAAAAAAAAAAAAAAAAAAAAAAAAAAAAAAAAAAAAAAAAAAAAAAAAAAAAAAAAAAAAAAAAAAAAAAAAAAAAAAAAAAAAAAAAAAAAAAAAAAAAAAAAAAAAAAAAAAAAAAAAAAAAAAAAAAAAAAAAAAAAAAAAAAAAAAAAAAAAAAAAAAAAAAAAAAAAAAAAAAAAAAAAAAAAAAAAAAAAAAAAAAAAAAAAAAAAAAAAAAAAAAAAAAAAAAAAAAAAAAAAAAAAAAAAAAAAAAAAAAAAAAAAAAAAAAAAAAAAAAAAAAAAAAAAAAAAAAAAAAAAAAAAAAAAAAAAAAAAAAAAAAAAAAAAAAAAAAAAAAAAAAAAAAAAAAAAAAAAAAAAAAAAAAAAAAAAAAAAAAAAAAAAAAAAAAAAAAAAAAAAAAAAAAAAAAAAAAAAAAAAAAAAAAAAAAAAAAAAAAAAAAAAAAAAAAAAAAAAAAAAAAAAAAAAAAAAAAAAAAAAAAAAAAAAAAAAAAAAAAAAAAAAAAAAAAAAAAAAAAAAAAAAAAAAAAAAAAAAAAAAAAAAAAAAAAAAAAAAAAAAAAAAAAAAAAAAAAAAAAAAAAAAAAAAAAAAAAAAAAAAAAAAAAAAAAAAAAAAAAAAAAAAAAAAAAAAAAAAAAAAAAAAAAAAAAAAAAAAAAAAAAAAAAAAAAAAAAAAAAAAAAAAAAAAAAAAAAAAAAAAAAAAAAAAAAAAAAAAAAAAAAAAAAAAAAAAAAAAAAAAAAAAAAAAAAAAAAAAAAAAAAAAAAAAAAAAAAAAAAAAAAAAAAAAAAAAAAAAAAAAAAAAAAAAAAAAAAAAAAAAAAAAAAAAAAAAAAAAAAAAAAAAAAAAAAAAAAAAAAAAAAAAAAAAAAAAAAAAAAAAAAAAAAAAAAAAAAAAAAAAAAAAAAAAAAAAAAAAAAAAAAAAAAAAAAAAAAAAAAAAAAAAAAAAAAAAAAAAAAAAAAAAAAAAAAAAAAAAAAAAAAAAAAAAAAAAAAAAAAAAAAAAAAAAAAAAAAAAAAAAAAAAAAAAAAAAAAAAAAAAAAAAAAAAAAAAAAAAAAAAAAAAAAAAAAAAAAAAAAAAAAAAAAAAAAAAAAAAAAAAAAAAAAAAAAAAAAAAAAAAAAAAAAAAAAAAAAAAAAAAAAAAAAAAAAAAAAAAAAAAAAAAAAAAAAAAAAAAAAAAAAAAAAAAAAAAAAAAAAAAAAAAAAAAAAAAAAAAAAAAAAAAAAAAAAAAAAAAAAAAAAAAAAAAAAAAAAAAAAAAAAAAAAAAAAAAAAAAAAAAAAAAAAAAAAAAAAAAAAAAAAAAAAAAAAAAAAAAAAAAAAAAAAAAAAAAAAAAAAAAAAAAAAAAAAAAAAAAAAAAAAAAAAAAAAAAAAAAAAAAAAAAAAAAAAAAAAAAAAAAAAAAAAAAAAAAAAAAAAAAAAAAAAAAAAAAAAAAAAAAAAAAAAAAAAAAAAAAAAAAAAAAAAAAAAAAAAAAAAAAAAAAAAAAAAAAAAAAAAAAAAAAAAAAAAAAAAAAAAAAAAAAAAAAAAAAAAAAAAAAAAAAAAAAAAAAAAAAAAAAAAAAAAAAAAAAAAAAAAAAAAAAAAAAAAAAAAAAAAAAAAAAAAAAAAAAAAAAAAAAAAAAAAAAAAAAAAAAAAAAAAAAAAAAAAAAAAAAAAAAAAAAAAAAAAAAAAAAAAAAAAAAAAAAAAAAAAAAAAAAAAAAAAAAAAAAAAAAAAAAAAAAAAAAAAAAAAAAAAAAAAAAAAAAAAAAAAAAAAAAAAAAAAAAAAAAAAAAAAAAAAAAAAAAAAAAAAAAAAAAAAAAAAAAAAAAAAAAAAAAAAAAAAAAAAAAAAAAAAAAAAAAAAAAAAAAAAAAAAAAAAAAAAAAAAAAAAAAAAAAAAAAAAAAAAAAAAAAAAAAAAAAAAAAAAAAAAAAAAAAAAAAAAAAAAAAAAAAAAAAAAAAAAAAAAAAAAAAAAAAAAAAAAAAAAAAAAAAAAAAAAAAAAAAAAAAAAAAAAAAAAAAAAAAAAAAAAAAAAAAAAAAAAAAAAAAAAAAAAAAAAAAAAAAAAAAAAAAAAAAAAAAAAAAAAAAAAAAAAAAAAAAAAAAAAAAAAAAAAAAAAAAAAAAAAAAAAAAAAAAAAAAAAAAAAAAAAAAAAAAAAAAAAAAAAAAAAAAAAAAAAAAAAAAAAAAAAAAAAAAAAAAAAAAAAAAAAAAAAAAAAAAAAAAAAAAAAAAAAAAAAAAAAAAAAAAAAAAAAAAAAAAAAAAAAAAAAAAAAAAAAAAAAAAAAAAAAAAAAAAAAAAAAAAAAAAAAAAAAAAAAAAAAAAAAAAAAAAAAAAAAAAAAAAAAAAAAAAAAAAAAAAAAAAAAAAAAAAAAAAAAAAAAAAAAAAAAAAAAAAAAAAAAAAAAAAAAAAAAAAAAAAAAAAAAAAAAAAAAAAAAAAAAAAAAAAAAAAAAAAAAAAAAAAAAAAAAAAAAAAAAAAAAAAAAAAAAAAAAAAAAAAAAAAAAAAAAAAAAAAAAAAAAAAAAAAAAAAAAAAAAAAAAAAAAAAAAAAAAAAAAAAAAAAAAAAAAAAAAAAAAAAAAAAAAAAAAAAAAAAAAAAAAAAAAAAAAAAAAAAAAAAAAAAAAAAAAAAAAAAAAAAAAAAAAAAAAAAAAAAAAAAAAAAAAAAAAAAAAAAAAAAAAAAAAAAAAAAAAAAAAAAAAAAAAAAAAAAAAAAAAAAAAAAAAAAAAAAAAAAAAAAAAAAAAAAAAAAAAAAAAAAAAAAAAAAAAAAAAAAAAAAAAAAAAAAAAAAAAAAAAAAAAAAAAAAAAAAAAAAAAAAAAAAAAAAAAAAAAAAAAAAAAAAAAAAAAAAAAAAAAAAAAAAAAAAAAAAAAAAAAAAAAAAAAAAAAAAAAAAAAAAAAAAAAAAAAAAAAAAAAAAAAAAAAAAAAAAAAAAAAAAAAAAAAAAAAAAAAAAAAAAAAAAAAAAAAAAAAAAAAAAAAAAAAAAAAAAAAAAAAAAAAAAAAAAAAAAAAAAAAAAAAAAAAAAAAAAAAAAAAAAAAAAAAAAAAAAAAAAAAAAAAAAAAAAAAAAAAAAAAAAAAAAAAAAAAAAAAAAAAAAAAAAAAAAAAAAAAAAAAAAAAAAAAAAAAAAAAAAAAAAAAAAAAAAAAAAAAAAAAAAAAAAAAAAAAAAAAAAAAAAAAAAAAAAAAAAAAAAAAAAAAAAAAAAAAAAAAAAAAAAAAAAAAAAAAAAAAAAAAAAAAAAAAAAAAAAAAAAAAAAAAAAAAAAAAAAAAAAAAAAAAAAAAAAAAAAAAAAAAAAAAAAAAAAAAAAAAAAAAAAAAAAAAAAAAAAAAAAAAAAAAAAAAAAAAAAAAAAAAAAAAAAAAAAAAAAAAAAAAAAAAAAAAAAAAAAAAAAAAAAAAAAAAAAAAAAAAAAAAAAAAAAAAAAAAAAAAAAAAAAAAAAAAAAAAAAAAAAAAAAAAAAAAAAAAAAAAAAAAAAAAAAAAAAAAAAAAAAAAAAAAAAAAAAAAAAAAAAAAAAAAAAAAAAAAAAAAAAAAAAAAAAAAAAAAAAAAAAAAAAAAAAAAAAAAAAAAAAAAAAAAAAAAAAAAAAAAAAAAAAAAAAAAAAAAAAAAAAAAAAAAAAAAAAAAAAAAAAAAAAAAAAAAAAAAAAAAAAAAAAAAAAAAAAAAAAAAAAAAAAAAAAAAAAAAAAAAAAAAAAAAAAAAAAAAAAAAAAAAAAAAAAAAAAAAAAAAAAAAAAAAAAAAAAAAAAAAAAAAAAAAAAAAAAAAAAAAAAAAAAAAAAAAAAAAAAAAAAAAAAAAAAAAAAAAAAAAAAAAAAAAAAAAAAAAAAAAAAAAAAAAAAAAAAAAAAAAAAAAAAAAAAAAAAAAAAAAAAAAAAAAAAAAAAAAAAAAAAAAAAAAAAAAAAAAAAAAAAAAAAAAAAAAAAAAAAAAAAAAAAAAAAAAAAAAAAAAAAAAAAAAAAAAAAAAAAAAAAAAAAAAAAAAAAAAAAAAAAAAAAAAAAAAAAAAAAAAAAAAAAAAAAAAAAAAAAAAAAAAD7//v/+//7//v/+//7//v/+//7//v/+//7//v/+//7//v/+//7//v/+//7//v/+//7//v/+//7//v/+//7//v/+//7//v/+//7//v/+//7/wAAAAAAAAAAAAAAAAAAAAAAAAAAAAAAAAAAAAAAAAAAAAAAAAAAAAAAAAAAAAAAAAAAAAAAAAAAAAAAAAAAAAAAAAAAAAAAAAAAAAAAAAAAAAAAAAAAAAD7//v/+//7//v/+//7//v/+//7//v/+//7//v/+//7//v/+//7//v/+//7/wAAAAAAAAAAAAAAAAAAAAAAAAAAAAAAAAAAAAAAAAAAAAAAAPv/+//7//v/+//7//v/+//7//v/+//7//v/+//7//v/+//7/wAAAAAAAAAAAAAAAAAAAAAAAAAAAAAAAAAAAAAAAAAAAAAAAAAAAAAAAAAAAAAAAAAA+//7//v/+//7//v/+//7/wAAAAAAAAAAAAAAAAAAAAAAAAAAAAAAAAAAAAAAAPv/+//7//v/+//7//v/+//7//v/+//7//v/+//7//v/+//7//v/+//7//v/+//7/wAAAAAAAAAAAAAAAAAAAAAAAAAAAAAAAAAAAAAAAAAAAAD7//v/+//7//v/+//7//v/+//7/wAAAAAAAAAAAAAAAAAAAAAAAAAAAAAAAAAAAAAAAAAAAAAAAAAAAAAAAAAAAAD7//v/+//7//v/+//7//v/+//7//v/+//7//v/+//7//v/+//7//v/+//7//v/+//7//v/+//7//v/+//7//v/+//7//v/AAAAAAAAAAAAAAAAAAAAAAAAAAAAAAAAAAAAAAAAAAAAAAAAAAAAAAAAAAAAAPv/+//7//v/+//7//v/+//7//v/+//7//v/+//7//v/+//7//v/AAAAAAAAAAAAAAAAAAAAAAAAAAAAAAAAAAAAAPv/+//7//v/+//7//v/+//7//v/+//7//v/+//7//v/+//7//v/+/8AAAAAAAAAAAAAAAAAAAAAAAAAAAAAAAAAAAAAAAAAAAAAAAAAAAAAAAAAAAAAAAAAAAAAAAAAAAAAAAD7//v/+//7//v/+//7//v/+//7//v/+//7//v/+//7//v/+//7//v/+//7//v/+//7//v/+//7//v/+//7//v/+//7//v/AAAAAAAAAAAAAAAAAAAAAAAAAAAAAAAAAAAAAAAAAAAAAAAAAAAAAAAAAAAAAAAAAAAAAPv/+//7//v/+//7//v/+//7//v/+//7//v/+//7//v/+//7//v/+//7/wAAAAAAAAAAAAAAAAAAAAAAAAAAAAAAAAAAAAAAAAAAAAAAAAAAAAAAAPv/+//7//v/+//7//v/+//7//v/+//7//v/+//7//v/+//7//v/+//7/wAAAAAAAAAAAAAAAAAAAAAAAAAAAAAAAAAAAAAAAAAAAAAAAAAAAAD7//v/+//7//v/+//7//v/+//7//v/+//7/wAAAAAAAAAAAAAAAAAAAAAAAAAAAAAAAAAAAAAAAAAAAAAAAAAAAAAAAAAAAAD7//v/+//7//v/+//7//v/+//7//v/+//7//v/+//7//v/+//7//v/+//7//v/+//7//v/+//7//v/+//7//v/AAAAAAAAAAAAAAAAAAAAAAAAAAAAAAAAAAAAAAAAAAAAAAAAAAAAAAAAAAAAAAAAAAAAAAAAAAD7//v/+//7//v/+//7//v/+//7//v/+//7//v/+//7//v/+//7//v/+//7//v/+//7//v/+//7//v/+//7//v/+//7//v/+//7//v/+/8AAAAAAAAAAAAAAAAAAAAAAAAAAAAAAAAAAAAAAAAAAAAAAAAAAAAAAAAAAAAAAAAAAAAAAAAAAPv/+//7//v/+//7//v/+//7//v/+//7//v/+//7//v/+//7//v/+//7//v/+//7//v/+//7//v/+//7//v/+//7/wAAAAAAAAAAAAAAAAAAAAAAAAAAAAAAAAAAAAAAAAAAAAAAAAAAAAAAAAAAAAAAAAAAAAAAAAAAAAAAAAAAAAAAAAAAAAAAAPv/+//7//v/+//7//v/AAAAAAAAAAAAAAAAAAAAAAAAAAAAAAAAAAAAAAAAAAAAAAAAAAAAAPv/+//7//v/+//7//v/+//7//b/9v/2//b/9v/2//b/9v/2//b/+//7//v/+//7/wAAAAAAAAAABQAFAAUABQAFAAUABQAFAAUABQAFAAUAAAAAAAAAAAD7//v/+//7//v/9v/2//b/9v/2//b/9v/2//b/9v/7//v/+//7/wAAAAAAAAAAAAAAAAAABQAFAAUABQAFAAAAAAAAAAAAAAAAAAAAAAAAAAAAAAAAAAAA+//7//v/+//7//v/+//7//v/+//7//v/+//7//v/+//7//v/+//7//v/AAAAAAAAAAAAAAAAAAD7//v/+//7//v/+//7//v/9v/2//b/9v/2//b/9v/2//b/9v/2//b/+//7//v/AAAAAAAAAAAFAAUABQAFAAoACgAKAAoACgAKAAoABQAFAAUABQAFAAUAAAAAAAAAAAAAAAAAAAD7//v/+//7//v/+//7//v/+//7//v/+//7//b/9v/2//b/9v/2//b/9v/2//b/9v/2//b/9v/7//v/+//7/wAAAAAAAAAAAAAAAAAAAAAAAAAAAAAAAAAAAAAFAAAABQAAAAAAAAAAAAAAAAAAAAAA+//7//v/+//7//b/9v/2//b/9v/2//b/+//7//v/+//7//v/+/8AAAAAAAAAAAAAAAAAAAAAAAAAAAAAAAAAAAAAAAAAAAAAAAD7//v/+//7//v/AAAAAAAAAAAAAAAAAAAAAAAAAAAAAAAAAAAAAAAA+//7//v/+//7//v/+//7//v/+//7//v/AAAAAAAAAAAAAAAAAAAAAAAA+//7//v/+//7//v/+//7//v/9v/2//b/9v/2//b/9v/2//b/+//7//v/AAAAAAAABQAFAAUABQAFAAUABQAFAAUABQAFAAAAAAAAAAAA+//7//v/9v/2//b/8P/w//D/8P/w//D/8P/w//b/9v/7//v/+/8AAAAABQAFAAUABQAFAAUABQAFAAUABQAAAAAAAAAAAAAAAAAAAAUABQAFAAUABQAFAAoACgAFAAUABQAFAAUABQAFAAUAAAAAAAAAAAAAAPv/+//7//b/9v/2//D/8P/r/+v/6//l/+X/5f/l/+X/5f/l/+X/5f/l/+v/6//w//b/9v/7/wAABQAKAAoAEAAVABUAGwAbABsAGwAgACAAGwAbABsAGwAbABUAFQAQAAoACgAFAAUAAAD7//v/9v/2//b/8P/w//D/8P/r/+v/5f/l/+X/5f/g/+D/4P/g/+D/4P/l/+X/5f/l/+X/6//r/+v/8P/w//b/9v/2//v/AAAAAAUABQAKABAAEAAVABUAFQAVABsAGwAbABsAGwAbABsAGwAbABUAFQAVABUAFQAVABUAGwAbACAAIAAgACAAIAAgABsAGwAVABAACgAFAPv/9v/w/+v/4P/V/8//xf+6/7T/qf+e/5P/jv+J/4P/fv94/37/fv+D/4n/jv+Z/6n/tP/F/9X/5f/2/woAGwAxADsATABXAGcAcgB9AIIAjQCYAKkAswC+AMkA2gDqAPoABQELARYBGwEgARsBFgEFAfUA2gC+AJgAbQA2AAUAxf+D/zf/6v6Z/kf+8P2e/Uz9Bf3E/JP8bfxX/FH8Z/yY/NT8K/2Y/Rb+pP5C/+X/kwBBAfABmQI3A8UDQgSqBPsEJwU9BSwFAQW6BFgE2gNNA64CFgJyAc8AOwC//1f/AP/E/qT+k/6T/p7+tP7K/s/+yv65/pP+Uv7w/X39AP1y/NT7QfvD+lb6BPre+e/5K/qY+jb7EPwL/SH+R/+IAM8BBgMcBCcFDAbFBk4HqgfWB8sHlAc4B7UGDAY9BV0EbQNyAmIBTAA8/zz+Qf1X/IL7zvo7+sj5gvls+Xf5s/kg+r76gvtt/G39k/7K/wsBQQJzA4kEhAVYBvwGaQefB5QHTgfWBiIGPQUsBPsCuQFnAAv/rv1n/Cv7CvoK+Sr4fPf59qL2hvan9vn2h/dA+Dv5Vvqd+/X8bf7l/1cBtAIGBDIFMgb2BpoHAQg9CDgIDAiwBzgHlAbgBREFPARNA2ICeAGYAK//z/4Q/mf9z/xR/AD85Pvk+xX8cvwL/cn9rv6v/88A6gEAA/sD4ASJBdsF0AV+BdsEygNMAoIAk/5y/DD6+ff+9T/00vLc8YDxsfFU8obzSvWM9wr6rvyD/2ICIQWUB8YJmwsIDf4Nhg6cDkQOkA2LDEkL3Ak4CHMGpATlAiYBYv+p/RD8kvo1+en3zfbd9ST1ofR19Jb0/vSy9dP2UPga+iD8aP7kAHgDDAaPCOIK5wyRDscPcRCBEOMPnA7BDFQKXgfrAzsAbfyi+PP0lfGr7ljstOra6c/pg+oB7DjuGPFl9AT42fu//4MDDAczCucMFA+sELgRKhIJEnERaxAJD08NZAtJCRIHxQSIAkYAEP7q++n5FPhm9uj0vPPn8l/yOfKL8nXzx/SM9s74kvuu/vsBbgXmCDQMKQ+tEZ0TyRT0FCUUfBL+D3oM9wfVAnL94/cu8rrs8Oca5C/he98v30XgjOIK5sXqavB79q78CwNeCSQPBBQAGBwbPR09HiIeJx1NG8QYoxUqEmUObwpTBmICpP4F+3z3NPRZ8ezuuuzb6onp4Oi/6DfpTeoy7MbuAvLd9VH6LP9HBH8Jwg7DEzEYyhuaHnQgDSEHIJodABo7FQ4PuwfV/7L3dO9n5y/gKNp+1W3SYtF40mPV/dk/4Cbo/fA2+nMDlgwlFZ8cmyIfJw8qYSv/Kh8p8yWmIWkcjRZxEC4K1QOY/dP3m/Lh7aTpBeYw4yrh7t973/7fVuGN47nm++oH8Kz15Pu5AvIJGhHqF0Me4iNLKGcrBS0ALaMqNSYzIOUYvQ/lBEv55u294ubXNs6Wxk7Bbr5SvmPBRMd9z9bZYuY09EcCzQ/WHL0owDIZOtM+IEHkQAk+zDi6MTApjx9BFeIKyQAJ99btueUZ37DZTdUL0mfQV9CT0QHUwNe83NniEepf8kz7TQRaDZgWth/jJ44uyzOFN185HjmwNtAxJSpqIJIVlQnO+8DsOt4Q0RjFTLoDsgetj6uPrXazLL3NyfzYeOoW/rgRPyTGNNpDE1CIWDdc+1v/V4tQmUXiN0AochdTBrf1iObh2ATNisNSvTa6crnEuo6+CMVhzRfXsuFD7R/5PQVQEfwcQCfVLwg3Hz1RQblCckFFPkQ5HDLOKDgevRGvA+j0k+dD2nzMqr5KtNasjqfOo++jaKibsEe8dssp3k/y/AeEHtw1j0qZW0po9nG7dlN1TG1vYKFPWjsZJD4LHvIo2pXE3bIrpf6b95ZJl7ycMadKtMHDIdXg6AX9YBDcIXkx4z7bSQlSd1bOVmtTsU3lRXs7PC5OHyQQRwEp89nlHdmSzPHBBbvptt2yzK67rZCwfLXauh3CYcxk2eDoyfrNDosiDTZDSbpcJWzLdbt493facVRlA1EuOIQctP9Q4lTGM60+mECJq4Gwgb2H8JKNo7m5xdNZ7rAHfx8jNtZJBVmgYhlnx2arYk1bJFDUQLQuiRw+C0b6R+mF2a3MoMPKvsq8IbwxvG6/gMbvzuvU4di83Q/k8OkX7jTyVvcQ/vYGkhLcH0EsZTgWRcJS5VuqXrRa/1NTSOI2ux4cBLnos84Pt9mjxpV3jYeMDJQlo5e2W8yj5Hj/cxp5MStDJFByWSdemV3EV2pN9D8RMYUiQBO/Aqvx0+P92fDSksxVyLfHH8vl0efaW+NN6RLv2Pe5ALoDYgCN/Jj6zfcY8hHsk+hH6D3s8/TfAf4OlBzEK/k9TkzIUpZQXksVQsUyjhsFAZPm6c6pummrraHjneSgWazlvrrUuunl/kEVoytrPE1Gf0pDTLVKfkUqPOUv7SGSFI8JV/+38wDnm91Z2cbX0NVC1CfWGNy+5bbwBPqk/vABeQicD2sPQgb6+4v00O075NHa0NS/0yjZUeWM9zgJLBu5LZlEvlUcXeRXVE82QpMv2RNl9UjYc8AzriWj054PoSKqN7wy1T7w2wb7GkcuO0ECTDROaUmjQ/46gzAjI9QUTQVQ+Lvv2ukP4svYUtO61E7Z8tzC30bmzPD7/v0MkxjbG1MbLRy7H/AZeQiW8+TkGNnpy2i/2bizuffCIdX87n8I1h8CNoBQ0mRLbNxi9FQrQ20tWg5u7fTORriEqUGkc6bcrVG6Z85N6W4EXRgZJvEx/z2jQ3dAoDb1LMcj6xp8EX8HQfxE8tbtquwW6dPgGNtl3L3iz+dd61/xIPxkChEZoSTTJmQhDBw3G9MTYv8V5RbSAsY8uy6xIq3XsbW/Ldfu9fQUYi5iRKlbPG9IdEVnx1EvO5sivwMl4gLFObFHp4Omwa02uaHH19pg9LENHR/jJ+ou/TZaO4s3Ry5VJQceTBdrEJUI9f228jjs0Oqp5zrf0NcN2ZfhN+qK8L34hAXDFLcjeC+fMbInvxoKFDQMa/cC2prDO7j4sKWqAapVstbC4tvf/MsfsTrnTShgLHJDdzppSk8zNQYb7/wp3FPAHa1co3Kjj60bvBrLatys9KEOmyGYKtswKTjIPf47aTRhKzQjqhr5EaAIG/xj7Yzi896x3AHXudHQ1B/gpe0w+X4EhxGFH0YshDRYMyonBRdJCmj+Y+t40iy9DrH8qx2rKK99uXHL7+UXB2woG0OtVilmc3HacVRj4UiSKkQMy+3Oz5K2LKbNnwCkZbESxFPXbuuDAjwa/ysYNaE5UD3/PpY7wDO+KeEebBM4CDb9GPBg4eDVC9J90lfSc9Id2VLnBPhTBiUTjx8FK3kzCDniNqIp0xNBAd3z7+T6zq657KzKqCepwa0VuQnLFePwAYYl5UXrW+NpjnOPdqJq6E88LWoKFugOyBKuZp4omGCc26tkxN3dGfWLC4AiIjWiP21CG0LeP5w6PTEZJusZlgye/jnyiOYu2iXP2MrIzfDTVNqH5FX0SAbUFFkg/ynQMMsyqjFhK9Ac0AZV80blmthgyEG516+grC6uL7XxwhHWf+4TDakvP08pZfZxXnZtcZpeQEC/Gt30d9ADsrecqpSal9qko7qE13v04g00IzM1vkBHRO9CyD/+OqoyOijLHHYQ3wFw8q3kedhWzavFNMbZzZrYEOVV9aoIkxkDJQUs6zDmMdUuICoTIq0RbPom6IDdxdNvxVa40rASrkSvS7YuxWnZ5/J8EzQ6QlxNcV968nrPb5JVCzD2BS7d9LiGnvCQUpJwnbGx2c2K7w0MLiFCMd49fUPqQg9A8zv9NUwtdSP1F04Jl/YK5D3VDslIv7S8f8ST04jm1Ps6EQgj4C4BNKA06zE2LPMjHBt1DuT7eOk/3XjUp8jlvMiz964irROyIb4s0iLs8gyaM/pYAXOnfv9/N3TkWCcxUwa827K2KZw3kDeSzZ/0tSbS7fHMDU8iczADO50/bED/P/k+izo9M4comRrcCJbzI92yytW9MLaXt0/Fptrs8JoGDBs7K2Q0ODX7L1YoEyERGqMV3Q+eAn/uSuCF2RvSVMSttkOuU6ybsCy8+s+D6OUDayVvTUZuP3umeNlts1h/NXAMh+SqwW2m95jymmOoO7ogz+vpfgZoG2AnJzHtObI+BUFiQlZAxzgWLRIeWQvo8+zZZMSouVu3fbuAyEreDvbcC04fCy32MWIvOyo/JUkgvxoKFkAR2wX98s3hbtfUzvzCQLhKsS6vSrK/vQXRIei+AMYdXEHxYABy0HL/ad9WIzl3FLDujMu2rjqfKp8XqzG7nc595gsB7xYJJd8tsDQIOoc+TEJMQt06ky0HHsELvPT32ijFmLg7tz2/+s4K5Db7DhBEIX0tUzFtLGUkdB+fHF0a1BdsE48He/RF4ULUsstTwhu5JLMksiS1F79S0Rbofv+fGsI7Jlsxbqlx/mh8VVQ41BQo8dnPH7Qwo5Kji7AtwfDRV+Zt/O0OXh3uKJkx7DZxPL5C1UVsP6kvnxwSCUTyttmxxhG9eLsNxCfXiu7JAfMPLRzYJdkpVSX8HlMcux2VHvIfdB4vD5bzitnOzEnFN75mt3u0kbVnuZXDeNST6dT6/hCJMjtWjGrUbnZpXFd7OtQXhvaO1IK31KRXpeO07cYh1QDmqPnxBxUTByByLPwz+TxjR0RNWEZINHMcIQWP7LTTKMMGvtDBKs3/4rL49gY0DxsYwR8eIg0gOB5ZIZEmgirpJwYZO/x13ejJ0cKqv8S7zrb+tJ23/L/ezaze8u+JBYEltUjnY0xv+WrqWKI/gCJ9AkbjpsdVtMyu/7fMxbnRDt1M6Fr0+wNcFUQkiTFmPrVHSUyfSYs6aiJZCf3yrN+608jNVszl02zib/DD+XICLQgDDgUWwB6nJk0vsDbnN7oyux0w+aXWf8SYu4K36ruEv1K7srYrusHDANNd6J8FNi3IVDZs8XNHcW5c5zcFFa34Ttp0w6m7+773xM7MAdQY2pfj9uuX+ZAN0iQXNHJCOU6bTSZCrzCOG7MAJ+3z4CPcT92B4EDiG+Xr7PPzo/yJBikOuReMJ4U4D0CyPfQp5ggd7mvgEtmu0GvKAL39r8uqmq0EtR3CLNWr7mIYqUJuXcJmT2X5U+M7nSpCGW0AxOfc2GfRJtHkzw/MsciBzODUG+iOBDIaWyaJLxM6NDpfNr4rxh0vDz0G6gDv/L764e5h4i7cgeF96CT0Tf/hB1ETIyGZL5s56Dn9ITcCavE47IPqHOog547RmLiqqHeiYqYDssHFYeP0E3Y7A1L6WN5T0z48L2Iu+Si6GpQHh/eT5hPduc9kw3O9tcI20WPs/Qu6GeYbBx2LIdEg1h/sHz0eQx38G38fQhyFDDnxgd/N3pLl+PHE/scNcRMXG4Ai5ClIHIP9v+dc51r1bf7xCDH9i97puPan/KkJtvjHSdyT//wczyxiLKgqxRy3DUEVjCa0LjUmARyrCdj2s+VN1CTKQMxu1xzqiQWNFr0PEQTPAHIBYwZbEeYbrxxDHT0cxRvkFUgHD/g/9IL87wA3BT4LigotB+0LtBgQFTwCvPNE8YL5R/7wA534ReFuwSSzjrsUySLXyebaA84U0R/HI/Ii0xMcBUkJFhfoIy4ixRoHCnH3Fugw46Pnv+mP7U/zFv2T/vT5W/h8+aP8JgKXErUbqRneE/QTPxDxCAEI8QeqCJQHZAmrCd0PgQ9mEMQXIRq0AoPppOtD7Zz39gSBDyPz5dLKv/+24sRB0OniHe+bC94QChbBHwYZSQyLC08kliQ0I64W6gEy6gTi7+VI7Kj5G/31/sUFfwo3/9P47vi99YH2jgWhD18KBwe7B1MHxgerCxMMzAuGDQgLdQsgFBsXRxcdH9MnrBAD9RLtieur8Gf6qwp68gHXJrrzsjLBY9VT7Nj2dxTtDf4OzA0aEgsCrgEMHPMjMSyqHksUGfOj5dfcJeU19pP8QQE8A2oLyv+v/8oCqQE8/q8DgAxZCGMH6gBG+zX4d/tRAMoFpgqZBBgJRhWhIksnKy0MHhb/Xu568mf8pQbeEQv/reKVxJe0m7BJxEPYienrBM4TWxM/DnERHAOTAZcQpiLYJdEhKxRm+JnqXOUM7jb7Ywb7Avv9AAHf/TsAOAmcD7YMiwymDT0GeP8V+gT4h/ht/doAngBc/bL2vfhdBXgYbCl/NHIrNRHf/B71ufvWBowRPQYn61zOnrpBu1TDc9Nl3wPzAP54BFQLWgwdCuEItRuMKHgtPiK3D7L3c+lj7bL2kwCT/L31He1E8YL5LQkAGvcgMx8KFvMOIf+y9dLyBPmZAj4KKQyp/z7w/+J35kD59BJrJ88sVSTzD/UAiP0h/54DugVyAjT01OXX2kfS38+e0R3ZveJ072b2nv6EB4AOuBNoGgIf2hjNEGQJHAbbBNsHsAgWBFz6hO1n5o7pOvVCA+QT4R5pHu8VagzgAzb9TP5dA5UJVAr7BIj7cPKK7nrwPP22DEEV6RTIED0IGwAKAAwHSAgFAhT4quwF5irjUeXP5mjo+uQP4sTmte5r9On6aQeyD/8SFRPCEFkJxQP2A5QH/g0qEHsNQgaO/6f2ZPHz9VEACAzOE7kXhhAWBJ37//k8/+YFDQxvC38HmAGj+0v61P2DA2MGCAxFD/IMmQSIAc8AAP4W/Zj63fXr6xXmD+SO54rtHe8o7ljtwO0M7pvz2vzKAnkFWQrCDtcNkAp+BhYDqQDVA/wHhQuVC+sFrgBd/kwAtALmCAgOSg6AC4oHkwOO/+X9eP7V/zwCFgNYBEgFUgRzA6QD4AUHCj8QWg/sCcUDXf7T+GH6eP9h+YTt7+Qq4afgbee77l7vq+4M7hLvL/dnAdUCmAGqBg0JeQiQDIsOaQeDAbkCygRNBhcIEQbEAgADTQV0B3oLVAr7A7QBMgQRBcoFZAhCBKn9bPvE/cr/rgLFBI4EfgXmCF8M0gw+CywFyv/a/2gCLAPEAMT8rPMH7THpYucQ6EfpBuxD7f3vb/Fl8w71jPf6/M8CaQZYBxIIpQduB/EHQwpEC+IKuwduBOUCygL2A+EHLgz9C9YHRwQQAVf+NgCqBLoG0ASuAlf/Z/1c/Sb+FQCUBMsJ1wxlDnANaQf7/hv+EAG/AqQEeQUW/qbyu+0G6zLs3O+L8Y/v3O5v7hbq5uvH8wX72v0bAlID5f7f/Ff/1QPxCD8P8w97DtcKAQZtAmgFlQqxDD8Opg0SCAb/2ftt/TEAmQPABuAFCwI3/mH7yfr1/BUAtALsB7YLiwxfCkMHqQG//Uf+7wABBXMF1ADO+JDyee3m7Nfx7vW39G/xLvGa79Hub/Ho88P3IPyO/vv+NgG5AK7+AANeCWoN+A6sDSgKYwY9B9YJxwxlD+cMqgjgAxYBBf6e/Zn/fQDwAZkCvgBS/QD9nv3P/QABlAXWBn4FYwRiAwsCbQHaAmICvwIbASz+mf5M/b75zfZx+B/2P/NV9JDzSfJE8hjyi/Oc9tP4zffu90v6w/rw/okFjwkdCvcJBwnABx0JAguQDMwMvAstCY8GnwTKAo4CPAMxA/ABqQCT/pj9TPw8/b//2gByATECQQLl/mL/9QDUAfYDPQWkBBABrv6+/L/91ABzA2cBffyH+cP33vaG9Kz10vXI9ej2fPgv9pb07fSx9ED4jQBSBKQEeQU8A6kB9gSmC4sMdQ0IDBgJBgZYBDcFAQXVBDcF+wQ8ASAA4P4x/Gf88P7a/wYD9gMxALP8JvyN/Bz/uQDrBAcHJwQ3A5gAV/6I/Ez9jv5NBU0GPAMr/VD3GfRQ9hX5D/rJ+6L4rfi39d73+fcq+Wz7kvvw/Xj/YgPaAsoDcwNtAkIGKAj2BuYHWQm1BrQE4ATVBLoGUwV4A1L+Uv+uAHj+2v/1AdX/ff1MAJ35qfx9ALkCTAFMAFIBJgIGBckBngC0/RABLAKZAhwG+wIK+yX5p/dc+sn8C/8x/a34Kvdm9nz4G/z6/KP8gvwV/N/7k/4ABFwA+wIKAN8AMQNYBUgGugYMB8QCpATEAH0CgwMsBZoGEQWTAs/9Yfu4+kz+EAKfBicFz/xs+lb5S/kAAcsG5wmUBRUAPP1R+hAB9gR9ADwCSAggAHj94P8v9g/4xACY/MP5eAGu/FH7vvyi96z0BftSAwv/NgGNAEH+W/knBEwBXPzQBMkB0AYHCLoDXP3F/3MDrgJtA44CQgSj/AYF8AQmAoj7CgAe9NT8HQuaBhwFAAJf8mTx4g3l/ooItQa//5798P5G+lcDmwoA/2L9Nv2CAAsEMfyi+Bv8kwJXAGL9rgIo8EX1Jv8dCc8A6gLj9oru+wJtAwsD5gWN+635eAFOCsoC7/r2/4MBFwcVAAwHEP6eAREDMQBS/RsBtAEm/KUJxAHf/Zj7qPr8BRH/vwRoAhT2aQbvAAABngHr/579tAFvCpH1UQDqAc/+ugaIAgr8L/RX/1L9DAUhBJP+zfWB+N/9tP8cBFz96gHp+HL9ngAmAsQCZwBy/ZP+xQSu/EEBhAdtAFL/bfwQ/V0Emwvk+33++wKn9soFjgJXA64AFgF3/Ez+ugQE+H4Fg/0MBrMA5ADkAKf1xAFH/8AHQgUx//T5mACz/F0EXAHE/r4AzfUYCZ7+ngCG9hAAtP4WAZkDyPltAXH4MQPO+04HrwM3/875APzl/1EAvAsL/9YGA/Qq9t8AKhBSAXf7EQWh9FMFKwFi/kIDEAEl+5oIHAOR9oMCyf0a+XAOlAWo+QX9uf5y/HgB6wVZCLHzmABUCpL5FPZCBaUHiP2OAzb9ZfSp/t0Mg/1cAIH1zwHaAq78iQSj+mf6egrw/hX68Qbv+SD8eAOeAMoFMwkO9ejzigee/9AHcwUV+8P6iP0cAxACPQZy/Ln9LANs+kwAbgT0+SgJtAJdAqTrjgNdBF4JMQFL+H4GTu8fECD7TAEs/2IDG/19AeT7rvwMCCYBXf7k/LL3BQIVE+vp4ARpCJL4KvmMD3b2VPIFFlrztQdzBGz4ZfRTCHMDqf3cCb/+cfYa98INUwUA/XH5ugM6+DAVCPRk8SMLpxF68K789wi28fIJo/wtCGz47hFk8SLuLg14/18N2v+p/ijx5QNn/PX+cxkd7ib/hQll8wT5+Ayo+8YI1f4FArnngAsXBXICHQgI8esGAOn1FiEFOvY3BTTySg7j9y4KgvuR91cDtP2uFYvynv75930AfgZNA58Fh/qH+K35KAtXAcoCEP2h8ywErREU9jX3hQqy9/AEs/ygC3f7/fIaEZ37kfbaADIGQwnf+s/+quysEGME3O65Fjf+m/H1APUBdPC0GZoITu2n9zgHJwcD9iIJTvA8GsDs3AuY+g70GAxA9/MPjPXyCgn3Ef9f8oIT2vzE+wIJO/wQ/nrxGQ1tAGf7oQ4A/Ar6ae+/BKMWFPXABncAwOvqABcdreRiA8kU7O99AWQITes8AZQbbuzQBUcE8et8Em3+WvUWAQ0Mz//v+479JfvJ+3YPLP6Y/X8IV+laDe/6Tw019p37RAuT/cn6HvVuG2/wfftdBDb80QiKB9bt3vbrGaDwRwLXDQfu7AkH8EMITw0o8GESqPg47yv9QRjY9CwE9BRt01QMYA9h+PD9xQORDp/s+fi8DmnvZhNwDJ7nmPtlD4b1qf6nDo4DlOuFDMX/qurOFA0LE/PKAvX8Pu/4DbMTX/B89+gPOO54A5sKK/wQ/YQGUv1q8psMB/DSJEbktQaS+Xf6zA3U+0gGBPhTCCzq+xrz4H0YpQko8Dz+CwEv9uwKCwTcCA/5NufgGx70+PI+Iir5MOOfGrT/btRnLTgKmekrAZDwbBO++VoNW/dz/931qghzA2v3lQuYAWH5g+keJKvyGfT/Faf2RvmDAnIACwEyB0/0AgmH97kCNgFYBhD7NPP0E7byXQMXBQwGae7a/hIItgx79PX+6PQPFNn4Qf3cCQDm+hZzBDH9/+INItLzvfURGeT5YeXJFSD9KvfEGLDu//meA3ANAOauFsT9sfQvEBX6QegcGxz/y+5hE/YFH+IjDUf/5gi//j7xHB0745P/Lw8k9+MPavEx/9/88gzv+1ryQwkvDh/2KfPtDsbuVhLJ+7oElvQIDBHrWQmNFLjk5Re27zf/5ABDCS7zdhBy/PftNA6TACv9GwAWAxT31wv6AAzrFwfcH3bhMf4iCED3UA+qBcDrUfy4E875p/VNBL0Py+0CCe/5CgBBAE4Hcfb8CMX/LvBmE/Lwigo3/rkCBuq2InXyxeyZGpTr/QtvCqXsRwMnBPsCQPcYDE/yOAq0/9oCbuxuBt0ibM67IJTsOQ1V9bIRi/II8q0UG/xMAiv6gQ9K4MAGzxl9+wvo1BQK+s/9iP5MAJ79YA54/ZL4cvsc/8n9CRERBdHwnPXLCCcGif9DB5HehSI69S0HCvnX81cAUA8pDsDt4/fUAUEBywYXB2D1Jv8l+B0eX9wEEZn+JPbEFQr8m/JG+boEMBWn9AT61AG9+JsNFQD1/gbqeBpW+kz9K/wnBQb/cwRV9JQEaxCE2GIsrPRm9q362gNr9hwbtgnA2EsS8u85DsT+fwiY/Vv4VAvC4JYPfRe56PcJOApM5w/48iDb7Hj/xBaU6oj8sAit+vX9qgUnBwACte3FBG0DUfnlA64Vv+cb+1kgQc/QHKwOHdscGi4N++fX8X0XO/smAMIN/OuhDRzrBwqFDBLuZhGpAZvzA/W9D+/5+wG3DnL+EOiOBaUIK/ubDVH6W/iwCDr1R/7qFk3sJPSBJ9Dr7fR+BIgB+vmDF4DyS/elB2PrMClg3vYDkxkt2cgTVQ398jbkXCvs8MP5NRPG2lsnQec9Bz0HsvdW+a8ZFPho0/8+duLn8dch0/YW6O0OUhokyPweEBUm52nvySyu54PqzCBo6kEVl/lL+Mn8Wg6m8aoF2wUK+o7+Pw6P7fYDRAtN68gTcfa6BpL7dwAQ/eT5lxKZ6SsXf+3ABlgFfftq85oJmggr/TX3xP7uDxjycgLV/pkFw/koCETzuBNI7r8BbwmL8bUIKQ5h47EMnRMU4vgMt/ZnAG0XkvhD7WkG7g+I57YJZxZV38sclOziCnXzff48Gvng5h6V7rj5+fchGg7zQPn9C0H+XAH87ZoJmf/hB54AggCs9q78gwTbBVz89gRjBCLt9gYDDTTzcvseDhsCyuvjElD3P/UJEjz+7/qI/tP2nBAmAIrvHQuI/usG5eoMHdXqJwS0/i4LVvo69rgUqOTkFs75vwII8UARjfu//8/8+vybC4f6PP/U+5ULVPCPCAwHKvfO+VwVQuvWBpoGu+9vC4gAXgYi77wNT/PsCE0D7vhF93wUE/O6BMr+LP7p97sIlQks6EwWrvvp+FL9vAuf7A8UYfgzCpH09f6O/eoCAQhr9w8RXem1CFIC0vWPCMQC0AY09LT+Mf8R/7AK0/dkC1r06vxeB9L1vAxG+p4B1ADk+roG+fV6Cdj1RQ+X9on/xgrc7poIOwCv/zwDuQDv+sn9xgec9UIGjwg58WkGXAG89IoHWAYx/K34Xgdy/MT98QbZ+zsA6/9IBZ36+wPk+xAAHQh29TIH5ABc/CwC9QAa+V0CwAiX+dr8Uwfp+vv/vwPN95kEygVBAO74IAGS+VMIgwSp/bP5IQIgAUf9bQOn9SUSvPJ+BSAB0vQRA5P/vAv0+IkDA/UnBbT/uv9TBy/1FwiYAFv5QQBOCYvyKAgbAtr9BQAA/R0IvPNDB/D/xABSA2H7XQSc9aoHJgI2/OAEo/wW/zYBQv9SArP7C/8xA8kAuQE2/b4AcfiOBYj9kwPFA4L7eQbt9IIAPAGDAYoHrv59AGb2nwU7+gUC4ASeALkBBQDY9Lr//AXf+rUHbQBi/SD7ugPO+zz9igipAs76HANXAPn4Fv+mC47/2v3E/soE8/U8AzgHG/u6Bf/4igdF9pgAcwMm/r4A6wRB+776xAEbANoABQLPADb65QTk+zYAYv72BXIBz/1yABn28QXbBG39bgSt+dUDTP7q+2IC2v89Btn5bgdc+mf6EQMAALoGQf6TAb34ngEmAcr+YwRR/AEFQv+J/438vvpjBRwEbQNS/Tb85Px9AXP/vwO//3gB5QFs+2H7Bf32AwEFWAZ8+sj53/ypACAAJwTEARAAyv+Y/L76V/xdBb8E8AM8/3j+Jvw7+5MCBgW6AxwHC/7f+hz/mf4KAHkGqgYAAeD+6fnJ+4IAjgNzBBABfv8r/Dv72vxy/oMC1QIFAMn8Bf3k+Bz/Yv/lAvD9c/+Y/Sz/1PoF/kf+owDgA0f+Uv25/TsAnv4LAxAAGwK//xwDYgELAwsDiQSvA2MFrwQGBTIHxgdYBvYFgwNeCPEGmgafBr4A+wIbAOUBjQDV/yb87/pf8hjxDvUf9oz2sfHh7KTpU+sm6bvvSvVg9oH2JPSx8wP2ufy6BEkL7QtPDnoLpgxwDoMXQhnKGlgd9RgFFSoTfBNcFSYWyRU5Do8GpAWD/9oBbQA8AfX8zvhE84Ll1ORe7Grz+PMi7JLj59mF2xThMekB7ovxb/Ge5n3m5u4f9yYBQwp1DOAEzwHnCqwNzxefHGgamBfkFtoWYRQ2FWkdcxwgFb0RmwybCvMNoQ6LCxwEjgHf/CX4O/s8/6kA3wDu9kvj494i7cr+V/xF9dvqzNqV2O3duukI89T6e/RG5lXgvuag7+r8rA/oEIUJ9v/kAJ4DPgwBHtIkjx9CGjURqgjsCpkYWSBIHVcZDhDwAan/7AfMDDQMsAljBP71ofPD+Pr7ngIuCyH+st902mTwUgRt/lb5j+7t24/YVNpo6B3xAP/e+fnfCeHD5PzsjPeMD3gZLQeYARwFBgSrDOsbkSSMJbsgqhoHCCIGpBo4HmkfzxmHFNUCW/lNBV0FwAi7CUwBGfWU7PjyjPV9/X8KK/113QfXY+2IAYL8BPmL8STfitqF2+XnSvOuAdr+qOW/56rrQ+9c+4YQLR6xDXkI9wocB2AOEh3zJOIgPiGKHWQLmgYwFOQWqBVRFjUT2gG9988CpP5M/pMB8P009LXsrPR19IL51gY69l7ZldpK9sUFMf3p+XnuDdxE24Hh0O3v+esGYv8K5Mroj+wv9FcBIRnyIh4OAguPCFgHjBAoIIcovCIuI9oXbQNyAUURNhfUFEYU+Ath+efxG/uO/Xj+yQHk/H/u9umL8Sr2pP9DCXH50t053CT2pQbrBAsCKfX+4D7cQOIX7lb6QwhdAp/q2unV6HntJfvJFLYfFA8dCdAGYwTiCogWWSCwH+IjBhzhBq//KAv0Ea0T+hSWDzwBW/ee/CD96v71AgoAFPZO8LHzKvjl/rsHbQDv46ze3PA9B0gIMQBb963kRN7533PrjPepAjwCEvD15pjntesZ9nULxRqtE6oIIgYGBY8G4w9jG6sfOSMyHC4MC/8tBlAP7hDuERQQ0AZG+pf3Bf5S/wACdwBA+g70/vOS+Uz+vwSVCCX4Z+RB53j+agwdCAoAX/L/4pzfqOXn8en6bQMF/eXp2uYL53/tzvqBEJ4ZAgw9BX4FJgKEBfQROB2FH7AeFhgXBiH/MwlrDpEPUBEOEAsE9PfE/Cb/uf1+//D+MPmB9aL56vuu+78E9gUd8B/jIu/WBhMLLAX1/KTq3uAU4o7q/vMbAAwHkfZB5tTm++ku8gsDChZWFVQKoAhjBPb/mgcVFkgdyx/RHnETowFiAT0I4QlaDkYTShBMAZ34UfrT+Yj88P+5/Wf65Pob+8j2JfpuBcoCevDg6hT2jwbhCG4Eovks6trmEObQ7Mj2IQKeA7zxjui06CHrT/TqAocR/g9OCnkGV/5B/kMIIBQRGnkc0BuREDcDfQIGBVkJ7hB3Fh8R5QEF+5f5uPp4/8QBAAKk/vX80/g/9IL6QgUHBzD57O4u8fX9pQbLBkf93O5d6YPniezn8vX7FgGc9yjvMuqO6bvwUv1PDM0OTwuUB1f/rvyIAosNmBYnG7AdGhQsBeX/UQDxBmwSuhlcFdAFBfyt98j2TP7ABYQIAAR4/Yz29+9E9OX/LQl/B337VPA58Ez7+wMsAkb67fRP8uzuOO7B8BX5qf5y/Pj0n+2P7yr3YgDKBUgIFwfaA8r+Fv/2BE8LFBEUEs0QkAt4BDcCBgMTDAkS6BAjC0IDnv4w+yH+JwVIB9AFjgHv+qf1/vTO+4MDqgiVCiH+X/Hc7vr55QQoCHkGYvzX88zw3PCW8jr4XAGpArj53fJ/7wLxBPik/+oBC//EAOoCpP9t/IP9MQLhB8IN6A4zCZ8E6wRzBfAEwQnoDRkOKApdBQv/UfmZ/okFEggMBa//bf0f9537Z/2eAgwGuwfaAyr3H/np+jcDUgTKBJMCd/qX+Jb0KfSn9zH+uQDk/FH5hvX38FnxJPe//Y0AxAEbAIj8NfmX+er7qQFpCTQN4QksBDEBrgB4Al4G9wqQC9wIHAVBADz/v/9iAV0DygRjBxEEEf/J+iD7xAAGBQcJwAXVArr/cv6//voA9gN+BlgGRwJH/Vv5EPtB/YP/qf5M/Hz6Ovgw+Mj3/vZQ+Kj4bPo2+pL52flW+SD7XPt9+8T8Uv/aAnMDPAGk/jz9v/+6A8AFtQYcBo4FqQMWAUcBvwL2BWkIDAjgBUcCcgHaAdUEJwdpBwYGxQQsBQYFFgRoA6kDqgSqBNoDJgJRAL/+cv1B/Z79ff1i/Mj5YfiH92v37vay9sP3UPju97L2+fWy9un3Nfk2+sT7Mf2+/Eb8G/w3/pMARwLaA/YD+wPEAs8BkwJdBBwH0AfABxcHNwX7A+UDDAagCCgJ/AfQBeAEDAVYBTcFDAUcBa8EbQMmAq4BiAFMASsAYv7a/fD9iP5c/c77rfoV+kD66fk7+aL4rfhb+cj4H/iM+DX5qPka+Xz5h/rZ+zH96vy5/Cv9V/6D/8X/iAFdAmICPAJMAk0DngO0BBwF2wRIBZ8FygU3BfYETQUnBcUFrwUGBaoE6wS/BCYDXQLaAo4DMQNMAhsBbQBnAPv/4P7l/b/+6v5o/pj95Pzk+636rfqC+zv8s/zJ+3z6h/m4+Qr6uPrv+zH9AP2N/FH8XPzP/GL9If9XABsBNgGuALkAmAC5ACABJgLVAwsEXQNBAt8BCwJHAp4CIQPPAzwEBgQAAyYCjgELAtoC2gMGBDcDjgIFAs8BQQHaAOoAPAHUAVIBGwDK/vD9Bf4A/m3+N/7q/c/9xP2O/aP8G/wx/Nr8+/3P/p7+8P0g/Y38s/xS/dr+Yv9C/8T+AP6j/a79cv6O/8r/FQCk/1f/c/9+/xAAZwDkADEB+gA8AeUBLAJHAvsBcgLVAsoCFgMWA+sDzwOJA+oCUgKpAn0CYgJ4Ar8CuQJyATYAjv+D/1EAjQBnAGj/uf4h/qn9yf0F/kz+6v3E/Vf9+vz1/Dz9XP1M/YP9Z/1M/Rv9XP3a/dT92v2I/an9Xf6//jH/qf48/0L/xf/l/ysA5AAxAeoBCwI8AkECTALgAkcDpAPrA/YDCwS6A2gD5QL7Al0DrwPqAn0CyQF4AdoAXABMABUA6/94/5P+C/60/eX9Z/1t/TH91Py+/Mn8Fv3P/Ln8nvyp/Bb9V/25/ZP9AP5B/gv+Fv6I/iz/tP/K/1wAdwDqADYBBQEAAbMA5QFXAiwDvwNCA8QCkwHfANoAQQLFBMAFEQXfAdr/8P4xACYCRwQnBF0DeAGT/ib9g/0h/4MBqQFHAaT+nvyN+zb7Z/1n/TYAv/5S/kz8RvsF+wD86v0G/03/1f48/ur8z/2//fD/4P+eAY0AqQBRAFcAFgE2AeoBLAJBAvUB+wHEAZgBFgL1AckBXQJMAckBswByARsBeAF9AWcAEAGk/6kAtP9MAIIAuv8WAW3+NgC//aT/If8s/zsATP7V//v9AP88/nL+LP9t/03/+/9M/tr/Jv6J/wb/Bv+jAHP/UgG0/nIAMf77/0L/kwByAJMAxAAs/zYA5f7a/1EAYgCjAYIAngAFADz/dwAAAEcBJgEbAZMB+/5nAVL+owHg/+UBFgExAO8A5f5XAMr/RgCeARz/RwIb/jYB1f7w/yABPP7aApj9YgIL/gUBqf6T/2cAC/8FASb/jv+p/xb+8P9t/qkAk/4xAOr+uf3fAN/8mAFt/X0BC/47AOD+Bv+CAF3/rgDl/57/EABRAMX/GwFGACsBeP8mAr/+AALP/98BTADEAW0AjQAFAQoAxAHr/88BQQBnAVf/qQCO/20AkwAmAX7/UQBo/4n/bf/w/8X/cgAVAHP/jv8L/jEAtP5yAOr+KwDV/vD+Jv9i/uD+nv9o/kYABf72/33+Jv+D/4j+kwAm/skBiP5BAXP/zwDg/yYBcgCpAI4BvgBXAfoABQE8ATEB3wA8AW0ArgH7/98BeP9HAVcA6//EAJn/mABN/6kAXf+v/30Ak/6IAG3+GwC5/uD/Tf9H/+v/iP7F/9r+2v6k/0f/k/+//23/Yv8c/zEAmf7JADf/TAArAOX/OwDK/1EAr//kABUAngDUABAAowDr/3IAKwDJANoARgDaAIP/XADF/0wAdwDaABsAdwCO/7//xf8QAGIANgBnAPb/1f9z/wUAif9BAMr/ggCp/woAz/8s/ysALP+jAE3/cgCv/8//4P88/0EAHP9tAMr/EADl/+v/5f+e/xAAr//l/zEAz/9tAK//QQC//+D/4P/K/2IAxf+YANX/EADl/+X/xf8QABUANgAVAFcAv/9XAI7/NgDl/yYAbQAVAKMA1f+IAJP/FQAQACsAmABRAHIABQDa/wAAmf9cAPv/kwAKABUAxf+J/7r/yv/7/woA6//V/7T/k/+k/6n/nv/V/8r/1f+//9X/mf+6/7T/1f/F/woA4P8FAAUA2v8VAOD/JgAVADsAOwA2AFwABQBiADEAUQBiAGIARgBcAEEARgBBAFEAOwBBADYAAAArANr/NgDV/0wAnv8gAI7/6/+k/8//r/+//7//nv/K/4P/xf94/8r/k//V/6//z/+//8//xf/P/+D/6/8AAAUAAAAbAPb/QQD2/zsAIAA7ADYAVwA7AEwARgA2AEEAQQBMAEwAVwA2AFcAFQAxAAoAMQAQADYAEAAKAPD/8P/a/9r/9v/P//b/uv/V/57/v/+p/8X/tP/K/7T/uv+k/7r/r//K/8r/1f/g/8r/6//P/+X/AADl/xsAEAAKACAAFQAbABsANgArAEYAOwA7ADYAOwAmAFEANgBGAEYAOwAgADYAFQAgACYAJgAVACAABQDr//v/5f/2//b/6//l/9X/yv+//8r/yv/K/9r/xf/F/7//uv+0/9r/v//l/8//4P/F/+X/2v/l/wAA6/8QAOv/FQDl/yYA9v8rABUAMQAbACYAIAAbAEEAFQBRABsARgAbADYAGwAxACAAJgArABAAJgAAABAABQAFAAUAAAD7//b/6//w/9X/8P/V/+X/2v/a/9r/z//a/8r/4P/K/+D/2v/a/9r/2v/a/+D/4P/r//D/9v/w//b/8P/7//v/AAAQAAUAEAAKABUABQAgAAoAJgAbACAAGwAbABsAGwAmABsAJgAbABsAFQAbABAAGwAQABAACgAKAAAAAAAFAPb/BQDr//b/8P/r/+X/6//l/9r/5f/V/+D/2v/a/+D/1f/a/8//4P/a/+D/6//g/+v/4P/r/+v/8P/7//b/BQD2/woAAAAKABAAEAAbABUAGwAbABUAJgAVACsAIAAgACYAIAAbACAAGwAbABsAFQAVAAoAGwAAABUA+/8FAPv/+//w//b/6//r/+X/4P/g/9r/4P/a/9r/2v/V/9X/2v/P/+D/1f/l/9r/5f/a/+X/6//r//b/8P8AAPD/CgD2/xAABQAQABUAEAAVABUAGwAbACYAIAAmABsAIAAbABsAJgAbACYAFQAgAAoAFQAKAAoACgAKAAAAAAD7//D/+//r//b/6//w/+D/5f/g/9r/5f/a/+D/2v/l/9X/5f/V/+D/4P/a/+v/4P/w/+X/9v/r//b/9v/7/wAABQAFAAoACgAKABAAFQAVABUAIAAVACAAFQAgABsAIAAgABsAGwAVABUAEAAVABAAEAAFABAAAAAFAPb/AADw/wAA8P/2//D/6//r/+X/5f/l/+X/4P/l/+D/5f/a/+v/2v/r/9r/6//l//D/6//w//D/8P/2//D/AAD2/wUA+/8FAAAACgAFABAACgAQABAAFQAVABAAGwAQABsAFQAbABUAFQAVABAAEAAKABAACgAKAAoABQAAAAAA+/8AAPb/+//w//b/8P/w/+v/8P/r/+v/6//l/+v/5f/l/+X/6//l/+v/6//r/+v/8P/r//D/8P/2//b/9v/7//v/+/8AAAAABQAAAAoABQAKAAoAEAAQABAAEAAVABUAFQAVABUAFQAQABAAEAAQAAoAEAAKAAoABQAFAAUAAAAAAPv/+//7//b/9v/2//b/9v/w//D/6//w/+X/8P/l//D/5f/r/+X/5f/l/+v/6//r/+v/6//w//D/9v/w//v/9v8AAPv/AAAAAAUABQAKAAoACgAKABAAEAAQABUAEAAVABAAFQAQABUAEAAVABAAEAAKAAoABQAKAAUABQAFAAAAAAAAAPv/+//7//b/9v/w//D/8P/w//D/6//r/+X/6//l/+X/5f/l/+X/5f/l/+X/6//r/+v/8P/w//b/9v/7//v/AAAAAAUABQAKAAoACgAQABAAFQAVABUAFQAVABUAFQAVABUAFQAQABAAEAAQAAoACgAFAAUABQAFAAAAAAAAAPv/AAD2//v/9v/2//b/9v/w//D/6//r/+v/6//l/+X/4P/g/+D/2v/g/+D/4P/g/+X/5f/r//D/8P/2//b/+/8AAAUABQAKABAAEAAVABUAGwAbABsAIAAgACAAIAAbABsAGwAVABUAEAAQAAoACgAFAAUAAAAAAAAA+/8AAPv/AAAAAAAAAAD7//v/9v/2//D/6//r/+X/4P/a/9X/1f/V/8//1f/V/9X/1f/a/9r/4P/g/+X/6//w//b/+/8AAAUAEAAVABsAIAAmACsAKwAxADEAKwArACYAIAAbABsAFQAQABAACgAKAAUABQAFAAUABQAFAAUABQAFAAUABQAFAAAAAAAAAPv/9v/w/+v/5f/g/9X/z//K/8X/xf/F/8X/xf/F/8r/z//V/9r/4P/l//D/9v/7/wAABQAQABUAFQAbACAAIAAmACYAKwArACsAJgAmACYAIAAgABsAGwAVABUAEAAQABAACgAQAAoACgAQABAAEAAQABAACgAKAAUAAAD7//b/8P/l/9r/1f/K/8X/v/+6/7T/tP+0/7r/v//F/8r/1f/a/+D/6//w//b/+//7/wAABQAKABAAFQAbACAAIAAmACYAKwArACYAJgAmACAAIAAgABsAGwAbABUAFQAVABUAFQAVABUAFQAVABUAFQAbABsAGwAVABUAEAAKAAUA+//w/+D/1f/F/7r/qf+e/5n/k/+T/5P/nv+k/7T/v//P/+D/8P/7/wUAEAAbACAAJgAmACsAKwArACsAKwArACsAKwAmACYAIAAbABUACgAFAAAA+//2//D/8P/w//D/9v/7/wAABQAQABsAIAArADEANgA2ADsAOwA2ADYAMQArACAAFQAKAPv/5f/V/7//qf+T/4P/c/9t/2j/bf9z/4P/k/+p/7//1f/r//v/CgAbACYAMQA2ADsAQQBGAEwAUQBRAFcAVwBXAFEATABGADsAMQAgABUABQD2/+X/2v/P/8X/v/+6/7//v//F/8//2v/g/+v/9v8AAAoAFQAgACYAMQA7AEYAUQBXAFcAVwBXAEwAOwArABAA9v/V/7T/mf9+/2L/Uv9N/0f/Tf9d/23/g/+e/7r/1f/r/wUAGwArADsARgBRAFwAZwByAHcAggCIAI0AjQCNAIgAfQByAFwARgArAAoA8P/P/7T/nv+J/3j/bf9t/23/c/94/4n/k/+k/7r/yv/a//D/AAAVACYAOwBRAGcAfQCTAKMAswC5ALkArgCYAH0AUQAgAOv/tP94/0L/Fv/7/uX+4P7q/gD/Jv9N/37/r//g/xAANgBXAHIAiACTAJ4AowCjAJ4AngCeAJgAmACTAI0AggB3AGcATAAxAAoA5f+6/47/aP9C/yb/Fv8L/wv/Fv8s/0f/aP+J/6n/yv/r/woAKwBMAG0AjQCzANoA+gAWASYBMQExASABAAHPAJMATAD7/6T/Tf/7/rT+eP5S/kH+R/5i/o7+z/4c/23/xf8QAFwAngDUAPoAEAEbARsBFgEFAe8A2gDEALMAngCNAHcAYgBMADEAEADl/7T/g/9N/xb/5f6//p7+k/6T/qT+xP7w/ib/aP+k/+X/JgBiAJgAzwAFATYBZwGTAbkB1AHlAeoB2gG5AYMBNgHUAFwA1f9C/6n+Fv6O/SD91Pyu/LP85PxB/bn9Uv77/qn/UQDvAH0B8AFHAn0CmQKTAn0CTAIWAs8BiAFBAfoAuQB3ADsA+/+0/2j/Fv+5/l3+AP6p/WL9K/0L/RD9Mf14/dr9Xf77/qT/UQAAAakBQQLEAjEDiQPFA+sD9gPlA7oDbQMGA4MC2gEWATYAQv83/iD9EPwQ+zb6jfkq+Rr5W/n6+e/6JvyY/Sb/vgBHAqkD1QS1BU0GjwaEBjgGrwX2BCcEQgNiAogBuQD2/0f/pP4L/nL95PxR/Mn7RvvU+nf6Rvo7+nL63/qN+338o/31/mIA3wFXA78EBgYXB/EHfwjGCLUIUwifB58GWAXVAyYCUQBt/nf8jfq4+AT3jPVg9KHzVfOb83X06PXj91b6Jv0gACYDBgagCMEKVAxKDZsNSg1lDP0KMwktBwYF2gLJAOD+Mf25+3z6d/mX+N73RffT9oH2YPZx9sj2ZvdW+J35MPsQ/TH/eAHPAyIGTgg+CtcLDg3HDQgOvA3yDLEL9wnWB2gFuQLr/wD9D/ov93X0+PHR7x3u/OyP7PHsOO5q8HXzRfeu+3cAWAUHCj8OwxFWFNQVOxaCFcgTNRH4DU4KbgaZAvX+rvve+JH2zfSG87HyPvIY8j7yofI58w70JPWM9kD4S/qj/EL/CwLrBMAHZAqrDIYO2A+REKwQJBAOD3UNagsNCWkGjgOYAKP9s/rT9w71evId8BLuaexI68rqIetj7Kvu+PEv9iv7uQCJBjkMZhGzFeUYuhoRG+sZZxe+EzQPKArwBOD/QftQ9zT08vGK8Ofv7O9v8EnxX/KW8930Nfan9zv5//oF/UL/tAFNBOsGaQmgC18Nlg4kDw4PYA4uDZALsAmqB44FeANnAVL/R/1G+0D5KvcO9fLy5/AC73TtaewX7LXsee5v8Zz1w/qzAAcHTw3/Ep4X0BpYHAYc8BlMFnERzAvKBfv/uPpQ9gPz4vDs7/3vzPAu8t3zlvUv94z4s/mj+n37Z/x9/dr+jQCOAr8E9gb3CJsKqwsIDJsLfwrcCOYG4AT7AngBbQDg/7//4P8FAAUAuv8A/679xPtR+YH2kPPM8ITuIu3x7DjuE/Fl9fT6TAH3B1oO2RPUF/sZJxpdGNQU+Q9ZCn4EAP9R+r32ZfRV82XzWvTj9Zz3Rvmj+pL7EPwm/AX83/v1+2f8Yv3a/sQA8AIcBfwGSAjRCH8IUwdoBQsDkwBd/sn8G/xt/L/94P99AjIFigcSCY8J4QgHBxwEUQAA/If3T/Ow7wftn+uv61Ptf/D+9Gf6RgAXBmQLpw9xEq0TWxOyEfMOiwvsB2gEUgHg/ib9Bfxc+xD79Prp+tT6mPpL+gT62fne+TD63/rv+1f9+/6pACwCUgMABBwEjgNtAuoAN/+Y/VH8mPuj+5P8aP4AAScEfwegCikNxw4vDzkO/QvACMoEVwCz+zr3I/OV78Xs4OoB6lLq4OvA7szyvfdS/SYD0QjXDc0RfBS+FY0VDxRrEf4NGAoRBjcCz/7q+6j5H/hL9w/3S/fY96L4h/ls+kz7G/zf/J79V/4G/47/5f8AAOv/nv8W/23+z/1i/UH9iP1H/on/QQFzAwEGqgg5C2oNDg/jD7IPZQ79C6oIqgQrAGH7kfbt8bDtFupS56PlVuWY5onpKO459Ez75QJ6CmYRABfQGp8cUxwLGiYWFBFZC44FQQDO+3H4NfYZ9ej0cPVr9oH3gfhW+Qr6o/ow+9T7nvyO/ZP+k/9XALkAswBMAJn/v/7l/Uz9K/2p/b/+YgB4AuUEfwcNCl8MRA6RDxkQxw97DiMMwAiOBOD/7/ro9QjxlOzK6NnlBOSN463kk+dN7LbycvraAkkLChNzGdYdwR8oH1McnhenESMLugQL/4L6VveB9cf00vRa9S/2GvfY92b46fiH+Vb6bPvE/EH+uv8LAfUBQQLJAa4AN/+u/W38rvud+3f8N/6YAE0D/AV5CJsKSQyGDT8OdQ40DnUNIwzsCa8GjgLP/c74wvMC78rqeOdR5Xfk9OTv5oPqq+869tr96wW3DaMULBrLHfwetR1HGkEVRQ/8CPsCyf3O+S/3wvUp9Q71NPV29eP1e/Yk9/T3H/m++qn8k/5GAI4BVwJ9AvsB3wBi/9T9o/wm/HL8Yv3q/hABjgP2BfcHegmKCkQLvAsCDAgMzAsoCwcKIgghBfoAG/wU91/yQ+4G6+Do9edB6JnpxevW7tfy4/fw/a8EkAveETEXFxvmHD0cQhl8FJYOWQhyAlf9bPnj9r31hvXI9Q72NfZQ9qL2Kvfu9xX5zvoL/W3/eAHaAmgDMQNHAtQAIf9t/Tb85Puj/Bv+AAAxApQExQZpCFQJmgl0CTgJHQkYCQcJ0QhICC0HHAXJAVz9gfj+807wn+3261PrquvA7Fnub/A58/n23/v7AcAIRQ/DFOUYFxu/Gt8XFRMjDfYGeAEm/RX6OviM95z3zfey9yr3W/bo9Tr2UPcP+Wf7Qf4bAV0DgwRjBCYDPAEm/2L9IPyY+xD8uf0QAFcCJwR5BUgGhAZeBgwGxQXmBa8G5gcCCaUJigl0CFgGFgO//uT5hvVf8oXwsO+g7/LvZPDM8E/xLvLz80D3YvwLAzgKvRC5FY4YxBhRFsMRIwyPBgAC9f5M/Zj8Yvwg/HL7Jfo6+Cr20vTS9C/2qPjO+xz/3wGkAxYEHAMAAZ7+ufzE+877yfxd/jEA6gERA2IDHAPEAsoCbQO6BG4GPQjnCSgLgAuwCvwIqgb7AyABQf5G+2b4Nfbt9Bn0T/Nf8knxHfBD707vu/DX88j4Xf+vBl8NRRLpFEYVjRNFEFoMpQjVBRwELANtAlIBg//f/NP57vac9FXz3fNK9rj5IP3l/4MBowGNAOr+G/3E+5L7o/x9/o0ALALKAogC2gELAVwAbQC0AesDiQYCCbYKHQtfCuEI9gb2BHMDmQIhApgBkwCO/n37Nfhr9S7zavF08E7wlfA+8YvykfRQ9wX7yv8XBQcK+A2RELIRUBGnDyMNVAqwB3kFiQO5Afb/EP4F/BX6jPhr99P2RffD+I36EPw8/dr9yf19/UH9Mf2D/Xj+v//vANoBLAKpAeQAkwCYAAUBVwJ+BJ8GUwh/CaUJsAhTBxwGDAVjBHMEmQQcBOACngAA/dn4lvWL81/yGPKQ8u3yvPJ68qbycPOB9Vb5rv6kBFkK0g5bEe4RyBBPDk8LuwjxBrUF0AQABLQCiADE/e/6UPhF9nb1OvYJ+Ar6yfvv/Ef9+vyI/Ez8gvxy/QD/ngAFAuUCzwLwATEB+gAWAdoBvwMRBtsHIgnBCTMJ0AeUBqQF2wTFBEIFHAXgA98BpP47+lX2NPQ088zyP/Ox8/3yoPGw8HrwkPED9aP6JgG7B3UN0xCMEaIQiw6gC04JfwhkCDgIAQgSB2MEiACj/O743fWc9GD1JPdA+Vb7bfwK/Bv7Z/rp+SD6xPs8/oIAVwKvA8UDkwJMAckA3wCuAa8DWAaECNYJagrWCSIIYwZCBW4EFgTKBJkFJwWZA0EBiP3p+Ib1HvSA81rz8/P+82ryhfCr77vvb/Ho9Tb8cgI9CA4NLw+xDosNKQxJCmkJTgo5C/cKOAqPCL8EAAA2/Br5nPY/9tj3Yflc+kH7FftW+dj3uPcl+Gb5V/y//9oBBgO6A/sCEAEQAH0AZwEcAyIG7AgdCl8KAgpICPYFugRuBDwE4AR5Bi0H/AXgA+QAV/yn9wn1L/Ti82X0UPXN9Kbym/B67zjvI/Hj9b77RwF+Bn8KzAs+C6YKAgpJCdwJzAs0DUoNoQygCrUGQQKk/qP7cfkE+dn5cvqd+pL6nfmn9yr26PVm9tj3rfrU/fv/TAEmAvsBFgHPAJgB2gKJBOsGEgkCCvcJaQkBCBcGvwRHBPsDBgS6BCEFPAR9AlcAV/3p+cP3L/cq94f3cfit+Fv3nPWL9P7zWvSs9kb6mP1iAOoCNwQABKkD6wMhBKQESAY4CDMJigmgCZUIcwaJBCYDtAGjAJMAowAAABz/Qf6+/OT6vvlm+UD5nfnO+ur7XPye/Or8xPxn/Kn8jv19/qn/UgHPAo4D9gNdBF0EAAQABIkEEQWfBZQGige1B1MH1gbbBTIEvwL7ATwBbQAVAMX/cv6I/On6S/lm9zr2NfZQ9j/2t/Zg92D3Vvc1+GH5Yfr6+0H+GwB4ATED2wSZBQwG2wY9B+sG0AYHB68G8QWOBREF5QOuAvABAAHF/+X+Uv5n/Wf87/uz+3L7kvtB/O/8bf0F/qT+Ef94/zEAKwFHAn4D1QQcBvwGWAdpBzIHiQbFBV0FHAWDBL8D+wKDATf/AP0r+0D5rfc69zr34/bC9hT32PYf9iT26PaX9874MPuY/TH/yQB4AjcDTQP2A9AEBgVjBWkG5gZ+Bj0GAQbbBGIDrgImAisBqQDfAJ4Axf9X/wb/+/36/PX8K/0b/bT9+/6e/7T/QQDPAJMAfQBXATECqQK/A0IF2wXKBREGBgbwBAsECwTFA+oCngJyAvoA5f54/fX7w/lb+DD4vff59hT3cffN9jX2wvZQ92v3h/iY+vr7AP3a/qMATAELAokDXQRoBCwFSAZpBlgGBwdOB3kG5gXgBRcF1QN4A1cDUgJcASsBcgD1/iz+EP5t/dT8V/0F/uX9Bf7V/gv/pP4L/woAiAAbAbQCNwS6BD0FBgbQBa8EJwQLBEcDiAKuAn0CBQFz/zf+G/yH+Rr4jPen9jX27vZr9/72+faX95f3dveo+Hf6ufti/fb/5QG/AtoDFwUnBeAElAVYBmMGywbWB+wH9gZTBqoF9gNMAr8BQQExAK//yv8c/9/9XP0m/Vz89fuj/Ff9k/1X/pP/MQBtAEcBUgLPAm0DvwTbBUIGtQY9B/EG5gUnBY4EbQNMAsQBCwF+/9T9bfyH+lD47vZQ9qH1OvW39Tr2H/Y/9u72W/et9+74w/pM/Pv9QQAbAhwDHAQyBYQFhAUcBssG8QY4B8sHuwfmBhwGTQXgA3ICtAEWATEApP9+//X+Jv65/W395PyY/Or8XP2//X3+g/9MAOoArgFoAuoCaAMcBNUEbgXxBVgGcwYGBj0FWARdAzwCPAF9AJP/TP4A/bn7JfqH+Hz30/Yv9vn1W/an9sL2L/fp93H4Gvls+u/7PP3K/pMA5QHEAroDjgTlBDIFygU9BlgGiQa1BlMGlAXrBBwEAAMLAm0BzwAgAL//if8c/57+Uv4W/s/9v/0Q/o7+Fv/a/74AcgH1AXgC+wJXA7QDUgQBBXMFugXgBZkFvwS/A+AC2gHPABUAg/+D/kz9Mfzp+lb5Gvh29/P2l/bT9kv3dvet90v46fhh+VH6qPvf/Av+fv/PAK4BeAJdA/sDUgTQBFgFfgV+BY4FYwXbBFIE5QNHA44CEAKeAQUBdwAmAMr/V/8c/xH/Bv8L/1L/tP8KAG0A7wBtAc8BNwLEAk0DtAMsBK8E+wT2BNsEnwQGBDEDiAL1ASABVwDK//v+v/2N/IL7O/r0+Ev4+feH91v3svfe98P3D/it+BX5nfnD+gD86vwA/l3/XAAFAfAB2gJXA8UDbgTbBOUEAQUyBQEFnwRoBBwEiQP1ApMCEAJ4ARYB1AB9ADYAIAAKAOv/6/8FACsAZwDEACsBmAELAngC1QIxA4MDvwP2AycEJwQABMUDYgO5AgUCbQGuANX/If9o/mL9TPxh+1z6RvmM+DX43vet9+P3H/gq+GH45PhW+c75vvrf+9r83/0m/zYA9QC/AZkCIQN+AxEEjgS/BOUELAUnBdsEmQRSBL8DJgO5AkwCyQFyAUcBAAGzAJMAbQAxABUAIAA2AFwAuQAmAYgB8AFdAp4CzwIGAzEDQgNiA4kDfgNNAxYDqQIAAlcBuQAAAEL/rv4L/jH9V/yd+7763vlR+f/4qPiH+LL40/jZ+Br5h/nT+Tv6//rU+4j8Z/19/lL/9v/EAI4BBQJyAhwDjgO6AwsEaARuBE0EXQRNBOUDmQN4AyEDqQJyAlIC+wGuAakBjgFHATEBRwE2ASABUgGYAa4B1AE8An0CgwKpAuUC2gKuArkCuQJyAiwCBQKuARABjQAbAF3/jv71/Vf9ffzE+0z7vvoV+rP5d/ka+c742fj0+Pn4O/nD+Tv6qPpR+xv8s/xc/Tf+Ef+6/3IATAHqAVcC2gJdA54DzwMnBGMEXQRYBGgENwTgA68DiQM3A/AC2gK5AnICQQIxAgACxAHEAdQB1AHwASwCVwJXAmICbQJdAkwCXQKDAo4CiAJ4AjECmAEAAXcA4P9S//X+jv71/Uf9k/y+++T6Nvq4+Ub57vjO+MP4uPjT+Br5Zvm4+Tb6yfph+xD87/zl/cr+r/+NAEEBxAFMAsoCMQOOAwAEUgRuBH4EcwQ8BPADtAN4AzED9QLVAqQCbQJMAjECCwL1AfUB+wEFAiYCUgJ4ApkCvwLaAuAC2gLaAr8CmQJtAjwC8AGOASYBrgAbAIP/6v5H/pj9+vxn/Nn7Ufvp+of6JfrZ+aj5fPls+Xz5rfn6+Vz62fpc++r7ffwW/bT9TP7l/o7/KwC5AFcB3wFMArQCEQNHA20DjgOTA44DiQN4A2gDUgM8AxwD+wLVAq4CjgJtAlICQQI8AjwCPAJMAl0CbQJ9AogCiAJ4AmICRwImAgAC2gGuAXgBMQHfAHcABQB+//D+aP7f/VL92vx3/AX8qPtc+wr7s/p3+lH6Jfoa+kD6d/q4+hv7mPsF/Hf89fx4/er9aP71/n7/AACTABsBjgH7AVcCpALVAvUCEQMhAyEDJgM3AzwDPAM8A0IDJgMGA/ACzwKuAqQCrgKpArkCzwLVAs8CygK5AqQCjgJyAlICLAL7AckBiAFBAe8AngA7AM//Uv/a/lf+xP1M/d/8cvwV/NT7iPtB+xD71Pqj+oL6d/qN+rP69PpW+777JvyY/AX9bf3U/Tz+rv4s/6T/IACpACABgwHfASwCTAJ9Ap4CrgLVAvsCCwMsA0cDUgNSA0cDNwMhAxEDAAP7AvsCAAMAAwADAAPwAuACxAKeAnICUgIbAuUBtAF9ATEB9QCzAFwAAACk/zf/xP5S/tr9eP0W/cT8ffxG/BX82fuu+4L7Vvs2+yD7K/tR+337yfsg/IL81Pwx/Yj92v0h/nL+2v4s/57/EAB9AOoARwGYAc8BBQImAjwCXQJyApkCvwLqAgYDLAM3AywDNwMhAwYD+wLwAuoC4ALlAuUCzwK/AqQCfQJMAhYC3wGuAXIBNgEFAc8AjQBRAAoAuv9i/wv/qf5S/gD+rv19/Uf9EP36/Nr8qfyN/G38Qfw2/DH8Jvxc/IL8qfwF/UH9eP25/fv9Fv5H/oj+tP77/lL/pP/2/1cAowDaABYBNgFXAXIBeAGjAc8B6gEbAlcCfQKTAqkCrgKkAo4CjgJyAmICeAJtAm0CgwJyAl0CRwImAvUBrgGTAW0BMQEQAfUA3wCpAG0AUQAKAK//fv8s/+X+qf5t/kz+Jv77/c/9tP2I/Uz9K/0W/er86vz1/OT8G/08/TH9Yv2e/Zj9qf3w/Rb+Mf6I/sT+AP9d/5P/xf8FADEARgByAKMA3wAFATwBgwG5Ad8B6gEFAiECBQIAAiwCNwI3AmgCgwKOAoMCjgJXAjECRwL1AcQBAALlAakBxAHEAXIBKwEbAbkAYgBMAAoAv//g/6T/V/9d/zf/z/6D/nj+Mf7U/cT9z/2j/Zj9qf2Y/Zj9mP1n/Xj9ff1y/XL9k/3J/eX9Bf5S/oP+pP65/uX+AP8s/0L/Xf+///v/BQByAMQAyQAAAUcBNgE8AZgBXAF9AeoB9QHPAVICiAIxAmICngI8AiECYgILAs8BPAIhAqMBEAIsApgBfQGuASYBswDaAJMAAABMAEEAmf/P/wAAPP8A/0f/v/4h/l3+Qf7P/fv9Bf7a/eX9+/3J/a79v/25/Xj9k/3U/eX9z/0x/o7+iP6T/uX+Fv/q/hb/aP9N/3P/AAAFAAAArgDvAGcA+gCTAZ4A2gDfAQUB3wAsApgBNgGeAhACVwGIAlICMQEFAhACXAGIAQACjgFtAdQBmAELAUwBTAFRAG0AyQArAIP/YgAVAFf/qf/7/8r+Bv+O/xb+TP5C//v9rv0c/2L+ff3K/r/+R/2k/o7+TP19/r/+k/2O/jH/Yv7g/kf/Mf8m/37/bf9+/6n/9v/w/wAAggCpAGIArgBXAZ4A2gBnAQABEAGjASABYgG5AWcBUgGDAbkBNgExAb8BZwHkAKkBJgHJAFwBzwA7ACABrgDP/8kAkwCk/1cARgA3/9r/xf/l/mL/jv+u/kf/c/+u/gD/Qv9y/rn+1f5o/pn+yv60/p7+Yv/K/rT+eP/g/qT+Tf/1/gb/Xf+T/23/8P8FAL//EAAbAAAAxf82AFEAKwCIAMkAyQDkAN8AKwGeAJgAIAGYAGcAXAHqAJ4A2gEmAWIAxAEFAc//9QArAY7/jQBMAQoAcgBXAfv/9v88AXj/Bv8AAaT/iP65AAAAz/5GAOX/qf72/4n/bf4x/wAApP6O/oIA6v5t/m0A2v5d/jYAC/8x/iAAz/8W/gAAYgBd/on/uQCu/iH/ZwGu/jH/9QHq/jH/6gFt/yH/jgE2ABb/fQHfACb/ngELATz/QQF4AfX+JgGjAXj/1ADqAcX/vgCjAdr/RgB4Ac//v//lAYP/z/8mAl3/qf/wATH/bf9XATz/4P7JAfD+g/4AAhz/Jv5SAY7/3/2TAPb/nv2TADsAUv2zAJgAIP32//UAcv08/74A3/2e/6MAR/6O//oALP/K/sQAEABM/n0ATAC0/rMATABC//oACwEA/64AeAFS/xsAGwG0/6kAvgDw/zEB3wBGAKkACwFXAEEAcgCYAFcAUQCNAJgAiABcAFEArgC6/0wAGwC//3cAmf/7/74AeP8VAPv/xf9MAJ7+yv+5ACb+pP8LAQv+JgDJAMn9OwALAWL9g/9yAfD9qf6uAaT+Mf5HAm3+Jv54AlL+6v3KAn3+uf0LA6T+g/6kAn3+R/8xAoP+jv/lAan+xf8LAib/jv8sAmj/k/8mAhb/Yv/gAm3+mf9HA3j+1f/gAsr+VwCpAb/+BQFyALr/9v/PALkA+/7qABAB6v7JABsAeP+CAOD/Mf93ABAAIf9XAI7/v/8QAHj/Yv9tAI7/Yv8mABH/EAD2/47+xf8mABz/c/8QAK//if99AOr+5f9HAdr9V/9dAgX++/5BAgX+owCDAWf9JgG0AQX+z//wAaT/5f6pARsAQv8QAs/+AP94A3j+EP6TA13/aP7gAhz/if9dApP+Uv9iAn7/+/3aAa4AV/4rAUEApP7qAfv/1P2uAckAff1yARAAN/6YARz/z/5nAW3/Ef9nAAUA1f9+/+D/xf/F/9r/LP+T/7MA4P6O/wAB1f5iAOv/Ef9BAeX+Qv9cASb+CwEKAAX+QQLa/7n9fQLa/yb+VwJi/3j++wJX/8/9VwPF//v9qQKT/1L+QgO//sr+TQMA/4n/CwIVAJP/2gBnAHj/swB9ADf+BQLaALn9MQKCAH3+bQKZ/pP/8AHw/WcAYgBX/zEAbf+YAJP/if+uAGL+qQArAPv9MQGe/xb+uQER/67+FgFd/mIACgAF/iAB8P6p/xsBUv2YARsAtP0xAlL+R/8AAlL9owBMAZ79rgHK/47+cgK//gD/iAK5/dQAYgGj/YMB1ABt/nIBVwAR/7MAFgFN//D/KwFX/4gA1AAL/2cANgER/0YABQEL/6kAqQBX/+QAr/+p/78Bbf4rADwBV/5HAVwAmP2ZAr//G/6uAev/2v6IAL4AaP5iAEcBmP0FAVcBEP36AEwB8P1GABYB6v1tATsAR/4WAdr/qf/w/4P/owDw/p4AQQCT/o4Bk/83/yABXf/P/7kABv+zAPb/k/+5AH7/BQC5AEf/+/+YAJP/VwDV/1cA8P9MAFEA6v6CACsB6v2NAMkApP65ASH/4P6IAjz/AP/PADz/FgH7/nj/yQA3/8kAtP8R/4gBMf8G/+UByv5S/wsBMf+eACAAeP4LAeD/RgBN/+r+qQG0/yH/KwHq/hUAxAFd/k3/zwGZ/l3/zwGk/k3/JgK//on/jgIQ/mL/RwLq/l3/FgFX/kEBuQAQ/gsBkwBH/2IBiP6NALQBAP5XAPsBjv1nAWcAv/0mA2j+pP7PAlf+fQAgACH/mAFo/xb/UgGZ/9r+xAJy/WL/EQQl+wACEALD+uUDFQDk/AACIADE/nIAkwC5/pMAqQCT/uv/rgHw/pj9qQOD/oP9bgQK/DYA+wMb+/oA6gLJ/IgA1AFS/sX/NwIx/sX/yQGu/qT/BQG0//X+ZwEbACz+TAJGAH39ygLP/9/9MQIbAG391QJd/9/9BgNS/xD+cgJ+/yz/+gCZ/1L/FgHV/47+zwDqABb+qQAgAaP9ZwEAATb98AF9AFf9pAJS/wv+aALa/gD/3wEA/qkAkwDg/lEAZwCp//v/1f9BASH/nv+0AYP+qQA2AW389QLkAJ37ugNS/0H+kwOO/Z7/eAPP/Yn/JgLK/sX/5AAR/6kA1f9X/7MA4P82AFf/FQAAAV3/+/8bADEAFQDV/wAAk/99AKT/Qv/kADf/mf+CAHP/8P9yAOD+bQC+APv+FQBRAH7/+gDa/o7/XAHl/tr/TAAR/yYBqf9t/gACXf/g/rkB5f6//9oBFv7EACsBiP7PAHIAFv/vAPD+rgBnAEz+6gGk/5P+EQPJ/fv/EQNy/EEBkwKd+3ICPAFi/NUDC/6D/kcEmPxRAPUB5PxSA+X+Z/2JA5n+1f4QAvD9YgBSAQD+7wAmAEf/RgDV/wsBff7l/7kBBf4QAfb/V/4bAhH/N/8bASz/RgD2/4n/QQGZ/r//JgL7/Z4AEAEL/TwDv/+C/J4DFv+I/ogCFv47APUBMf4xAGcBz/7K/4IAv/+Z/xUAyv/P/yYBg//P/jECCgBi/m0B6//l/jYBYv+O/pgBuv9i/q4BMQDP/TECkwCT/Z4BKwBX/jcCnv5t/pMCfv+T/uoAGwDP/1cAmf+T/88Anv8R/2cBQv9i//UA1f/g/5MAnv4xAZ4AQf7PABsAR/9tAUH+zwCuADz+CwL1/oP/uQHf/aMB6gA2/UcCBQDl/lwBcv4bADEBQf4xAFwAjv9yAKn/qQCNAH7/kwAgAKkAv/9y/pgBfv88/4IA9f0AAisAtP0sAib/tP/qATH+TADUANX+BQEQAG3+EAE2ALr/ngCI/u8AvgCD/skATf9S/xYBiP6CACYALP6TAfoAJv76AFwAqf/lAcT+If8WAuD+z/9BAH3+owBi/2j/yQCZ/hsAVwFz/8kAIAAm/2gCuv9y/p4BHP+v/xsBeP5RAGIAYv8QAbr/bf+IAOv/1f9cAG3+XADaAL/+2gAmAAv/kwIm/6//FgIx/nIAiAEr/dQAVwBB/QsCJv8F/mICjv7w/xACxP14AcQAuf6pAW3/V/82AeX+TAAKAM/+YgBBADH/CgAbAKn/ZwAgAHP/YgA7AJn/JgBcAOX/k/+NALMAr//2/1wA2v+uANX/AP48AUwA9f0LAWL/fv8LAs/+TACuAUL/2gBnAFf/YgBN//b/z/+Z/tQAN//g/+8A1f5yAZgAqf4WAlf/5f+pAF3+swAAAOr9uQC0/0L/ngDw/ysAJgG0/74A+gCD/7//1f/P/8r/If5t/4gAg/+Z/ysARgBnAaMAjv8mAYgAaP+eAKT/1f4mAIn/g/8rACz/c/99Aan/N/8LAZn/RgD1AJ7+yQCYAMT+iAH2/wD/FgHF/3IATABi/skAQQAA/9X/v/7w/8kAV/4rAOoAMf+OAeQAmf+5AUYAr//PAcT+Qf7aAKn+qf4VAG396gBXAXj+rgG+AFEA6gK0/uv/xAFt/UYA5f9B/L8BN/+5/coDaP4FAH4E8P3aAcQBgvxyAiH/G/xHAVz9AP+DASb9tAGIAvv+YgP1ADYAMQNM/r//RwEK/Hj/C/99/H0AIf43/jEDN/8mAPsDJgCIAqQCTP77AmIAs/wxASv9eP37/+/7fv+NAL/9IQIrAbMAkwOjAIgBXQLK/s8ATf8L/fD/rv0s/lwAz/3fADcCif8xAkcBOwCTAtX+V/6TAN/92v71/lf99QCeAGL/yQFHAc8BbQImAAABGwHl/l3/eP7E/cT+g/0h/vD/k/5cAJMBCwGeAhYCqQEWA/UACgBBANr+Yv6Y/SD9LP4Q/m3+if9GAKkBQQHlAbkCbQGeAeQAeP9tAEH+V/5S/9/9Fv+p/0L/AAFnAH0AfQF9AEwAcgBS/5P/Yv+O/qn/bf9N/88AmACjAMkB6gA8AZgBnv/r/xsAAP7P/jz+Yv2D/5P+1f4bAUEArgGeAvoArgL1ATsAjgH7/jz+yv8b/Qv+yv4x/TsAOwA8/7kBMQFHAUcCggCpAOoAz//F/zz/Bv+D/zz/xf94/4P/iADP//v/cgBd/xsARgB+/0wAGwC0/+8AngAKAM8AGwBnAL4ALP+//9r/2v4FAPD+nv4xADH/xf+CABb/CwFcASAAXAH1ANoAmAHa/8//IAAA/67+bf5M/rT+pP4c/xAAfQDqAG0B3wHqAXIB9QDEADEAPP+T/tX+mf6D/sT+AP8bAJgA9v/fAGIB2gDJACsA8P+IAIn/xP6v/8X/nv/V/6//kwD6AAUARgCYAFEA1f8m/2j/r/8h/wv/Yv8xAKMARgCNAHgBUgHfAEwA5f8bAFf/Uv6D/q7+Mf9N/0f/iAArAUEBiAExAVcBMQEAAK//Uv+e/qn+g/6e/hz/Qv8FALMA2gAWATEBeAFnAX0AFQAgAI7/LP+0/nL+Qv83//v+BQArAJ4ATAHPACABPAFMAGcA8P8G/wv/v/6//lL/If+p/6kABQFXAVcBMQFBAbkA4P8h/5n+bf5M/iH+iP4s/xAA+gBMAb8BRwImAuoBJgEgAK//AP8W/sT9mP3f/X3+4P6Z/40AIAGuAfABAALUAWIB+gBiALr/Xf/q/rn+z/6u/vv+Xf9H/8X/MQAQAEYATAByANQAcgBGAKkAuQCYADYAFQBGAAUAqf9o/1f/jv9N/0L/qf+Z/9X/EAAgAFwAUQAbAFwAdwBBAAoAJgBMAH0AMQDg/xUAIAC//3P/+/4m/zz/Bv88/37/6/+jANQAJgFXATYBXAEFATEAtP9C/wv/yv5X/nj+If+p/woAXADUAFcBiAFSAe8AngBXAAUAjv8h/+r+Bv8x/zz/Jv9i/8//GwBBAGIAowAgAY4BkwGuAZMBbQFBAXIATf9y/oj96vwg/Gz7qPuN/Hj9qf7g/6kBgwOJBBwFbgUyBboEbQOjAQUAaP4g/Sv8O/sb+9n7AP1M/mj/5ACDAmIDfgMhAywC9QBC/6n9TPzD+jv62fvq/Y7/iAFzBW8K1wz4C6ALWgw+CjEDO/sv9kTyAeyN5Svk6udz7FTxQPmOBHsPtBc9Hu0ipiO7HzEZ0xBzBWz4u+1t5vPg+NyA3enjquy89IP9eQe9EFwWIRhHGM8WQBJUDDIGBQBy+jX2x/MD81/y7fJQ9fT37/kb/Cz+QQDaAScExQYiCJoIMwu3DtgP7QywCiMLfwlBAdP3evKV7yHpp+Cx3Wbi++dT7Nfz7wA/DwYazCGSKFEsGiqAIyEawg2p/gLxRub+3TLXaNVv2rPj5utK9SABZQ0QFSwYABnPGc8WWxAoCdoDFv/v+oH3wvYv9xr4Nfk7+1z8K/yN+wr8IPzv+pf5//o3/4MC4AMBB6wNcRNGFGARhhCsEKsL6/9r9VTvUuqc4RLahdlb4OTmxu0w+IoHvhV/IFsnBS3lLa0p0SAFFgcIVvnr66jiRNuP1kjWgNzJ5QLvzffEAuINchUxGH0YVxhtFoERuwrbBJMAiP1W+kD4Kvd894f4fPkl+bL4KvjT+Kj5NfmS+Gf61f77A+YGtQjHDXcURxc7FPkPoQ7MDK8DzfYM7tDqfea83lTaGd8L6OzuZfWCAD8PxRoYIR4lbCiHJ28huRdKDVwBSvVu6iXj7d2m20rd/+MB7Fr01PzxBqwP2RT1FXIWbBX5EasLqgXqAIP93vm995f30/je+UH7k/y5/UH9EPwr+8n6h/lQ+KL43/v7/yYDAQYoC2ARChX6E8gROhFaD9sHMf0e9bDw4OpF4tfcdd6d45jnn+yM9l0ELxDaGBggDyf/KcMnDSFyGGUNTAGR9LTp7uAe3PfaKd6S4+brzfWCAGkJpxArFW0XZxZ8E+MOlQmTA+r+9ftA+rL4l/ga+hX8k/wV/Nn7yftR+kv4fPfp96j4Z/p4/toDMwi2C8gQFRaDF3wUjBHSDzkL9QBF9sHvTevD4x7cM9rY3r7jV+g+8NT9lQtGFo8eWycLLTwt7ie7IMkWKAqS++bud+TB3NvX/Nda3LjjxeyM94gCNAxLE5gXUhkhGJ0UUA9vCUIDk/7p+q34Gvec9+74o/rf+n37yfvU+w/6CvnZ+LP55Pkg/HIA0AU4CccM4xHaFtoWfBPTEPgOywij/XXzmu1X6P7fVNlp2fjeBOQG6lr0VwPTEJQbZSSuLOUvxC01J48ewxEAA2X05ei33lPXtNSE2DTffeeg8TH+xgn0EdQW1RkcGrMW2BCFCpQEjv7v+Xb38/bj9jr4nfpS/Sb+R/4W/tT93/ve+a34//h3+Yj7Uv9NBE4IqwzeEUwWfRYKFN4RcA90CI790vOq7Xjn3d6K2BLZe97D4wvqx/QLBBoS1hw0JdosXTByLg8nHB1mEI4CP/Tl53XdSNfK1W/Zdt/158fyjv9qCv8RrhbwGTcafRboD38J4ANS/iX58/V29Xb2GvgV+m38Qf54/57/1f76/H37zvqz+nL6s/tt/24EHQguC4EPKxRnFZ0SYA/yDAcIjv6L9OHtMemi4oDci9tm4CDm8euc9PABRQ+DGRMhKig2LBAr0iRTHJwR+wSM9yLs7uKA3MvZPtzY4QvpwfHa/HQHrA52Eo0VABdsFAMOEggLBAAAbPqc9sL2BPne+UD6Rvye/wUBEACI/hD+ff1c/P/6yfor/FL/AAMXBqoIdQz+EA8T4xChDfILQwm5AZf3evDb7Pvn7uBf3azg2ua667bxo/w4CiAVeRwOI4cojSkZJbUdsxR6Ca78LvEx6DXhwdwZ3e7hiOia77j4PAO2CxQQfBI7FHETiw5OCLQDGwCC+4z38/YK+aj6mPvl/W0BQgOeAlcBswBi//r8vvrp+SD6Z/sQ/oMBqgQHCJYMexAEEegOkA1PDGMHPP5F9qvxMu2z5f7fUOAl5fDoU+3+9RwDaw6pFqod/iQqKCQmPiA8GUoPTQM69/zt9eX+38zdQOG55q/sCPRt/tsHPw12D/QRChPoD3oJbgSDAQD+UfkP9734Qfsr/Ef9dwB4A8oDPAJMAYIAjv7U+1b6D/qH+vr7If+IAm4FwAhKDVAQvQ9wDWUMlQp4BFb7e/Sb8MDrw+Ss4MPi5eci7F/x+vpjB80RABn3HvgjcCUpIoQbBBMCCUz+T/TV6yvlreF84m3mTesu8Ub5UgLWCPIL7Q29DxkP5wrABWgCCgDJ/MP5d/mN+2f9Yv4KAJkCHASTAxACuQAW/+T8uPph+QT5CvqI/Lr/qQIGBpsK4w41EOgOwg3MDMAIuQCy+IvzGO+Z6L3i6eHE5QbqPe6R9doA7QsKFDwaKCCQI4siih3aFosOugSC+tzx2+rf5enjyeW06XnuhvSN/BEEsAgIC1UNnA6WDOYHBgTfAUf/fftb+Zj6+vzq/aT+JgEnBOUEfgMQAjYBbf+e/Cv6Kvk7+Wf6ufzP/+UCtQZJC9IOJA/HDecMgAscBr/9yPbd8lnu2udR463kYulO7VTxVvmfBGUOnRSpGcAeLiH3Hl0ZuBIICyEC//hP8Ujrg+eu5vDoc+zi8O72jv66BBcIEgplDAMNQwqvBb8CBQFd/tn62fnE+/v9qf7g/7QCQgUhBZkDXQJMAdX+yfui+QT5//gP+n384P8RA9sGHQtKDoAOag2ADJUK8ARM/S/3WvN07m3oCuX15vDqPe6A8tn6UwW3DSoTVxhIHR0fTRwWF0URWQq5AQr5HvIi7crp1eiq6jPui/IJ+G3+4AMcBwcJpgrXCmkItAQLAmcAJv6o+zD7C/0L/wUAYgHVA58FMgWeA0ECqQDl/eT6FfmB+Gb4VvkK/LT/BgNzBooK4g2WDmUNLgxJCnkFaP5Q+D/05++J6kHnV+jF69zuzPL/+TcD5wpKEEEV+xn8GzIaNhaMEYUL8ANG/An2CPE47ZTrquwt7z7ye/YV/CYBLAQBBuYH1ghYB2gETAI2AZP/eP3k/F3+IAAAAQUC5QNIBeUEcwMAAkEAo/3/+lv5l/hb+GH5Ffxt/20CwAXRCQgNoQ2bDKsL9wljBcT+MPlV9Q3x6+vq6M/puuxk7znzCvqIApoJ7Q70E5MYaBrwGIgVVRGAC0cEAP0J9wjySO6J7Gntmu+h8rL29fuTAJ4DlAVpBwEIjwb2AywC9QBS/479Z/3l/o0AcgGpAoMEtQUhBZ4DIQJRAKP96fo1+Xz4QPgf+Yj7xP7EAeUEoAjMC8wMHgw+C9wJIgZcAP/6JPc/84TuIesR6z3toO/B8lv44P/QBkkMOhHEFUEY6hdyFc0RtgxCBon/nfl79FnwIu5I7ufvRPKs9Wf6Bv9BAk0EJwZDB5oGgwSkAngBMQCZ/vX92v5XAFcBUgK/A/sE6wTFA10CvgB4/u/7CvoP+Z34+fit+nL9QQARA14GsAmLC6ALGAtOCuwHYgNH/jD6gfYT8vztU+wt7eHuDfEe9Xf7UgIiCEQNNRL6FTYXEBZxE4EPEgq0A5P9H/h78z7wEu+r70Tx1/O99yv8yv83AkcE/AVeBgwFXQNSAnIBCgDl/hb/VwBXAfUB6gIsBJkE1QOOAjwBbf8b/RX77/lA+Qr5//lc/BH/bQEsBLsHlQpJC7AKVApkCfwFmADk+6L46PQS8KXsquyl7m/w7fI6+J7/OAYTC6cPVhQbF6kWFRS3EEkMUwbF///5VfWm8ZXvj+/y8BPzSvaj+sT+bQEsAwwFUwaUBXMD+wGeAb4AEf9i/r//iAEsAn0C1QNCBQYFYgPaAaMApP7v+//5Rvn5+A/5cvob/dr/TAJNBaoIuwrRCmQKDQo9CPAD9f5B+wT4lvMz727tb+7c72Tx+PRR+/sBOAfMC80QwxTqFY0UNRLoDucJugPw/f/4vPSQ8Vnw0fAp8mD0+fcQ/DH/QQFoA2MFxQVYBPsCpAIQAlcA+/5+//UAcgFiAUwCAAR+BGIDLAKOAWIAG/7q+9/6Z/rp+Sv61PsQ/hUAcgKZBU4IVAl0CcsJZAmPBiYCbf59+3z3dfIo79Hupe8z8BjyGve0/VcD8QcDDSoSIBUgFYcTNRGADQcI2gFR/KL30vNE8VTw0fCQ8pH1O/mT/F3/GwKUBKQFHAVCBOUDMQN9Adr/r/93AL4AkwBBAc8CrwMxA2ICCwJcAZP/eP0r/H37w/pn+kb7AP3K/skAjgNpBh0IywhvCaAJ2wc3BIgAeP2t+bH0m/Ad7zPvXu+Q8Jb0yfqzAMAFHQvCELgU1BX/FDAT4w+gCmgEff4f+Wv0GPGV73/voPBK80D3MPti/lwBgwSUBpQGjgUBBXgEvwJiAEf/tP8FAJn/1f9nAfUCFgOIAm0CVwILAfD+TP1i/HL7jfqo+uT7g/1H/78BtAT8BkgIQwnnCfwIJwauAn7/vvvj9lry4e8Y78DuXu+A8u73tP37Ao8Ihg41E1wVghWHFP8RXw1pB3IB3/u39oDyAvA478bvtvED9d74ffzg/zEDrwWUBlMG5gVIBbQDgwEQAMX/nv8c/zH/dwDqAWICQQKIAs8C8AEgAJ7+xP25/Fb71Pqz+xD9PP4FANoCqgU9Bx0IGAlUCXkHHATaAK79bPl19OLwf+8H7/HutvBK9Rv7iADVBdwLcRG4FKMVVhW+E/kPWQpjBMT+Nfkp9Mzwae847yPwx/K99qP63/0xAY4ElAaqBiIG4AUcBQADxADl/+v/fv/l/nP/BQELAgsCEAKDAlIC+gBo/13+bf02/Ij7APwL/Sb+4P+TAiwFrwaqB9EIHQkyB9UDswCu/Vb5KfSF8EPv0e6P7j7w+PQV+5MA5gUjDBQSnRWNFjsWuBT5ECML0ATa/gr5t/MC8E7uAe4C79Hx8/X/+Zj9bQEhBTIHWAcBB+YG1QVCA9QA+//F/8/+9f2//ogAbQFiAckBuQK0AlcBAABN/23+Fv1X/MT8jv1i/vb/cgKZBMAFxQYBCPwHwAWpAiAANv2i+MLz/fAz8H/vIu9Z8ZH2XPxBAYkGCA3DEp0VIBbZFVwUPxASCq8D3/0q+N3yOO+17bvtKO8+8nv2s/qu/s8CYwYdCB0I4QeEB8AFngIgAEf/qf48/Xf8uf2//5MArgC5ATcDUgMAAu8AkwC6/zf+XP25/V3+8P5MAIgCWARNBUgGXgf2Bo4EtAFd/zv8cfft8rvwAvAY7/fu5/Fx9+/8xAGKB1oOuBMmFsQWsxbfFDoQ7Am0A7T9jPcu8sbuOO327G/u4vEv9jD6R/7lAqUGEggMCEgILQgBBo4CZwDg/+D+7/xM/PD9xf8bAEEAtAE8AwsD1AExAfoACgDK/mL+v/4h/+X/ngF4A24EIQVeBtYGBgX1AZP/TP0l+ejzm/DW70PvTu6l76z05Pr7/xcF5wvDEr4W2hcQGGIXChT4DSIHxABy+jT0VO+P7InrIuy17rzyCfdh+0wAAQXGB4oIAgl/CUgIAQUAAskA4P/E/QD8k/x4/k3/PP82ACYCEQNdApgBiAFBAUwAif9z/8X/ZwCuARwD9gOUBKQFOAa/BM8BYv9M/ZL5ZfSr8JrvIu8i7tzuT/Od+QD/EQTBCgQSzxaDGPsYuRgFFkoQXgnPAkH8jPXy74ns9urg6sXsm/AU9Xf5R/5dAxIHhAgNCbAJSQmfBk0DfQGpAOX+s/xX/PD9LP8m/4n/MQGeAmgCfQFBAVcB3wAmAPD/VwArAWgCqQNuBPAEtQUGBngEVwGD/jb8oviW86Dvee5v7uztte4I86j5nv/KBC4LZhKOF2gZkxkGGXIW8xDsCQsDbfzo9WTwuuzb6rTqr+xf8HD0l/iD/bkCSAaUB1MIaQktCX4GUgPlAUcBc/8g/c/8cv6O/0f/eP8gAZkCYgJiASABeAFiAbMATADJAAUCTQP2AzcE2wS6BUgF1QK6/2L92fqc9sHx5u5k7i3u5u3R7w71jfs2AcAGew0rFG0Y5RnaGakYURWWD5oIfQHJ+s303O897HjqJ+vW7TnxwvQ7+a7+TQO1BeYGUwg+CfwHIQUAAyYC9QDK/kz9v/0G/3j/Yv8bAJ4BngJdAq4BqQEmAkECngExAQsCkwM3BNUD4APFBLoEcgJN/wX93/of94vyj++77mTuKO7L7zn0//mZ/10F3AsfEqkWJhn2GQYZEBZgEWQLgwR9/WD3evJv7qTrPes47Qfw7fLN9vX7ngBdAxcFAQdTCKUHqgUhBFID+wEQAOD+AP94/47/r/9nAFIBzwHaAbkBrgHPAfsB6gHJAUcCeANCBBYE9gNzBE0ENwI3//X8zvo6993yHfBe7+bub+7y70r0s/mk/uUDZAq9EBAVVxeZGIgYOxbIEUQMSAYKAAr60vSr8ObtHe0i7vLvRPLY9XL6aP7UANoCSAXbBk0GygQnBPsDtAKjAKn/JgCCAPb/qf+CAKMB2gF9AY4BGwKOAogCUgKDAlcDPARSBMoDpAPlAxEDdwCT/aP7l/kO9inyM/AS8Pfvy++m8S/2d/sFAMUEsAp7EDsU7xW+Fo0WcRRKEBMLpAVBAP/6L/ZJ8vLvXu8C8CjxGfNb9jv6R/1S/3gBzwMRBaoE8APwA9UDrgI2AcQAGwELAWcANgDfAH0BcgErAWcBEAKIAp4CrgI3AycEvwR4BOUDygODA9oBAP+C/Lj6QPis9MHx1/Ds8MHwOfH484z4G/0gAcoFSQsDELgS+hOjFEYU/xETDoUJ8ARiANn7nPdE9HryGPJJ8sfyVfQ19zD6G/ye/cr/CwL1Ap4CkwJdA68DygLPAfUBngJiAmcBFgG0ARACfQHaABsB+wF4AkwCXQJdA58E0AT7A4MDpAPVAkwAV/1c+535yPaG86DxhfHc8Q3yVfOy9jv7Yv8cA24HNAzuD8MRVhJsErIRWg91CyIHUgPF/8777vdw9af0YPT481X0L/ai+Fb6gvs2/WL/3wBMAYMBQQIRAxwDjgJXArkC6gJdAqMBiAHUAcQBMQHkAHIBUgKpApkCIQNdBBcFjgS0A3gDAAMQATH+1Psa+uP3DvXn8j7ykPID8/PzP/bp+er9fQEBBeYIoQweDx8QShAOEPMOagzWCFgFYgJN/777svgk94z23fVK9d31h/cK+QT6K/vq/K7+xf9XABsBMQL7AhED8AIsA44DYgO5AjwCMQImArkBPAFMAeoBeAKTAsoCmQNjBEIEcwPaAkECswBH/ur7+vn/99L1CPQ081XzHvRl9Wb3Yfr7/YMBugTmB+wKPw11DrEORA5KDZAL5gjFBfUCcgC0/e/6BPkU+Fv3t/ay9nb3dvhm+Wz6s/sb/Wj+fv9yAGcBXQIGA1cDjgPFA7oDYgP7ApkCNwLfAZgBcgGTAeoBQQKOAgYDgwOJAxwDngLlAXcAk/7E/Pr69PgP97f1/vTH9Cn1P/YU+If6Uv0xACYDIgbACKYK5wurDLYM+AuQCrsImgZNBOoBeP9H/Z37RvoE+TD4FPhQ+IH49Pjk+QX7BfwL/TH+Yv99AGIBIQK5AkcDngOZA2IDPAMWA7kCTAIFAgACFgIsAjwCfQLlAiYD+wKOAjECjgE7AJP+C/2I+8j5FPjY9i/28/U19gT3fPiH+ur8aP/1AY4E8QbLCBgK5wozC9wK7AmKCOEGDAUcAwUBEf99/Rv82fre+WH5MPka+UD5vvls+iv7Bfz1/Pv9AP/7/9QAmAFSAuoCPANdA4kDngODA0cDJgMcAwsD9QLVAsoC1QK5AlcCyQFMAZ4Ac/8Q/t/8rvtA+un4//eH91b3fPcl+GH5EPvv/PX+IAFoA3kFBwdDCD4JtgmKCewIAQjQBlgFqQP1AVcA4P6I/Tv8Qfuo+jv63vnI+Qr6d/rv+oj7Ufwr/Rv++/7P/54AfQExAqQCBgNzA8oDygPFA88D1QO/A4kDVwMsA/UCkwL7AVIBswDl/7n+jv2I/H37Yfps+cj4fPh8+MP4Zvly+t/7bf0R/8kAkwI8BI4FjwZYB9YH4QePB/YGMgY3BREEzwKTAWcAQv8s/iv9Yvy++zv72fqt+rj66fpB+7P7RvwF/dT9k/5X/zYA+gCYASYCtAIsA3MDpAPPA/YD9gPgA7QDfgMxA9UCLAKOAd8AGwAR/xb+PP1M/HL7rfor+t75zvn6+Vz6FfsF/CD9TP6O/+oAMQJHAzwEEQWvBQEGHAb8BaoFJwV+BLoDxALUAfUAAAD7/ib+eP3J/Db81PuN+4j7nfu++xD8mPwm/bn9Yv4G/8//dwAFAZ4BIQKTAvACLANdA34DgwNoAzED6gKTAhsCeAHfADEAc//K/gD+XP3a/Gf8+vvZ+9T73/tB/Jj8Fv3P/X3+Mf/7/8QAbQEWAqQCFgNiA6QDtAOvA44DTQP1AogCEAKDAQABZwDa/1L/1f5i/gX+uf2I/W39XP1y/Zj9yf0Q/lL+qf4L/1f/r/8FAEYAjQDqAOoARwFiAXIBkwGjAZMBkwGOAVIBPAH6AM8AfQAmAPv/if9C/wv/rv5y/m3+LP4b/jz+Mf5d/o7+v/4L/13/pP/7/0wAngDqADYBXAGeAbkB2gHUAc8BzwGpAXgBTAELAc8AiAA2AOv/r/9i/yH/6v60/p7+eP5o/l3+aP59/oj+nv7g/vv+Jv9t/6T/uv8xAFcAbQDfAAABGwFnAXIBZwG5AYMBXAF4ARsB1ADEADsA9v+//0L/AP/K/nj+bf5M/jz+bf5t/rn+5f4m/4n/2v8VAH0AuQDqAEwBVwFtAaMBjgF9AXgBTAEWAfoAngBiACYA2v+T/13/If/1/uD+mf65/p7+iP7P/sr+v/43/0f/Qv/F//b/z/+NAG0AngDvAAsB+gBBATYBKwEmARAB5ADEAIIAVwAQAM//k/9o/xH/C//q/rn+1f7V/uD+C/9C/1L/pP/g/wAATAB9AKkA2gDvAAsBIAEbARsBEAHqANoArgB3AFEAFQDw/6//g/9X/zz/C/8G//D+5f71/gD/AP83/0f/bf+e/8X/6/8rAEEAcgCTAK4AxADaANQA3wDfAMkAuQCjAH0AYgA7AAoA6//F/5n/fv9d/0f/N/9C/yz/R/9d/2L/k/+p/8r/+/8VADYAZwBtAJ4AqQCjAL4AuQCuAKkAkwB9AFwAUQAVAAUA5f+6/57/jv9t/13/V/9H/0f/V/9d/13/g/+O/6n/xf/g/wAAFQAxAEwAXABnAIgAdwCIAIgAiAB3AHcAZwBMAEEAKwAQAPv/6//K/8X/pP+p/47/mf+J/5P/mf+e/6//uv/P/+D/8P8KABUAJgBGADsAYgBcAGcAZwBtAGIAVwBiADYAOwAgAAoAAADl/8r/1f+e/6n/nv+D/5n/g/+Z/47/pP+0/6n/1f/g/9r/EAAAABUANgArAEYARgBRAEwAYgBBAFcAUQAxAEYAKwAbABsAAAAFAOD/6//V/8r/yv+//7r/v/+//8r/uv/g/9X/2v8FAPb/AAAgABsAJgA2ADYAMQBGADYANgA2ACYAKwAVAAoABQDw/+v/5f/F/8//z/+p/8r/uv+0/8X/xf/F/9X/6//V/wAA9v8FABUAEAAmACYAJgA7ACYANgA2ACsAJgA2ABUAGwAmAPb/FQD2/+v/BQDV/+X/5f/P/8//5f/K/9X/6//P//D/6//w//v/BQD7/xUAFQAQACYAIAAbACsAIAAbABsAFQAQAPb/JgDK/xAA6//g/9r/9v+6/9r/6//F/+D/6//g/9X/AADr/+X/EAD7//v/FQAKAAUAIAAFACAAEAAVABsAGwAFACAACgAFABsA+/8KAPv/AAD2//b/9v/l//b/5f/2/+X/8P/w//D/8P8AAPD/AAAAAAUA+/8KABAA+/8QABsA8P8bABAA8P8QABAA5f8QAPb/9v/7/+v/AADr/+v/+//7/8//IADa/+v/GwDV/woAAAD7//b/CgD7/wAABQAKAAAAAAAQAAAAAAAVAAAABQAFABAA+/8FAAoA9v8FAAUA6/8FAAAA1f8mANX/+//7//D/8P8AAPD/6/8bANX/GwD2/+X/JgDl/wAAEAAAAOX/NgDV/xAAEADl/woAEADg/xsA8P/2/wUA+//2/wUAAADw/wUA8P8FAOv/BQDw/wUA6/8KAPD/AAAAAOv/JgDV/woAIADa/xUAFQDa/xsABQDr/xUAEADP/0EAyv8KABAA6//w/yAA2v/w/ysAr/82ANX/EADP/0YAk/9MAOX/2v8xAOX/8P8bAPv/5f8mAAoAr/+CAKn/9v87AOv/yv9iAMr/9v8bAPv/6//a/yAAJgCJ/wAA1ADq/on/gwLP/PoABQLv/BsBmAH1/an/MQNM/KMBMQGu/aMBGwCu/qkB4P4rAK4AEf9RAK4Arv7JADsA2v7EACAAAP/EABAAEf/kAKT/z/87AOX/JgCp/1cAEACZ/0EAdwDw/gAByv9t/74Axf+p/zsAiAC5/jwBfv+v/3IA8P+0/woATADF/4n/6gBo/4P/MQEh/9r/kwArAIP+5QE8//X+1AEh/yb/mAFN/wb/zwHg/on/qQE8/uQAQQDq/isBaP+v/7kAyv8R/64Bnv47ALMALP9nAL//XADa/zH/ngHl/jz/PAJo/hz/qQIL/l3/rgIL/SYCTP5XAY7/aP+Z/6QDJfr1AoMEe/UYCdr+gvoWBOsD6PUdCDsA6fjFBjH/JfsGBpP8TAA8AaT+ngBtAEz+JgKp/r//1ABGACH+eAExAWf7WAYE+pQEvvy5AW0Acv3qAtX+4P4bAlL+mAEb/V0EO/yCAAsDrvu0Asr/HP87AGcAZwBn/b8Djv1N/6QCiP6k/uoBIAFG+9UDGwL/9+YHff7p+kgGv/0s/q4BMQLD+QwIVvhNBs77rgGT/8QBuPqUBzb6swARAxv+s/wMBwT69QD1AjH9FQAQASYBTPvxBeT7GwH2/wUCs/pDBxr6owHPAu/7vgCfBDv5+wJHBMj3QgQBBZH0KAg8A0TydQ7J+pL6pQd4/8P3DQlH/2D2/QzT+Fz9fwgw+dX/mgbY96QEowCI/DECVwHJ/KkAWAWW9VQKFftd/o4EFv3g/8QAPAHk/CECJgG5+3MFuPoGBeT6WATa/TH/qQJt/e8AyQCe/mIAmAF9/OsDC/7l/REGCvl4AyYCyfosAmMFWvRPC537K/wyBzv8z/y1B4L56gDrAzv8v/4MB5H2dAdy/Ov/9QJW+pQHnfgcBZ784ATY9rELa/ezAPYFCvoQANUEQf3O+kkLVfY8An4Djv0W/cUF7/z7/a8DaP/E/AYDjgHk+RwGG/65/TwCfQFW+8UDfQD6+1IDrgD6+ywDIAEr+3MEfv/U/DwDxf+O/ckBowEg+1MF6vxXANQAv//l/jEC7/zwA4L7CwRn/TwBiP7lAnf8UgHqAtn5wAWj/WL/2v9uBBT3egkV+yz+xQX1++X+2gNd/1v54gs69UcEkwKS+toDEf/w/9/9cwV3+W0DVwL0+LUHMPtiATH/bQP0+VIE+wIk9A4P+fY3/mkHMf7I9cIQA/aS+nAPe/Xp+pEQKfNS/ZEPkPFyATMK2PUAAAIJ2Pfg/5kFnv4f96EO7vXF/14GEPye/uoA5gaA8f0MmP0P+IQICgCt+FIEQgZq8xcGigft8QYGFwgj8/sCmwoT888A1ww58qMBqwl8+Dv6rA+A9Av9Xw0U9c8AHAUF/vX7PAQWAkD4BgbqAM76xAJiAoL8rv4tB7L38AOeAMX/vvt0B+T6Qf4yB7j5g//ABmz5xf8BCCr2QgO6Bi/0SAd4AzT01wqO/r33HQqC/L764Qh3+gv/NwVG+5MAHASi+VIEOwAg/X0AmQRW+cQCJgON+xz/xQb0+XL+uwgJ+Bb/3Amn9W0BXgh29m0A1wpJ8gEFSAfS8+AFugSG9iEEygV29Y4F9gOy9nMGmABR+0ECLAOY+mgCUgJy+2gDyv6uAPX9AAOO/Y4Bk/7qAEcB2fv2BMn95f08A4gA7/r7BNX/VvsXBa7+K/1zA9r+aP/P/0wCd/y0Aib/QQC//YME5PsLAQACTP2TAIgC7/uIAiYB//pTBqP81P1YBY38k/5SBFL9Jv7QBFH8kwCTALkAyf3lASz/IAHa/PYD4P7a/L8DQQB3+/ADVwEE+vsEmACY++oBRwRb+FgEbQKN+m0B1QQw+kYAeQVn+iAB2gFBAM77eARH/7/9kwDFA2z69QERBLP5AAI8BFH6ZwAMBuT4GwLgAm39aP66A2L+aP7PAaMAQf4A/+sE6fpcAI4EmPsm/5kFjftM/nMG1PrF/+UDC/1+/20CiP5o/xsB6/8h/0YA9QCT/jEAXAFd/lEAvgCT/zz/KwFo//b/8P+eACb/qQB+/74A8P5BAfD+ggA7AHP/AAAFAYj+rgDUABD+qQEAAAX+PAL2/9r8JwRd/o79PAST/Vf/MQExAUb8aAN4//v9rgHaAGf9eAHaAH3+v/8LAoP+yv4LA9r9if/UAbT+CgBiAPv/k/82AEEAg/+IAM/+8AGD/o7/VwLU/br/jgL7/Qb/9QI8/gv/6gEQACb9NwNi/8n9CwKjAFL9owF4Acn8ZwHqARb9iAAQAkf+Jv94AvD+ff7qATYAFv6+AN8BV/2NAAACR/5y/hwEJv3P/pMDyf0c/54BFgGu+0IEv/7a/mcABQLq/IgBmAAL/47/FgGIACv9LAPV/hb/mABtAYP97wBBAWL+BQD1AAoAC/4WApP/HP+v/7QCmPwbAfsBUv0bAOACK/2D/7oDo/za/wAD+/2k/l0DBf5d/3IBAADV/kYAgwEm/kwATAHP/q//ZwEs/0f/RwHa/5n+bQFnAKn9NwKp/xz/AACYARv+fQC5AGL/eP/UAAoA1f5BAU3/KwC//5MAJv93APD/CgC0//b/yQDa/mIA3wDl/pn/AAJS/r//eAFS/9r+BQL1/jz/gwFN/23/2gDr/+D+XAFt/6T/UQBBAJn/8P9iAK//6/8rAAoA1f8VAOX/kwAh/54A+/+v//b/3wDE/rMAVwAc/54ABQCk/wAAowAR/54A8P+J/4gAr//a/0EA2v/g/zYAAABo/64A1f9d/6kAIADa/jYBtP9S/4IAUQAm/0wAzwCD/gABJgBd//v/6gAL//D/GwEA/+X/7wBd/8//ngCe/9r/VwDw/7r/JgAxAKT/IAAxAL//yv+pAIP/r//qABz/OwBiAGj/NgArAMr/+/82AL//+/9MAJP/CgBnADH/swDF/5P/ngCp/7r/owBt/wUAggBo/zsAKwC//xUAKwDK/ysA6/8mANr/CgAQAAUAuv9yAJn/EAAbAOX/4P8AAEYAXf93APv/fv9nACAAR/+TAPv/eP99AAUAmf9MADYAg/9iAAUAtP9RAOX/BQD2/ysA5f/7/yYA5f/g/zYA2v/V/zsA9v+Z/4gAxf+0/2cA8P+D/20ACgBt/4IA8P+v/ysAYgBN/1EAXABX/yYAYgCe/6//xACO/5n/swCe/7//YgDa/6//YgDK//b/BQAxAKT/OwAKANX/9v9BANX/+/8FACsAv/8QADYAxf8FABsA+//P/zsAz/8FABUA5f8KAAUA8P8QAOv/GwDg/woAEAD2//D/GwAAAOX/IAD7//D/CgAKAOX/EADl/yAAz/8mAPb/yv9MAMX/9v8bAPb/v/9tAJ7/BQA7AL//9v9BALr/9v82ANX/6/8VAAUAv/8xAPD/xf8mAAUAr/9BAOX/z/8mAAUAyv8QABsAz/8QABAA8P/7/zEA4P8KACAA8P/r/0wA4P/l/1cA1f/7/yYA8P/l/yAA5f/w/xAA5f/7//v/CgDa/wAA+//2/8r/IADg/+X/EAAAANr/JgDl/woA8P8KAPD/CgD7/xAA9v8KABsA2v8gAAoA4P8VABsA2v8VABUA5f8FACYA1f8KABAA9v/7/xUA8P8AAAoA9v8FAPb/AAD2/wAA+//7/+X/GwDw//b/AADw//v/6//7/+v/BQDl/xUA9v/2/wUA9v8AAPv/8P8AAAoA8P8VAPb/EAD7/wAACgD2/+v/EAD2/+v/+/8KAOv/+//7//v/4P8AAPD/5f8AAPD/+/8FAPb/AAAAAAUA+//7/xsA6/8VAAUAFQD7/xUACgAKAPv/FQD7//v/FQDr/wUABQD7//b/CgDr//v/9v/2/+v/+//w//D/+//w//b/8P/7/9r/BQDl//b/8P/7//D/+/8FAPb/BQAKAAAAEAAQABAAGwAVACsAGwArACsAKwArACsAMQArACsAMQAgACAAIAAVAAoAAAAFANr/AADa/8r/2v+//7T/r/+p/47/mf+O/37/if+O/37/k/+T/5P/k/+v/6n/r//P/9r/8P8QABsAMQBcAFwAcgCTAKMAkwDJANQAvgDvAPUA2gDaANoAuQCeAJMAbQBGAFEAJgDl//D/4P9d/4n/eP/w/hb/Qv/P/uD+R//V/gv/Qv8h/wD/bf9i/yz/z/+//7T/JgBcABsAZwCpAFcAdwCpAG0AdwCpAIgAfQCeAI0AYgBiAFcACgAKABUA1f/g//b/5f/a//v/8P/V//b/5f/a/+X/8P/2//v/GwAgABsAOwA2ACYANgAgABsAEAAbAAUAFQAQAAoABQAFAAAA5f/w/+X/z//V/+D/yv/g/+D/4P/g/+v/4P/V/+X/1f/V/9r/2v/V/+X/5f/l/+X/6//a/+D/4P/a/9r/4P/l/+D/9v/7//b/AAAKAPv/CgAQAAUACgAbABAAGwArACAAKwAxACYAIAArABsAFQAgABAAEAAbABAAEAAbAAoACgAFAPv/+//2//D/8P/w//D/9v/2//D/8P/w/+v/6//g/+D/5f/g/+X/8P/w//b/+/8AAAAAAAAFAAUACgAQABAAGwAgACYAKwArACsAKwAmACYAJgAbABsAEAAKAAUAAAD7//b/6//l/+D/z//P/8X/v/+//7r/uv+//7r/xf/F/8r/z//V/9r/4P/r/+v/9v8AAAUAEAAVABsAIAAmACYAKwArACsAJgArACsAJgAmACsAIAAgACYAFQAbABUACgAKAAUAAAAAAAAA9v/7//b/8P/w//D/5f/l/+X/4P/g/+D/4P/l/+X/4P/r/+X/5f/r/+v/8P/2//b/+/8AAAAABQAKAAoACgAQAAoACgAKAAoACgAKAAUABQAFAAAAAAD7//b/9v/w//D/8P/w//D/8P/2//v/+//7/wAAAAAAAAAABQAFABAAFQAVABsAGwAbABUAFQAQABAACgAFAAUABQAAAAAAAAD7//b/8P/r/+X/5f/l/+X/5f/l/+v/6//r//D/6//r/+v/6//w//D/9v/2//v/+//7/wAA+//7//v/+//7/wAAAAAAAAUABQAFAAoACgAFAAUACgAKAAoACgAQABAAFQAVABAAEAAQAAoACgAKAAoACgAKAAoABQAFAAUAAAAAAPv/9v/2//D/8P/w//D/8P/w//D/8P/w//D/8P/r//D/8P/w//D/9v/2//b/9v/2//b/9v/2//b/9v/2//b/9v/2//b/+//7//v/9v/7//v/+//7//v/AAAAAAAAAAAFAAUABQAFAAoACgAKAAoACgAQABAAEAAQABAACgAKAAoACgAFAAUABQAFAAAAAAAAAPv/+//7//v/9v/2//b/9v/2//b/9v/2//b/9v/2//b/9v/7//v/+//7//v/+//7//v/+//7//v/+//7//v/+//7//v/+//7//v/+//7//v/+//7//v/+//7//v/+/8AAAAAAAAAAAAABQAFAAUAAAAAAAAAAAAFAAUABQAFAAUABQAFAAUAAAAAAAAAAAAAAAAA+//7//v/+//7//v/+//7//v/+//7//v/+//7//v/+//7//v/+/8AAAAAAAAAAAAA+//7//v/+//7//v/+//7//v/+//7//v/+//2//b/9v/2//v/+//7//v/+//7//v/AAAAAAAAAAAAAAAABQAFAAUABQAFAAUAAAAAAAAAAAAAAAAAAAAAAAAAAAAAAAAA+//7//v/+//7//v/+//7//v/AAAAAAAAAAAAAAAAAAAAAAAAAAAAAAAAAAAAAAAAAAAAAAAAAAAAAAAAAAAAAAAAAAAAAAAA+//7//b/9v/2//b/9v/2//b/+//7//v/+//7//v/9v/2//b/9v/7//v/+//7//v/AAAAAAAAAAAAAAAAAAAAAAAAAAAAAAAABQAFAAUABQAFAAUABQAAAAAAAAAAAPv/+//7//v/+//7//v/+//7//v/+//7//v/+//7//v/+/8AAAAAAAAAAAAAAAD7//v/+//7//v/+/8AAAAAAAAAAAAAAAAAAAAAAAAAAAAA+//7//v/+//7//v/+//7//v/+//7//b/9v/2//b/+//7//v/+//7//v/+//2//b/9v/2//b/+//7/wAAAAAFAAUABQAFAAUAAAAAAAAAAAAAAAAAAAAAAAAABQAFAAAAAAAAAAAAAAAAAAAAAAAAAAAAAAAAAPv/+//7//b/9v/2//b/9v/2//b/9v/7//v/+//7//v/+//7//v/AAAAAAAAAAAAAAAAAAD7//v/+/8AAAAAAAAAAAAAAAAAAAAAAAAAAPv/+//7//v/+/8AAAAAAAAAAAAAAAAAAAAAAAD7//v/+//7//v/+//7/wAAAAD7/wAAAAAAAAAAAAAAAAAA+//7/wAAAAAAAPv/AAAAAAAA+//7//v/+//7//v/+//7//b/+//7//v/+//7//v/AAAAAAAAAAAAAPv/+//7//v/+//7//v/+//2//b/+//7//v/+//7/wAAAAAAAAAABQAFAAAAAAAAAAUAAAAAAAAAAAAAAPv/+//7//v/+//7//v/+//7/wAAAAAFAAUABQAFAAUABQAAAPv/+//7//b/8P/r//D/8P/w//D/+/8AAAAAAAAAAAUABQAAAPv/+//7//b/9v/7//v/+//7/wAAAAAAAPv/AAAAAAAAAAAAAAUABQAFAAoACgAKAAUAAAAAAAAA+//7//v/+/8AAAAAAAAAAAAAAAD7//v/+//2//b/9v/7//v/+//7/wAAAAAAAPv/+//7//b/9v/w//D/8P/2//v/+//7/wAABQAFAAUABQAFAAUAAAAAAPv/+//7//v/+//7//v/+/8AAAAA+/8AAAAA+//2//b/+//7//v/+/8AAAAAAAAAAAAAAAAAAAAA+//2//b/9v/2//b/9v/7/wAAAAAAAAAABQAFAAAAAAAAAAUAAAD7/wAAAAAFAAAAAAAAAAUAAAD7//v/AAAAAPv/+//7/wAAAAAAAAAAAAAAAAAAAAAAAAAA+//7//b/+//7//b/9v/7/wAAAAAAAAUABQAAAAAAAAD7//b/8P/w//D/8P/w//v/AAAAAAAABQAKAAAA+//7//v/+//w//D/+/8AAAAAAAAFAAoACgAFAAAAAAAAAPv/+//7//v/AAD7//v/AAAFAAUAAAAAAAUABQAAAPv/+//7//v/9v/2//b/+//7//v/AAAFAAUAAAAAAPv/+//2//D/8P/2//b/+/8AAAUACgAKAAUABQAAAPb/8P/2//b/6//w//v/AAD7//b/AAAFAAAA9v/2//v/+//2//b/+/8AAAAA+//7//v/+//7//b/9v/7/wAAAAAAAAAABQAFAAUABQAFAAUABQAFAAAA+//7//v/9v/2//v/AAAAAAUAEAAVABAACgAQABAABQD2//D/9v/w/+X/5f/2//v/+/8AAAoAEAAKAAUABQAAAPb/8P/w//D/6//w//v/AAAFAAUACgAKAAoAAAAAAPv/9v/2//b/9v/2//v/+//7//b/+/8FAAUAAAAAAAoACgAFAAAA+//7//D/5f/g/+X/5f/l//D/+/8AAAUABQAFAAUAAAD7//v/9v/2//b/9v/w//D/9v/2//D/8P/2/wAA+//7/wUAEAAKAAUACgAQAAoA+//7/wAA+//w//D/AAAFAAAAAAAQACAAFQAFABAAGwAQAPv/9v8KAAUA8P/l//v/CgAAAPD/BQAbABUAAAAFABsAFQAAAPb/AAAFAPD/6//2//v/9v/w//v/BQD7//b/AAAFAPb/6//7/wAA8P/l//b/BQD7/+v/+/8KAAUA6//r/wAA+//g/9X/5f/r/9X/yv/l/wAA9v/r/wUAJgAbAPv/AAAbAAoA1f/P//b/+//V/8//AAAbAAUA9v8bADEAGwAAABAAIAAKAPD/BQAVAAAA6//7/xAA+//g//b/FQAFAOX/9v8QAAAA4P/r/woABQDw//v/JgArABAAEAAmABsA9v/r//D/4P/K/8r/2v/a/9X/6/8FABUAGwAmAEEAUQBBACYAIAAxABUA2v+//9r/yv+J/3j/tP/P/6n/uv8gAFcAJgArAJMAqQA7AAoAYgB9AAoAz/82AI0ARgAFAFEAqQBnAAAAAAAbANr/fv9z/4n/bf9d/5n/2v/V/9X/KwBiABsAuv+//8//aP/V/sT+If9C/yH/V/8QAK4A1ADPAAABKwHkACYAbf8L/67+Bf5i/WL98P1i/qT+Xf+jALkBIQJyAhYDXQPEAuoBcgHvAOD/4P6p/sT+nv6u/pP/qQBBAb8BpAJdAyYDiAIxAsQBcgC5/sn9tP1B/TH8NvxH/ogA+gAbAZMD5gbbBuAD2gJdBOACxPwf+Fb4JfiL88HvGPLT9kX4H/m5/p8GCAubDGsPOhLzEF8MIgjwA5P9wvb98rbxTvAN8NfzD/ra/kcCEgc5DBMOagxvCvEItQVtAPr77/mo+Ev3Zvet+YL8yv4bAb8DbgWUBTcF4ATKA9QBYgAQAOX/aP+T/74AuQGjATwBGwGeAAv/K/07/DH8G/wF/Bv9r/83AlID2gMsBRcGUgRnAEH9Nvuy95DyZO/978fx+PL+9c/8ugSFCtIOVhN3Fp0VdhFEDD0Gyv4697Hxae7W7KrtpvFg9wv9uQLLCKYNaw/CDlUN/QqaBhAByfxL+mb4/vZm98j5nvz7/lIBrwMRBRcFnwTrA2gCcgBS/zf/9f5y/gD/yQAmAiwCAAK5Al0DkwLqAPD/6/+6/57+Qf3a/Fz9PP2I+3z5uPhs+Kz2E/Q58+j0L/cw+Z78eAL3CA4OpxFLFDsVcRP4DpUIKwHO+UrzEu7g6sXq0O3S8u74GwCEB1UNvRBLEt4Rtw5pCfYDHP8g+rL13fOx9DX26fcl+5n/EQO0BPYFaQeqB0IG2wRYBLQDLAIAAUEBxAHvAMX/bQA8AiECAACv/0cCEQM8/877ff03/4L6zPOh8+72WvSw7ZTtnPSd+Hb3rfpTBQ4O6A98EakW8BgEFBkNTggsArj41/DG7TjsUuo47HvzMPsVAGgFDg2MEkASKQ9EDdwK0AQ2/aL4RfcJ9qH0zfUK+l3+9QAWA8UFXgePBqoEcwM8AkYA2v5X/6MAPAEFAnMExQZuBsUE+wTgBX4Dv/4b/RH/ff58+Rr3//q5/Uv5dfQJ9xv7YPdJ8NfwOvfI+Mj1+fieA08LiwwJD1wV9RdREzkN5ghoAt74kPF/7vzr9ule7Zb1K/w7ADIHShD/E/kQNA7iDR0K1AD/+Br3gfZ18zTykfaz/AoAVwJIBssJ1gnsB4kG9gTJAfX+iP77/nj+yv7lAYkFMgYGBRwG9wgiCLQCC/++AIgBmPvj9Kz2TPz/+dzxgPEl+SX6/fBu7JDzjfmR9QPzxPxZCccM7QyiE3MbTRpbE5wO8gkQAA71He/A6xDn3+XQ7O711PoVAOcK9BT/FeMRCREkEVQKmf5m92b2t/Sm8EPwDvbq/M8AxQP3B2QL1wsoCsAHqgS0ARUAYv9y/kz+jQBdBLUGcwbKBSIHuwh5BpMABf37/isAO/pl82D29f31+0nytvH/+vr7xu8G6S7x7vfi8cbtnfnxCJYMgAxRFXofHR7JFe4QkAwLAcfzOO1C6u/k7uKO6kX12foVAJALuRbwFyUT/xFQEiMLbf7N9ir2lvT373TvNfbJ/UEBygOPCIAMNAxeCdYGLATfAK7+Uv5t/s/+VwEXBkkJ4QjWB4UJLgu1B0wAufxS/8r/RfhE8ej1Mf7U+jPwzPBh+0z76+zO5WnvdvYH703q+fegCdINVQ3JFqsiGCKZGOkRtgwmAUrzBuuj5tPhzeGk6gP12fpdAvkPpBqeGQQUwxONE2QJS/op8w70avK67NvsOvYFAH4DLAVqCqEPUA+rCoQG2gNHAdX+Z/0m/er+HANuBxgJGAnyCbAKxgjbBAUBrv2S+677gvuy9yn1Nvr7/2z7m/J79DH8W/eO50DjB+6b8qnpz+hB+1UNkQ+9D3kbRSfMI6MXDhDMChz/1/Ab6KPk3uKI5dDtnPaj/TgH/xLwGCAWQBIqEg4PqQOH9w70vfWG8x3vkPGN+1IDHAQyBOwIVQ0+CzIF+wFiApMC6gDg//sBiQZZCmoLpgodCucJEghdBCAAufz6+rn7nvz6+ST2O/n2/+r9GfPn7733zfcm6GXdnuaQ8cDrEOUp9FQMyBM/EBsYKijpKQEcexDnDG4EdfTf5zvkreOo5Hjqt/Mb/BEFHxBcF2IWhxK4EWAPjgWo+ej0DvbC9OzwNPKH+jwCQgQ3BBwHsAouCmMFiAEgAUcCiAJiAtUDQwhaDfgO5wwoC/cKMwhyAQD8EPuS+nb3W/ee/H7/yfsm/BwDeAOy91TwL/Uk9RDlldj54MDsC+iy4hP0zA30FLgRhBtcLMQrbhu9EPMOHAVa8ivmruUr5r7kXemc9IP+hAWWDdQUchVVEf4OxwwRBQX7zfZA+Lj3P/RF9c/8RwNoA8kBxQSgCCIHcgFz/2gCvwSeA9UDMwjiDQMQiw7SDEkMuwoMBTz9KvmY+v/6hvZF9Yj9QgVcAI36mACwB3j9pe3x7GrzFupj1/zWG+YG6xXkTeyqBQoW/xUyGp0oNy7iIuoVJBEHCUv4g+py5+/m3uMV5h3xs/vPAG4Gtw8KFXERgAy2CwcKPAJn+kv5xPtL+mb3rfnV/xYCnv9t//UCfgR9AQUAkwPGBz0IGAlqDdMR2BEpD18NwQuUB30AVvoU+BX5yPhK9nz3CgABBxsCmPu5AMAHK/3g6pPoVPGq6vHVg9Jc5DPuxOWu6I4CUhgmGBAXayQWLy8mTBb5Dz4LC/3h7Z7oN+io5bPmTvD0+Sb+cwOADaIToQ+KCu0LsQwMBRD8XPu6/1f+uPju+Df/1AGj/WH79f4QAm0AUv8xA48IEwseDbIQSxNRE7IRFA+bCjcFOwBn+5z3cfdb+UD5kvnP/+EGBgNc+wD+6wM7+nLo9eXG7lLpBtaZ02zl9+5y5oPp8AJBFwoW+hT4IqktwiSYFbIQVQ3F/2rwxeqq6lfoPOh/7zr4XP25Ai4LShAeDlQLzAyADMUFN/8h/1cBbf6N+cj5If7g/rP6bPlM/XIAif+0/68EEwvtDWsPVhJGFXIVQBLzDX8JJwVyAIL6kfUk9lb6Qfvk+Bb9MgdvCDz9rfmpAZ4A/O0l4izqhO4e3nfQZdwd7Rbq5ONa9bIPVxaSEo4b+irkKeYbuBNAEtYHp/eg7pTtXerJ5qTrCfUK+s/8IQW3DWAOKApZC4YO9wohA7kAxQNXAlf8JfkF/H39uPmR9rP56v3w/m3/MgRqC5EPgRElFOoW7xbvE8IPKAvmBVwB5PzY97f1svhc/AX7nfq/AZoIJgK4+CX7EAF79o3lYeQ97fXnXtbg1ajlLe2u5eXquQGdEocSdxX4IhUqhSJMGBsVPw77/830RPGP7dTnpOnM8nz4GvlC/9EJzA0NCfcHxwweDfwFowEnBEgFXACN+2L8g/3D+vn26fcb+7n8If59AuEItw0UEXwUZxc2FzAVFBKQDZ8HgwLP/nf6wvbN9zH8AP3f+m3+4AVdBIL57vbk/Fb5V+lW4sXpbutE3dDVYOGf7MroIehh+bYMhhAJEi0d7iZlI9saeBfIEgEGbPoZ9l/ywOss6mrxW/fu92f7qgQoChIIfgZZCgIMIgjgBMUFMgbEAjf/6v1y/IL5Zvdx90v4d/kb/VcCOAfHCw8R6hUsGJgXCxcKFXEQAgpYBd8B7/w6+FD4ufsm/J353/sxAiYCdvjH9FH5sviZ64fj6uiU7HbiDdmi4DLrjupB6ML0rwZwDccP5RiFIsYhARy5GM4UqwlH/zD7S/dJ8CfttvK49y/3sviNAMUFjgQ3AxcHXgk9B44FHAeaB8UEjgKIAdX+5PoE+e74bPgf+L77NgFjBVkJ7Q53FNQWuRYQFyAWBBJfDCII9gTg/4L6FflB+877Ufls+Vf+9QCN+kr0JPYE+efwo+b65l7sJugp3Yvdd+aJ6snn5u0r/csICA0EFFMdxiA9Hgwb2hd7D4kFZwCY/O713PD48rL34/dA9wr8qQGZAvoA1QIBBoQGeQVeBmMHjwbKBG0D3wA2/cP63vka+Vv4VvoL/4MDXgfnCyoRKxWIFr4WchZcFIEQRAxpCCcER/9B/BX8+vvI+Wz4Cvty/RX5GfNV8w72q/D158nmXes36XbgZd935rrqaOkM7lz6fgWFCv4Q4BjLHDIc8BnfFj8QigjgA7r/rfmM9Vv27viB+L33yfqZ/tr+9f2D/4MCpAP7A7oFfwd/B2MGUwULA7//C/2C+636//lh+/X+5QK1BuIKUA/uEsMUVhV9FfoTDxFVDdYJaQbwAfD9RvxG/DD7zvje+EH7o/op9S7ygPO88ljsuedz6ZnqvuV24UDkxOj26SfsGfQs/uUERAtxEmcX1Rj1GN8X0xO3DWkJFwbvAFf85Ppc+5j6bPk2+p37d/uI+7P8Jv4m/1wBMgSZBeAFwAYHB9UE1AE2AMr+vvzU+zH9Xf9iAcUEigndDB4PvREgFHcUwxKBEf4P8gw4CeYFzwIQAFf+K/3k+tn4H/ne+KH0m/BZ8LvwXuzw523oJ+or51bj2eSI6PDpDOzM8mH7fQEBCFAPXBTOFQUXfRcKFfkPdQwdChwGxAF4/7/+Z/2I++T6kvp8+Rr5yPmo+jb7TP2YALkCUgNuBNUFPQUmA8QBIAEFABH/v/9cAfsCJwXACLELlg17D7IRrRKtEWsQZQ9EDSgKIgeDBPABIADl/gv9nfqo+Qr5t/WA8bbvtu8H7Szpg+jF6VfoXOXE5WLo5enK6y7xCfht/UcDGArzDv4Q9BLDFNkTzRD+Dt0N8gqPB+YF0ARtAr//nv5S/bj6CvkK+Vv5Cvn6+Z78mf6T/98AUgJSAqkBmAGOAZgAdwAQAokDPAT2BTgJsQumDB4OLxDzED8QkQ+3DnUMwQmUByEF1AGk//D+g/3Z+lH5Ufl29wj0DfI58tfwDO5O7SjuLe3F6tXqMuxI7KrsTvDz9M33XPuzAPsEqgaPCE8LWgyQC7ELdQzRC3QKLgoSCoQIYwZjBScEmAFH/23+G/4m/bP8xP3a/hH/N//K/8r/C/+O/oj+If7E/YP+1f/JAPABCwRzBgwIaQkICzQMoQyWDDQMRAv9CdEIdAevBTcEjgP7AskBjQDr/0L/eP1G+8j55PhF90X1RPSs8znyOfBe7+bu5u2P7fzuwfDy8ejz+fZG+Wf6G/xo/sX/bQDUAcoD8ASqBfwGTgiPCGQIpQigCJQHlAaEBnkGygV+BRcGWAbQBScFpASeAwsCowB4/1f+o/2Y/fv9jv6p/0wBCwNdBMUFOAdZCMsIAgkdCeYIbwgXCJQH5gaEBm4GpAVNBFcDngK5AEz+AP0V/P/52Pfz9tL1NPMN8U7wGO8i7evsTu7L7gfv/fB780/0DvVm93z5Jfps+yz+MQAgAfUCcwW6BvwGDAj3CKAI7AciCE4I0AfLB48I9wjACMYIxgjWB24GUwU8BLQCeAELAckAYgByACsBvwEhAtoC6wOkBBcFtQVeBo8GXgZTBn4GPQa6BaQF0AVIBTIEkwMLA2IBeP+Z/sT9ufvk+Sr5zff49P3yOfKF8FPuAe7L7mTuIu6a7w3xE/G88d3zRfXu9eP33/rJ/Dz+9QC/A/sE5gW7B/wI5ggYCR0KhQpDCtEKvAu8C1kLiwtfCwIKsAjsB7oG9gTPA3gDvwLPAZ4B1AGYAUcBjgEWAkwCiAIxA9oDFgQyBG4EpARuBCcELARNBPADTQMRA8QCqQFRAK//6v42/aj71PpW+eP2KfUp9F/yf/Az8Grwpe9v74rwLvHi8IXxI/Pz84b0kfYP+ZL6Ufws/4gBtAInBBEGAQctBwEIBwlJCY8JmwpUC0kLdQviC28LVAqrCRgJ5geqBhEGlAXKBCwE5QN+A/sCuQKOAlICTAKZAsoC2gIhA10DQgMhAxYD4AKOAo4CfQL1AYgBeAHkAMX/HP+5/oj9G/xW+0D6UPjI9u71hvTn8oDylvLX8V/xCPJq8vLxOfJ18wj0cPQO9iX4Zvnf+lz9eP+TABACBgQRBYkFqgbsB1MIywgHCtEKzAoNC5ULLgs4CtEJbwlZCFgHBweJBqQFFwXgBDcEbQMsA/sCeAJSArkC5QLKAiEDjgNtAzEDbQNtA/sC5QIhA64CAALfAYMBVwBi/wb/C/53/I37yfr/+C/3UPY09WXzgPKb8g3yOfGb8Uny7fHX8fjyzPMD9DT1UPe9+On5MfyI/sX/EAEcA34E8AT2BWkH/Ac9CFkJWQpUCl8K8grXCuEJWQkoCUMIMgfhBqUG0AUyBRcFnwTFA2IDXQPwApkC9QJNA0IDfgMLBBwE6wMnBF0EBgTVAxEExQMAA6kCXQJHARsAk/+0/ib99fsb+3f5h/dm9lD1kPNl8kTy0fH38A3xpvFv8TnxGPL98k/zVfRb9u73KvlM+7T9If9nAFcC6wOUBIQF/AbQBygIGAkjCkkKOAqmCqYK1gkzCfwITghYB+sGugYXBnkFQgXlBCcErwOOAzcD4AIWA20DeAOvAywEXQQ3BF0ElARNBAsEPAQcBHMDCwPaAvUBxAAVAFL/yf1y/J37NvpF+AT3FPZ19Ajzm/I08j7x7PBf8U/xCPGm8ZvyA/PH84H1FPc6+Pr5NvzJ/RH/2gCOAoMDfgTmBesGfwdZCFkJ0QnsCT4KZAr3CXQJKAm1CAcIjwdOB9sGUwYBBqQFDAWJBEIE+wOpA6kD2gPrAwAERwRuBE0ETQRuBDwE8AP2A/ADbQPqArQCFgLvABAAaP8s/rn81PvZ+jv5zffz9sL1NPRV8/3yKfJf8YDxvPFv8ZDxevIp84vzsfRb9oH3svid+n38v/0x/wsBaAJSA44E6wWvBlgHWQgoCWkJsAkYChIKqwlvCT4JuwgtCOYHmgcSB58GWAbmBVMF8ASvBFgEEQQWBCcEFgQhBEcERwQnBCEEHATlA68DngNiA+oCgwIQAkcBVwCJ/57+Z/1G/FH7IPrD+Kf3ovZg9T/0i/Pi8iPyzPHX8cfxx/E58uLyZfMp9GD1nPbD90b5+vp3/OX9if8QATwCcwO/BMUFmgaKB3QIAglvCecJHQoCCtYJtgleCeYIjwhDCNAHWAf8BpoGDAaOBTIF1QRuBDIEHAQABOAD2gPgA8UDngOOA3gDQgMRA+oCqQJBAs8BUgGjANX/Bv8s/iv9Jvww+yD6//jp9+P22PXj9B70e/P48qvykPKQ8rHyCPOA8xn04/Tj9f72Ovid+RD7ffzw/WL/swDwASYDRwRIBT0GJwfsB4oIEgl6CaUJpQmaCXQJIgnRCI8IOAjQB3QHHAelBiIGtQVTBeAEfgRHBBwE5QPFA7QDmQNiA0IDJgPwArkCkwJiAhACuQFcAdQAKwB+/8T+6v0F/Sv8RvtR+lv5cfh895H2vfUD9WX07fOh84DzgPOm8/jzZfTz9Kf1hvaB95f4zvkg+238xP0W/1wAiAGpAr8DtASZBXMGMgfQB1MIwAj8CBIJGAkCCcsIjwhTCAEIqgdYBwcHmgYyBtAFaAX2BJ8EUgQLBMoDpAN+A00DJgMGA9UCmQJtAjcC9QGuAW0BEAGeACYAnv/w/jz+ff2z/N/7EPtA+mb5l/jN9w/3W/bC9UX14/Sh9Iv0lvTC9A71hvUU9r32jPd8+Hz5jfq5++r8Fv5H/20AgwGOAokDcwRIBQYGrwZIB8AHFwhZCH8Iigh5CF4IOAj3B7UHbgccB8AGaQYMBqoFQgXlBI4EMgTlA6QDYgMmA/UCygKTAlcCIQLqAaMBXAEbAc8AcgAVAK//Mf+p/hD+cv3E/BX8Yfuz+gT6W/m4+B/4jPcJ95z2P/YD9uP14/UD9j/2l/YP95z3QPj/+NP5s/qj+6P8qf2u/rr/vgC0AZkCeANHBPYEnwUyBq8GFwduB7AH0AfhB+YH1gewB38HSAcHB7oGbgYiBsoFcwUcBcUEYwQGBLQDYgMWA88CjgJMAgsCyQGIATYB5ACYAEYA8P+Z/0f/6v6D/hb+qf0m/Z78G/yY+xD7kvol+rj5Ufn0+J34UPgJ+Nj3vfey98P39Pc1+Iz49Ph3+f/5kvo7++/7qfxy/Uf+Fv/r/74AjgFMAgADrwNHBNAETQXABRwGaQaqBtYG8QYBB/wG6wbLBqUGcwYyBvEFqgVYBQYFtARdBAAEqQNSA/sCngJMAgACqQFcARYByQB9ADEA8P+e/1L/C//E/nL+Jv7a/YP9K/3U/Hf8G/y++2f7FfvD+oL6QPoK+tn5uPmd+Y35jfmd+b757/kw+oL63/pG+7n7Mfyz/EH9z/1t/gv/r/9XAPoAmAExAr8CQgO0AyEEgwTbBCcFaAWfBcUF2wXmBeAFygWqBYQFUwUcBesErwRuBCcE4AOOAzcD4AKOAjcC5QGYAUwB+gCuAGIAEAC6/2j/HP/P/oj+R/4L/tT9mP1n/Tb9AP3U/Kn8gvxi/Eb8Mfwb/Ar8+vv1++/77/v1+wD8EPwm/EH8YvyC/Kn82vwL/Uf9jv3a/Sz+iP7l/kf/pP8FAGcAyQArAZMB9QFXArkCEQNiA6QD2gMABCEENwRCBEcERwRCBDIEFgT2A8UDjgNNAwsDygKDAjwC+wG5AXIBMQHqAKkAYgAgAOD/pP9t/zz/Ef/q/sT+pP59/lf+N/4W/vv93/3J/bn9rv2j/Z79mP2T/ZP9k/2Y/aP9rv2//c/95f37/RD+If48/lL+bf6I/qT+xP7q/gv/Mf9X/37/pP/K//b/JgBXAI0AvgD1ACYBVwGDAa4B1AH7ARsCPAJXAmgCcgJ4AnICYgJSAjcCGwL7AdoBtAGTAWcBPAEQAeQAswCIAFwAMQAKAOv/yv+v/5n/g/9t/1f/R/83/yz/If8h/xz/If8m/yz/Mf83/zz/Qv9H/03/Uv9S/1f/V/9S/0f/PP8s/xb/AP/w/tr+yv65/qn+nv6Z/pP+nv6p/sT+5f4R/0L/c/+p/9X/AAAmAEwAcgCTALMAzwDfAOQA2gDJAK4AkwB9AHcAfQCTALMA5AAQATwBZwGTAb8B9QE3An0CvwL1AhEDBgPKAmICzwEbAVwAqf8A/3j+Fv7P/an9mP2j/cT9+/1X/tr+eP82AAABxAFyAvUCQgNNAxwDrgIQAkwBbQB4/23+Uv0x/AX72fnD+Mj3CfeM9mb2nPYv9xT4Rvmz+kz8+/20/20BHAO6BDgGlAe7CKAJQwqQCooKLgp/CY8IaQcXBqoEMQO5AUEA4P6Y/XL8ffu++kD6Cvoa+mz6BfvJ+7P8rv20/rT/owCDAUwCAAOeAyEEgwS6BMUEpARSBNoDRwOZAuUBMQGCANX/Mf+O/t/9Mf19/Mn7Ffts+tn5W/np+Jf4UPga+Pn39PcP+Fv46fi++dn6Mfy//W3/JgHKAk0EpAXLBsAHjwgzCbYJBwouChgKtgkHCRII0AZjBc8DNwKpAEL/AP7v/BD8VvvJ+mf6MPor+lz6zvp9+1z8Yv2D/p7/rgCYAWICBgOJA/ADQgSDBLQEygS/BIkEJwSZA+UCGwJHAXIAqf/1/kz+o/36/Eb8gvut+tP5+fgw+Hz37vaG9kX2NfZV9qz2QPcf+Eb5vvp3/G3+ggCkAq8EjwY4CJoJqwp1C/gLOQwuDNwLRAtZChgJigfABb8DqQGZ/6P93/th+jX5Yfje97L30/dA+PT46fkb+338Bf6k/0cB5QJuBMUF8QbhB48I/AgiCQcJqggSCD0HOAYBBaQDJgKYAAb/bf3Z+2H6//i495f2nPXN9B70m/NE8xnzI/Nl8+3zwvTj9Vv3H/kw+239xf8hAmgEeQZICNEJ/QrXC18MoQybDFQMzAsCC/IJmggBBzIFNwMmASH/PP2I+yD6D/lh+An4BPhW+O74vvm++u/7R/25/kYA3wGDAxEFfgbAB8YIfwnsCQcK1gleCaoIxge6BokFNwTPAkcBqf/7/Ub8kvru+GD3/vXC9LHz0vIe8pvxPvEY8TnxoPFl8pDzKfUq93z5EPzP/pMBNwSlBtEIpgoeDDkNAw5wDpEOWg7SDfgMwQs4CmQIUwYLBK4BXf8g/Rv7YfkP+CT3ovaX9vP2p/ei+N75TPva/H3+NgD7Ab8DeQUiB6UI5wnnCpAL3Au8Cz4LagpJCeYHTQaUBMQC1ADV/tT8zvrI+Nj2FPV18wjy3PD972nvGO8d73rvOfBJ8cfysfTz9oL5TPw8/yYC8AR/B8EJoAsTDSQO0g4kDxQPtw4IDgMNsQsNCi0IBga0A0wB8P6j/I36yPhr93v2/vX+9XH2Rfdm+NP5bPsg/eX+rgB4AjcE4AV0B+YIIwodC9cLNAwpDLwL7ArBCT0IfgaZBJMCdwBi/lz8bPqM+Mj2L/W382XyRPFf8LDvSe8z74XvM/BJ8czyvPQE9435TPwh//ABmQQMBzgJCAt1DIYNPw6cDqEOWg7MDe0MwQtUCqUItQaUBFcCCgDJ/aP7w/k1+An3UPYU9lD28/b590v51Ppy/Cb+5f+YATwD0ARYBsAHBwkdCgILoAvcC7wLOQtOCgIJYweJBX4DVwEx/xb9EPsl+Wb3zfVa9Ajz4vHs8CPwmu9e74XvB/D38GXyRPR79gT5xPue/mcBCwR5BpoIXwrBC8cMew3MDdcNoQ0jDV8MWQsdCqUI6wYBBfUC1AC0/qP8zvo7+QT4Ovfo9g/3oveX+Nn5Ufvk/Ij+KwC5ATcDmQTrBRwHKAgYCdwJZAqgCpUKMwp0CVkI9gZTBXMDfQGD/479qPvk+Uv43vaR9Wv0cPOQ8tfxSfH38OzwKPHM8dLyP/QD9h/4fPr6/H7/9QFHBFgGIgiaCbsKkAsNDEQMOQz4C3ULwQrcCcsIhAcRBngExAL1ACz/cv3Z+3z6cfnD+Hb4kvgV+e/5CvtX/Mn9Qv+5ACYCfgO6BNsF2wa7B3QI/AhOCWQJPgnGCAwIDAfQBVIEtAL1ACz/XP2Y++/5W/jo9pb1cPRw85vy/fGg8YXxsfE08g7zOfS39YH3gvmo+9/9GwBBAkIEDAafB/EI9wmwCigLXwtUCwgLigrWCewI0AeUBjcFugMxAqMAJv/E/Yj8jfvO+lz6Nvpc+sn6cvtR/Ff9cv6k/9oAEAI8A1IEUwU4BvYGhAfhBwwI/AewBycHYwZuBU0EAAOeASYAnv4b/aP7MPrO+If3VfZK9WD0ofMZ89Lyx/IO86bzhvS39ST3zvid+oL8bf5RABsCxQNCBY8GpQeECDMJpQncCeEJtglUCbsI/AcMBwEG1QSTA0wCCwHa/8r+2v0b/ZP8Qfwr/Ez8nvwW/bT9cv5C/yAACwHwAdUCqQNuBBwFqgURBk0GXgZCBvYFeQXVBAYEFgMLAuoAuv+D/kH9CvzU+qj5kviM95z2zfUe9Zz0T/Q59GX02PSM9Xv2rfcK+Y36K/zP/W3/AAF4As8DBgUMBusGnwcoCHkIoAiaCGQIAQh0B8UG9gUMBREEFgMbAiYBTACO//D+cv4h/vX98P0Q/lL+rv4m/7T/TADvAJgBQQLgAnMD9gNdBKQE0ATbBL8EfgQhBJ4D+wJBAnIBkwCp/7T+uf2+/MT7zvrk+QT5Nfh89972ZvYO9uP17vUq9pf2OvcJ+AT5Jfpc+6n8+/1H/40AxAHqAvAD1QSZBTgGrwYBBycHJwcBB7UGTQbKBTIFiQTaAywDfQLaAUcBxABXAAUAxf+k/5P/nv/F//v/QQCYAAABZwHUAUECqQIAA00DgwOeA6kDkwNoAyEDxAJSAskBNgGTAOD/LP9t/qn95Pwg/GH7qPr6+Vb5yPhL+On3ovd893b3nPfj91D43viS+WH6TPtG/FL9Yv5t/3cAcgFdAiwD5QODBAEFYwWkBcUFxQWvBX4FPQXlBIMEFgSpAzwDzwJtAhYCxAGDAUwBJgELAQABAAEQASYBRwFyAZ4BzwEAAiwCTAJtAn0CfQJyAlcCLALwAaMBTAHqAHcAAACD/wD/eP7w/Wf93/xX/NT7Vvvf+mz6BPqt+Wb5NfkV+RX5Kvlb+aj5D/qN+iD7yfuC/EH9C/7V/pn/XAAWAcQBYgLwAm0D1QMnBGgEjgSqBKoEnwR+BFgEJwTwA7QDeANCAwsD1QKpAn0CVwI3AiECCwL1AeoB3wHaAdQBzwHJAcQBuQGpAZgBfQFcATEBAAHEAIIAOwDw/6T/Uv8A/6n+V/4F/rT9Yv0L/bn8Z/wV/Mn7gvtB+wr75PrD+rj6vvrU+vr6MPt3+8n7JvyT/AX9g/0A/oj+Fv+k/ysAuQA8AbkBLAKTAuoCMQNtA5kDugPPA9UD1QPKA78DqQOOA3MDVwM3AxED8ALKAqQCgwJiAjwCGwIAAuUBxAGpAY4BcgFSATEBCwHkALkAiABXACAA8P+6/4P/Tf8W/+D+rv54/kH+C/7a/Z79Z/0x/QD9z/ye/Hf8V/w7/Cv8IPwg/Cv8NvxM/G38jfy+/O/8Mf1y/cT9Fv5y/tX+PP+p/xAAdwDfAEEBmAHwATcCfQK5AuoCEQM3A1IDYgNtA3MDbQNiA1IDPAMcA/sC1QKuAogCXQIxAgsC3wG5AZMBbQFHARsB9QDPAKMAfQBXACsABQDg/7r/mf9z/1L/LP8L/+X+v/6T/m3+Qf4b/vX9z/2u/ZP9cv1c/Uf9Nv0m/Rv9Fv0Q/RD9Fv0g/TH9TP1t/ZP9v/31/TH+cv60/gD/R/+T/+D/MQB9AMkAEAFXAZgB2gEQAkcCcgKTArQCygLVAuAC4ALVAsoCuQKkAo4CcgJXAjcCFgLwAc8BqQGDAVwBNgELAeQAvgCeAHcAVwA2ABUA9v/V/7T/mf94/1f/N/8W//v+2v6//qT+iP5y/l3+R/43/ib+Fv4F/vv98P3l/d/92v3a/dr93/3q/fv9C/4h/jz+V/54/p7+xP7q/hz/R/94/6//5f8bAFcAjQDEAPoAKwFcAYgBtAHUAfUBEAImAjcCQQJMAkwCTAJHAjwCLAIbAgUC6gHPAa4BjgFnAUcBIAEAAdoAswCNAG0ARgAmAAAA4P+//57/fv9i/0L/Jv8L//D+2v7E/q7+nv6I/nj+bf5d/lL+R/5B/jz+PP48/jz+Qf5M/lf+Yv5y/oj+nv65/tX+8P4R/zH/V/9+/6T/yv/2/yAARgBtAJgAvgDfAAUBJgFBAVwBeAGOAaMBrgG/AcQBzwHPAckBxAG/Aa4BngGOAXgBYgFHASsBEAHvANQAswCTAHIAUQAxABAA8P/P/7T/k/94/13/Qv8s/xH/+/7q/tr+yv65/q7+pP6Z/pP+jv6I/oj+iP6I/o7+mf6k/q7+uf7K/tr+8P4G/xz/Mf9N/2j/if+p/8r/6/8KACsAUQByAI0ArgDJAOQA+gAWASsBPAFSAWIBbQF4AX0BfQF9AXgBbQFiAVcBRwE2ASABEAH6AN8AyQCuAJMAdwBcAEEAJgAKAPD/1f+6/6T/jv94/2j/Uv9C/zH/Jv8W/wv/AP/1/vD+6v7l/uX+4P7g/uD+5f7l/vD+9f77/gb/Ef8h/yz/PP9N/13/c/+J/57/tP/K/+X/+/8QACsAQQBXAGcAfQCTAKkAuQDJANoA6gD1AAABBQELARABFgEWARYBEAELAQAB+gDvAOQA2gDJALkAqQCTAH0AZwBXAEEAKwAVAAAA8P/a/8X/tP+k/47/g/9z/2j/V/9N/0L/N/8x/yz/Jv8h/yH/If8h/yH/Jv8m/yz/Mf83/0L/R/9S/13/aP9z/4P/k/+e/6//v//P/+D/8P8AABAAGwArADsATABXAGcAdwCCAI0AmACeAKkArgCzAL4AvgDEAMQAxADEAL4AvgC5ALMAqQCjAJ4AkwCIAH0AcgBnAFcARgA7ACsAGwAKAPv/6//a/8//v/+0/6T/k/+J/37/bf9i/13/Uv9N/0f/Qv9C/zz/PP88/0L/R/9N/1L/Xf9i/23/eP+D/47/mf+p/7T/xf/P/+D/8P/7/woAFQAgACsAOwBGAFEAXABnAG0AdwCCAIgAjQCTAJMAmACYAJgAmACYAJMAkwCNAIgAggB9AHcAcgBtAGIAVwBMAEEANgArACAAFQAQAAUA+//r/+D/z//F/7T/qf+e/5n/jv+D/3j/c/9t/2j/Yv9i/2L/Yv9i/2L/aP9o/23/eP+D/4n/k/+e/6n/tP+//8//2v/r//b/AAAKABUAIAArADEAOwBGAEwAVwBcAGIAZwBtAHIAcgB3AHcAcgByAHIAcgByAHIAbQBtAGcAYgBcAFcATABBADsAMQArACAAGwAQAAUA+//w/+v/4P/V/8r/xf+//7T/qf+k/5n/k/+T/5P/jv+O/4n/jv+O/47/jv+T/5P/mf+k/6n/r/+0/7//xf/P/9r/5f/2//v/BQAQABsAIAAmACsAMQA2ADsAQQBGAEYATABRAFEAUQBMAEwATABMAEwATABMAEYARgBGAEYAQQA7ADsAOwA2ACsAJgAgABsAEAAFAPv/9v/w/+v/5f/a/8//yv/K/8X/v/+//7r/uv+6/7T/r/+p/6n/qf+k/6T/nv+e/57/pP+p/6n/r/+6/8X/yv/V/9X/4P/r//b/AAAKABUAIAAmACsAMQArADEANgBBAEwAUQBRAEwARgBBAEYARgBGAEYARgBGAEYARgBBADYAMQAxADEAMQAxACsAIAAbABsAGwAbABUACgD7//b/8P/r/+X/4P/a/9X/xf+//7T/qf+k/6T/pP+k/6T/qf+p/6n/r/+v/6//r/+0/7r/v//F/8X/yv/K/8//1f/a/+D/6//2/wUAFQAgACsAKwAxADYANgA2ADsAQQBGAEwATABMAEwARgBMAFEAUQBRAFEAUQBGADsANgA2ADYANgAxACAAEAAAAPb/8P/l/+D/4P/g/+D/1f+//6//nv+k/6n/qf+p/57/nv+k/6//tP+6/7r/uv+6/7//xf/K/9X/6/8FABUAIAAgABsAEAAQABsAJgArADEAOwBBADsAMQArACYAKwAxADsANgAxADsARgBMAFEAUQBGAEEAQQBGAEYAOwA2ADEAMQAxADEAIAAFAOX/1f/F/7r/tP+k/4n/Yv9H/yb/C//w/uD+2v7g/ur++/4L/yH/Qv9o/5P/uv/l/xsAXACYAM8A6gD6APoAAAEFAQsBBQH6AO8A6gDfAMkAswCjAJMAggBtAFEAMQAVAAUACgAKABAAIAAxAEEAUQBnAHcAjQCpAM8A5ADvAOQAvgByAAAAc//g/kf+rv0W/X386vty+yX7CvsV+1z76vvJ/Nr9Ef9GAHgBkwKOA1gE2wQRBQYFygRoBNUDLAN9As8BKwGeABAAjv8h/9r+tP6e/o7+g/6I/qT+2v4h/1f/jv/V/zsAqQAbAYMBzwELAlICrgL7AhEDCwMAA/ACxAJoAqMBYgDa/n39YvxW+zv6GvkP+EX33vbY9v72S/f/91v5TPtt/ZP/tAHFA8UFpQctCQIKLgoHCsEJPglICPYGbgXVA1IC5ABi/579zvtW+mb5uPgq+OP3FPjI+Ar6rvtn/fX+iABMAhYEcwVIBsAGBwcyB1MHSAfLBuYFAQVdBKQDkwJMARsAIf9t/tr97/xc+5f5Vvi490X3svb+9UX13fQZ9dj1wvbD90v5o/uI/n0BQgS6BuYIzApUDCMN7QwTDB0LIwrhCDgHMgURAxsBaP+//dn70/k1+Fv3FPca91b39Pcl+QX7XP2e/1cBxAJCBLoFugYXBwwH1gbABvYGDAd+BlMFMgRtA5kCVwHa/5n+9f0L/lL+z/3q+2z5nPfN9lv2vfXd9O3zkPMe9DT1JPb+9oH4XPtH/0cDtQZ0CbELiw0JD8IPPw/CDQ0MhQrsCOYGbgTlAYn/Uv0g+974nPbd9Er08/Q/9q33QPkl+2391f/1Aa8DAQUMBtYGWAdpB/wGlAaUBrUGPQYGBZMDNwLvANX/Jv/1/kL/KwA2Ad8AUv6z+s33KvZa9d30E/TM8szxDfJP83D0SvXj9iX6nv5NA58HKAvdDTUQdhKzE94ScRDHDWoL9wgGBqQCIf/J+//42PbN9MzysfFl8mv0t/bT+PT6Z/07ACEDpAVOBxIIfwgSCX8JIgkoCDIHYwZoBSEEzwKIASYAyv4h/mj+Qv9yAHIBzwCY/Ub5FPaA9LHzDvNE8hjxEvBZ8PLxpvMJ9Vb3kvvvABEGoAqWDmYRNRO+FHIVDxT+EB4O1wsCCSwF+gC5/Gb44/T48tzxoPAo8OLxJPVL+CD7N/4mAX4DEQYYCcYKTgpkCWkJaQmKCIoHWAYWBHgBRgAmABb/AP02/Ij9mf94AWgCiAAg+8j17fOc9P70lvTH8x7yHfBv72TwevET85z3fv9/B/0MjBCoEhoT/xLZE1YUlxLHD/4NNAwzCF0CbfzI9sfxIu8o77vvB/DH8aH1h/mC/JP/+wKqBQwIXwtlDvgOwg2hDC4LmggMBl0EUgJt/239z/yj+zv5D/ii+YL8Mf/1AHj/Zvn48lTx4vOi9sj3D/cO9E7wmu6l73XxzPNL+coChQyMEu8UrRRFEh8QHxFLE/8SjBATDsEKnwTk/Pn1kPAn7UjthfBw81X0SvX09//69f08AsAHzAwEEXcUZxVxEscNagqgCAcHeQXgAyYBg/18+hT4A/XM8lr0S/lM/o0AV/4691Tveezn75z1YflW+Yz1I/Ai7MDrwO409EH81gbIECAW9RaCFVETDxKXE4IWMReHFCQPSAcb/efy0Ouk6Ujrb+5P8WrygPHi8Jbzh/kgAWQJwxGeGOYb2xraFioSSg7dDMINHg4CCycFAP+C+dL0gPEI8f7zO/ks/tX/bPs+8QvoUeav6wjzQPhm+LbyAevk5ZLltOnt8aP9qwp3FNQXxBYKFekUmBfmHP0gByAWGu4QpAV3+ffuJun16InrMu1p7FLpvuXZ5XnsjPc8A2oNsxW/GoQbBhmYFisWfRfgGREbbRcTDhEEjv0l+pH36PWB9un4qPu+/Gz5iu8a5IzgK+cC8Zf2JPWq7FDiI90q4DfogPFn+y0GVQ8KE0ASohFcFFgbcCU8LdkrGCG4EvwFK/w69Unx/e8Y703sg+dx4czbddt85AP0mQL4C6cQOhI6EgQTURbwGsAegCHiIYQcGhHVBQoAV/8AAPv/6v6u/Fz6jPgp9RLtYeSN43nrT/SB9m/w/+OK2FPWHt9C7Br3AP8XBeEIZAmrCT8N1BRUH/8paC/OKY4bXwy/AYj7H/nO+c75UPXb7P/jzNxO2sLgKO8A/uYGMwpDCh0JwQkvD78X3B5wIh4iWBwvEboGRwOZBUMIMwlOCPADIP2t9x7zIuxn5qno3PDS9f3yXela3NrSr9Tj4fLwjfoc/xYCbQM8BIQIKhFoGuIh7idWKKsfbBJ5CPsCbf8h/pP9VvkC8O/mNeLj4RDmM+/T+eX/1AG/A48G0QgTDMgRUhdjGvAa5RjpEucLaQm8C/gMPgrhBvYECwRNA7r/6PQb5+nhyugu87f2q+8E4TfUR9Kb3Hnre/Zy/BYBPQVOB2QJRA53FeYd3SXNJ1QfDxEsBWj/V/4s/0z+l/nR8TfqueVR5QDp5/Bc+oMBqgT7BCwE9gQCCXAOOxMKFisW/xLNDiMMoAtfDIUMTwzcC18LSQpjBxz/AvIc6Y7pwe/X80/x1OV/10zRlNcV5RjxZvhM/GIAJwV0CmYQkhVoGnQfgCLsHTUTfwh9Am0BzwEW/0D38e3f50fou+3C88j3//n6+339If8mAb8E8gnSDhoRaw/iCicGQgaxC5wR/xIJELwMSQuADIsN1wqTAb32OfKA9Gv2m/Fc5w3bidP81a3h7O0T9Pn17vc7/CYC5wqdFeYeOSNPIokcVRHgBXIB4ATmB/AEnvxP8cnmVuMB6iT1Jv36AK4CrgH1/W38fQDWBhgMUA+hDsYHfv/U/UIDQwkjC6sL1wwUD60RdhLMC9/9lvRm9ysABgOC+/bq1tj6z6TU9OGw7XD0jPdA+kb8Yv8MBzsTbx9QJpElHBxrDm4EygJ+BTIFr/869xLvIelM6MDslvNG+hYBlAZDBxwEngKUBT4KkA3MDRIKVwN4/pn+2gBtAOr+QQGKB9cNZhCxDOUBYPdW91IBSQqKCAD8Qunc2a/Vp96f7IH2d/lx+Iz27vW5+ygJchgIIjkjuhx2EOAFUgPAB/cJMgW5+z7yr+to6l7vt/X0+Ij76gAnBoQHQwiFCmoMhQweDH8K/AXwAUcCtAQsAlz7nfgg/bQEkAryCjwBsfO78Eb7fgaPBib8quze4MLfXem39HH59Pii+Db6iPu///IJBRaaHfEdgxcTCxYBuQCPB5sKjgRA+YTuFumv6lrys/lX/Jj9GwF+BVMHdAkTDA4OrA4eD+gNXgnQBOUCygK6/2H7XPupANAG1gjFBPT35usS7Tv7FwfWBiX7bekp3abdXekU9oP9yv82AEwA2v65ARgLoxbrHOsc+hUNCvAC1QN5Bn0CgvlO8Obrf+3c8cL2Yfhb+HL6MQDVBAcIVQ1QEjsU2BH4DJoGmQM4Bk4KIwrPAiv75Plz/+UEpAWZ/i7y9uw09F3/CwLJ+mntD+Le4DHpgPS++hX8+vtX/vUAPAT9C+8VeRx+HCYXTwwGA5MCwAcNCUwBCfUy6gvnAevn8u74MPol+q78eAEBBQIJwg2yESoT0xEODg0JUwc4CEgIpAMQ/jz9VwLbB24GZ/y17q/pZfKTAPwFbf1j7ZHgzd8h6cf01PoQ/CD81P1nAGIDKAmcEVcZ6xtXGL0PYwdoBdsHfwdGADX2Tu4M7LXuofI/9KzzCfVG+r4A8ASUB+wKkQ5bEcMRFA+VCsAImwrBC8sHfQDv+9r9YgMMBkwB/vXQ7NbuqPlyATf/gPRy6Mjjqek59Db7bfyz+pL6rv1iA/cJgRDJFEYV4xJlDkkJSAfRCHkINwOt+ufx5uwS7hPz7vat92b3D/mj/GcA8AN0B6AKEw7TEKwQPgxvCKUHWQjhBtUD3wG/AiIG9gbPAb31tes47b34rgJ4Ab32V+eW38jj9/DE+7//6v7a/Dz9tP+vBowPiBdHGrQXUBHmCI4F/AYdCb8EIPyx8kjtF+6Q8t72Nfam893zd/lBAaoHlQtvC18KKAp1DMwNxw0pDbwLFwjPAQv+Uv+6BBIIEQUK+svsment8qT/9QFh+PDo0t9s46bwYv3aAAX95Pjv+jwBwQlLEqMX5RcwFCoQkAvxCEkJPgppBjb9gPOE7WPtGPG39Vv3A/Uu8z/2iP2OBBIK0gyADIsLEwzXDWsOEw7iDBgKSAXV/yH+owDKBFgFQQC39cXr8etw9Qv/eP/I9o7p3uEA5gjyff0AATf+//nD+m0AWQmoEn0XdxaHESkNjwl6CQ0MTwxuBsn7RPJ57avvzfTu+If4a/Rf8uP15f3gBOEJegviCswKagyGDh4OkA1JDKYKhAapARAAqQIiB2kGIf+A8W3oDOyi+ZMDuf4+7+jeGNxB57L4QQJMAEb5hvVR+qQCzAzfFDwagxnZE5AM1gbGB90M/g+1CJj6He7F6iPwzfYq+Yz1OfEz8fn31ABuBuwI5wnGCl8L7QxgDrwO3Q0eDE4JNwWjAZgAuQIMBYkEMQC4+A3xTu9a9b78PP5W9wbsO+P04yLtcfg3/gv9Zvls+GL8FgQ0DrMW2hnJFkUQKArGB7sKNA4CDPABJPUn7RftDfKn9kX3RPS88WD0TPsLAyII3ArnC7wLxwsuDA4N+AyWDIALoAj7A/v+8P2NAHMFige0Azv63PAY8Kf39QBnAd73yunI4EbjwO35+Ff8+vlw9WD1mPo3BOMPbRhYG8kW4w9JCsEKPw+tEecMxf+b8pnrF+5w85z2hvRf8CLv/fLJ+wAEmgmVC+0LEwtZCoULvA3YDx4OQwoGBe8A8P54/4gBPAP2BGMECwHO+RP0+PS++wsCxf+39LnlvN7041/xTPsV+9L0/e9P9Hj/5wxhFRAYzxYKFPQRew8/DxQP+A27B7n8ZPFo6zju4vNA96bzWe6K7eP0eAGrCuIMxggMBhwH1wtrEAkRoQ0iBwADgwFXAvsCxAKuAo4CUgQRBakD+/2i+LL4mPy0/2z7ZPFW5afgxOV078j1JPQC8cbw//euAi4NVhPZFFwVmBVcFkYUcRG3DSIJqQN9/UX4P/O78Gnvj+9J8IDyQPcK/NX/owGvA0IGhQmmDHUN8gugCIQGEQURBBEEDAUMBn4EuQHP/1ICXghfDecLxAFr9pvycfhN//X9gPIl42Tbkd/263D1CfeW8w3yGvcWAS4N3xWkGbQYVxYaFJcRNRDNDqEMHAfg/2v3M/A97T7vgPRQ9z/2pvIj8pH2Bv9TByMKxgfaA5MDPQbhCaALmwqqB5kEtAThBooJxglkCOYGMgdUCf0JBgae/Lz0WvMf9//4e/M36Pjd/dwQ5f3vJPXX8w3yP/Vd/igJNRJyFvoWJhYrFskWGxYwFAkQZAqvAyb+GvqG9jTzu/BJ8F/w1/BZ8cHyrPXe+b/+3wEhA2IDJwVTCJALkA11DRgMPgp/CggNlg8JD5AKXQUWA8UFOAkMCBb/sfKv67vtdfRm9rvvBORl3Jzemeg584f32Pa39Tv5XAFZC94TbRhiGdoXABcLF4MXYhbYEZAKXQLP/Nn5svdf87Xtc+mp6KTrTu/n8fLyzfRA+bT/jgWgCDMKxwvYDhoS2RMVE3sQsQ7NDrcPZQ5OCiEF8AEAAvsCngGu+2Xziu1I7Vnwq/Ei7u/mVuGi4ern0e+s9KH13fVW+doAegqoEkwXuRjPGHgZmRohG4kZ7xR1DREFR/7p+TX3gPOK7aPmbOKX42jpAvB18wj03fSC+TECwQsPEpITgRLeEXcT/xVSF6MVOhEuDMYIigeqBjwE4P+j+8P5d/r/+hT4wfFN7PbrEvCQ83rxbupA5Arl4ez+9Tb6FfnD9zD76wPHDZ0U7xb6FiYXABieGNoXqBVrERML4AIb+731OfO28Uju1ej/4+njMekN8f72W/lL+kz9TQQZDTYU5Bb/FeQT+RKiE3EUsxMvEOcKnwVoAjEBXAAL/kb6cfdF90v52fl79k7wWOwt7sfzL/e387rr2eXq57vw3vli/Ub7Nfkm/LoEpw7EFTEYRxeuFRsVzhVnFmEV8xD8CHP/svcD9B7z1/Hs7VLoguRs5RHrVPI1+Mn7pP60AlkIzQ5RFNQX1RijFxsVbBKiEDoPAw1eCBYCd/z6+aj6ffut+VD1ZfIk9Mj5Jv6j/B/2WfBE8RT46v0b/ETzn+p46avw5Pks/r77l/cU+Ab/xggvEPQSKhKnEEoQVRF2Eg8SLw+FCSwCVvtF9y/2/vU/9Kvwae0H7YXwVfbU+3j/2gFzBOwHzAs6D7gR2RJLEg4QqwxeCU4HbgYRBcQBs/w1+LL2ovjU++r8uPpW95f2Jfrw/2gDiAGY+2v2W/bO+gv/LP7j92rwOO2V8GD3Ufxc/ED5FPcf+U3/pQbnC0QN1wvLCS0JlQpVDVoPRA6wCWgDv/6I/Vf/EAHP/437Cfe99VD42vwgALkAc/+p/hsAaAPxBsYIeQh5BlIEVwPFA5kENwQmAtX++vu4+jv7o/zJ/Vf+If59/eT8k/1XAG4EaQelBgACZ/w7+sT8yQDqAMn6gPEM613rtvCn9dj17fGg7jPw/vaJ//YFpQgtCU4Khg0UEt8VfReYFvoTohCADewKigjmBXgCJv5s+af13fPt86f03fSA9GD0nPV2+Ar8Bv/fACYCcwPwBD0GAQccB5oGxQXbBOsD6gLqAdoAAADl/88ABQIhAqMABv+J/8oCXgZpBlIBFfo69nb4cv19/gT4WO0m5pPnae9K9pf2hfGl7YXwBPrQBIULAw1aDIYN0xFXFxcbWBtyGCsUShCGDVQLdAj2AxD+MPge9EnytvHi8FnvAe5O7rvwOfRr95f5kvs3/pMB1QQMBzgI0Qh6CewJwQm1CEMHIgZNBWMEzwLUAE3/Fv9MAMQBEAJ9AGL+6v1MABEE4AVNA0z9KviX90H7Uv4F/Fr0U+zK6eztZfRb9/P0zPBq8An25f5NBrsJQwrsCqENCRI2Fp4YqRh9FsgSkQ5UC4UJHQgBBQv/gfdZ8RjvLvCx8bbwWO1u6vDqf++39Z36qfwg/Uf+owHFBsELxw4JD1UNZAvnCvILDg0+DLsI8AMrAAD/qf8bAPv+7/yN+5L7Yvwb/QX+xf8mAlcDqQHf/UH7iPxtAEcCUv7z9ezuSO5q84z4OviA8gHtdO2R9Kn9QgPgA5kCzwMCCegP9BRXFvoUBBO4EdgQYA+rDNEITQRz/436/vVa8vfvpe617cXsF+x+7JXuVPLo9kH7yv65AaoEHQgCDKEP7hFAEugQDg/CDRMNAgxvCVMFBQEQ/u/8jfyN+9753vjk+Y38Ef/r/7//qQD2Ay0IEgrWBxwDz/8rAGICGwKp/AP0J+2q61nusPAi74nqJueO6KXu+fUg+1z9uf6pAdsGGQ1mEn0VJhYrFbMTvRKHEhoS6A8oC8oEBv+j+2H6QPlm9vLxAe6q7FPuVPG88830dvUq9536Yv9CBDMIqwrtC9IMNA5bEGYS7hIaEaYNXwqlCB0IFwdjBHIAEP19+4j76vvZ+677FfwL/eX9Xf4R/88ABgPFA54BeP0l+qj53/pc+rf1U+5t6EznIerm7FjsIekb557pf/Bm+AX+2gALAwwHPw3kE9oYJxtoG8Ua+xkcGbkXVhWMEUkMEQYbAH37bPjz9cfyq+7b6jzptOoo7nrxX/OL9N72o/ssAl4IhQycDgMQFBLOFBAXnhcgFjUT0g+LDIUJhAYmAxz/jfpQ9l/zPvJJ8kTym/ET8SnyUPVG+Sb8Qf3l/eD/UgM4Bj0GUgPl/33+Fv8L/877rPW77x3t/O2273rvHe0h6z3s5/AU91z82v+ZAi0GGAucEGEVkxgcGl0azxnKGGcXjRXTEuMO4Ql+BI7/mPt8+Lf17fI+8Djubu0d7hjwzPKh9Uv46fr7/b8BEQY+Cl8NHg/SDyoQlxDeEFUQdQ5EC24HrwNyAI79mPpb9w70VPHL73rv/e/G8MHxcPNF9gr6yf2eAKkC1QTmB0QLNA1lDFkJMgaqBFIE4AJX/lD3pvAd7ebslO2P7Inp6uZ95wbsofKX+JP8g/9oAz4JUBDEFgwb5hw4HRcdEh3LHF0bCxjeErYM1gb1AfD96fk69T7wOOwy6izqIesB7K/sF+4u8dL1zvrq/gAC8AR/CIAMzQ9rEWARshAqEKwPYA6mC8sHvwNGAFz9gvpm90/0zPFD8LvvB/D98IDycPSy9mH5s/ypAKoE1ge2CcYK+AuhDe0OdQ6bC14HkwMxAV3/XPxb94DxB+1N65/rEexz62Pquuqw7czyVvj1/JMALASPCKwNhxIrFjcY6hjgGGgYfRffFTUTaw/XChEGtAHq/XL66PZE8xLwB+5/7R3uIu8d8EnxT/OX9sn6AP9yAgYFUwfyCd0MWg+cEFUQ8w5PDdcLXwpOCCwFNgEx/eT5kffd9TT0dfIN8avwm/Gb8wP2ZvjZ+rT9FgGfBMYHOAoNDHUNcA6cDqYNoAsCCTgGNwPF/537D/fB8lnv9uxN6/vp++i06KnpF+yr79Lz+fcF/DYA2wTyCeMO7hKjFTEXIRjaGBYZPBjvFXwSnA7nClgHjgNS//r6KvdK9ETyzPC27zjvle/M8JvywvRA9yD6R/1BAMQC5QT2BigJCAvtC5ALbwpkCcAIFwiJBtUDmADq/Uz8Vvsw+nz4p/aG9ZH1gfbD9//4O/qz+479uv8sAr8EQwdOCZUKPgvBC3oMKQ0ZDbELGAktBroDvwGD/1f8Rfg59BPxIu/h7ZTsIesB6vDpQuuf7W/wSvM19nz5V/2jAQEG/QlKDfMPFBLIE/8UjRVMFSUUJRKBD4AMWQkyBgADmf/6+3b4lvXH8+3ygPIN8qvxAvKm83v2ovk2/Bv+AACeAvYFEgn3CnoLVAtvC/0LRAx6C28J0AaJBAYD+wHUACz/PP2Y+9/6TPuT/OX9jv5o/kz+R/+uAV0ElAVoBM8B6/8QAEwBFgHP/Vv4lvPH8Wry1/LX8Nbsk+mD6aXsoPAZ893zt/Sc9778kwJOB18KiwzYDpERMBQFFq4WKxatFHwS8w9lDecKEgiDBEYAFfze+OP2ofVK9LHyavFf8cHyA/VQ91H5Vvvf/fUANwQSB1kJHQt1DFoNtw2QDf0M7QsoCp8HqgTUAXP/Nv2o+pz3sfTM8jnyavKF8jnyNPJl8wn2Ufkr/CH+1f8mAlMFjwjRCrwLzAvnC1QMiwzcCwIKeQf2BMoCyQCe/hX8fPk194b1e/To86zzrPPz85z02PWi98P53/u0/VL/+gDVAr8ESAYSBzIHBwfrBtYGeQZ+BfYDRwLaAM//8P71/dT8zvsw+yv7kvsx/Nr8g/1S/m3/zwBXAr8DygR+BQwGmgYnB4QHYwe6BroFvwTwAzcDUgIbAbT/ff7E/YP9eP1X/Rb9+vxM/SH+PP8xAM8AKwGIARsCxAIxAxEDXQJcAVcAc/+O/lz9xPv0+UD4+fYq9qH1HvWc9FX0ofSn9Sr32fh3+gr83/0VAIgC5QTbBlkIhQmKCnoLHgxEDMwL1wqPCS0IwAZIBZkDrgGe/7n9Rvxc+776K/qS+TD5ZvlL+qP77/z7/er+GwC/AYkDEQUBBnkG1gZTB9AH/AeUB68GnwWkBMUD1QKjASsApP5H/Sv8TPt3+pL5nfjD9zr3D/ca9x/3BPfo9gn3l/dm+DX52flc+hD7Ffxn/bT+xf+eAH0BjgLFA+AEugU9BqUGBwduB7UHsAdjB+sGaQbgBUgFjgS0A8oC6gEWAVEAmf/w/l3+5f2D/Tz9EP0Q/TH9Yv2Y/dr9LP6k/iz/r/8VAG0AvgAgAYgB1AHwAeUBzwHEAbkBmAFHAdQAYgAAAK//Uv/q/nL+C/65/Yj9Z/1X/Uz9Uv1n/ZP95f1M/sT+N/+T//v/cgALAZ4BEAJSAngCpALgAhEDFgPVAnICCwK5AWcB7wBRAJn/8P5i/ur9bf3v/H38Jvz6++r75Pv1+yb8ffzq/GL9z/08/sT+c/8rALkAEAE2AXgB6gFyAr8CngIsAtQB5QE8AmgCBQI8AZ4AngAWAXgBRwGjABsANgDkAIgBngErAbMAxABXAeoBAAKOAQUB1AAQAVIBRwHUAFEABQAAABAABQDP/4P/Uv9H/1L/Xf9d/03/PP8m/xb/Ef8L/wD/1f6Z/lL+EP7l/bn9ff0r/dT8jfxn/Ff8TPxG/Eb8V/yI/Nr8TP3E/UH+yv5X//v/rgBtARYCqQIsA54DFgSDBNUEAQUBBfAE1QS/BJ8EYwQABJMDMQPqArQCeAIsAtQBiAFcAUwBQQEmAeQAkwBBAAAAyv94//X+N/5n/an8Cvx9+8n66fn5+ED43vfD98P3sven9973jPio+e/6JvxH/YP+BQDJAZkDLAVuBnQHaQhZCSgKoAqgCjgKmgncCAwIBwfABSwEgwLkAHP/Jv7q/Kj7gvqS+QT5zvjT+PT4MPmi+Vb6Ufty/I79mf6T/5gAowGeAm0DAARYBIkEmQSJBE0E5QNNA5MCyQH6ACsAYv+e/tr9Jv2T/Cb85PvE+7n7yfv1+0b8vvxM/eX9ff4W/6//TADkAHgB9QFSApkCygL1AhYDHAMLA+ACpAJoAjEC+wG0AWIBCwHEAIgAXAArAPb/v/+T/3j/Yv9S/zf/HP8G//X+5f7a/sr+uf6u/p7+k/6T/pP+mf6k/qn+uf7P/ur+Ef83/13/fv+e/8r/9v8gAEEAXABtAH0AkwCjAK4AqQCeAJMAjQCIAIgAfQBtAGIAYgBtAH0AiACTAKMAuQDUAPUAEAErAUEBUgFiAWcBbQFnAVcBPAEWAeoAuQB9AEEA+/+0/2L/Fv/V/pP+V/4h/vD9yf20/a79tP2//c/98P0h/l3+nv7g/iH/aP+0/wAARgCCALkA6gAbATwBVwFiAWcBYgFcAUwBNgEWAfUAzwCuAI0AZwBBABsAAADl/9X/v/+v/6T/nv+e/57/pP+p/7T/v//K/8//2v/l//D/9v8AAAUABQAFAAUAAAAAAAAA+//w/+X/2v/a/+D/4P/V/8X/uv+6/8r/1f/P/7//tP+//9r/9v/2/+v/4P/w/xUANgBBADYANgBGAG0AkwCeAJgAkwCeALkAzwDUAL4AqQCeAKMAngCNAGcAQQAbAAUA6//K/57/c/9H/yz/Fv8A/+X+yv65/q7+tP65/r/+xP7P/uX+AP8c/zf/Uv9t/4n/pP/F/+D/9v8FABUAJgA2AEEATABRAFEAVwBcAFwAXABiAGcAbQByAH0AiACTAKMAuQDPAOQA+gAQASsBTAFnAYMBmAGuAcQB2gHqAfUB+wH7AfUB6gHfAcQBngFyAUEBBQHEAHcAGwC6/1L/6v54/gX+jv0W/aP8NvzU+337K/vv+r76rfqt+r766for+4L77/t3/BD9tP1i/iH/4P+pAGcBIQLPAnMDBgSDBOsENwVoBYQFfgVjBSwF5QSDBBEEkwMGA3IC2gFHAbMAKwCp/zH/yv5y/jH+AP7f/c/91P3l/QX+N/5t/qn+6v4x/3P/uv/2/ysAVwB9AJgAqQCuAKkAkwB9AFcAMQAAAM//nv9o/zf/AP/V/q7+jv5y/mL+Uv5M/lL+Yv5y/oj+qf7K/vD+HP9N/3j/pP/V/wAAKwBXAIIAowDEAN8A+gAQASYBMQE2ATwBPAE2ATEBIAEQAQAB6gDPALMAkwByAFcANgAbAPv/2v/F/6//nv+O/4P/eP94/3j/g/+O/5n/qf/F/9r/9v8QACsAQQBcAHcAjQCeAKkAswC5ALkAuQCuAKMAjQB9AGcAUQAxABUA9v/a/8X/qf+O/3j/Yv9S/0f/PP83/yz/LP8s/zH/N/83/zz/Qv9N/1L/V/9d/2L/aP9t/23/c/9z/3j/fv+D/4n/jv+Z/6T/tP/F/9X/6/8AABsANgBXAHcAmACzANQA9QAWATEBRwFcAW0BfQGIAYgBiAGDAXgBZwFSATwBGwH6ANQArgCCAFcAKwAAANX/qf+D/13/PP8W//v+4P7K/rn+qf6e/pP+k/6T/pn+nv6p/rT+xP7V/ur+AP8W/yz/Qv9d/3j/k/+p/8X/2v/2/woAJgA2AEwAXABtAH0AiACTAJ4AowCpAK4AswCzALMAswC5ALkAvgDEAMQAzwDUAN8A7wD6AAUBFgEgATEBQQFHAUwBTAFMAUcBNgEgAQAB2gCpAHIANgDw/6T/Tf/1/qT+TP71/Zj9R/0A/cT8k/xn/Ez8QfxG/GL8jfzJ/BD9Z/3P/UH+xP5H/8//VwDkAG0B8AFoAtUCMQN+A78D8AMLBBEEAATgA68DcwMmA8oCYgL7AYgBFgGjADYAyv9o/wv/v/54/kH+Fv71/er95f3w/QX+If5H/nj+qf7l/hz/Uv+O/8X/9v8gAEYAZwB9AI0AmACeAJgAiAB3AGIARgAmAAUA4P+6/5n/eP9X/zf/If8L//v+8P7q/ur+8P77/gb/HP83/1L/c/+Z/7//5f8KADEAVwB9AJ4AvgDfAPUACwEbASYBMQExATEBKwEgARABAAHqAM8AswCYAHcAXAA7ABsAAADl/8r/tP+e/4n/fv9t/2j/Xf9d/13/Xf9i/23/c/9+/47/mf+p/7T/xf/V/+D/8P/7/wUAEAAbACYAKwAxADYAOwA7AEEAQQBBADsAOwA2ADYAMQArACYAGwAVAAoABQD7//D/5f/a/8//yv+//7T/qf+k/57/mf+T/47/jv+O/47/k/+Z/6T/qf+6/8X/1f/l//b/BQAbACsAQQBRAGIAcgCCAJMAngCpAK4AswC5ALkAuQCzAK4AowCTAIIAcgBcAEYAMQAVAPv/4P/F/6n/if9t/1L/PP8m/xH/AP/w/uX+4P7g/uD+6v71/gv/If88/2L/if+0/+D/EABGAHcArgDfABYBRwFyAZgBuQHUAeUB6gHqAeUBzwG0AYgBVwEbAdoAkwBBAOv/k/88/+D+iP4x/uX9nv1c/Sv9AP3k/NT81Pzk/AD9K/1i/an9+/1S/rT+If+O/wAAbQDfAEwBrgELAl0CqQLgAhEDLAM8A0IDMQMWA/ACuQJ4AjEC3wGOATEB2gB9ACYAz/9+/zf/9f6//pP+cv5d/kz+TP5X/mj+g/6k/s/++/4s/2L/k//K//v/KwBXAH0AowC+AM8A3wDkAOQA3wDPAL4AowCCAGIAOwAVAOv/xf+Z/23/R/8h/wD/4P7E/q7+mf6O/oP+g/6D/oj+mf6p/rn+1f7w/hH/Mf9S/3j/nv/F//D/FQA7AFwAggCjAMQA3wD6ABABJgE2AUcBUgFcAWIBZwFnAWcBYgFcAVcBTAFBATYBJgEWAQUB7wDaAMQAqQCIAG0ARgAmAAAA2v+v/4P/V/8s/wb/2v60/o7+aP5M/jH+If4Q/gv+C/4Q/iH+N/5S/nj+nv7P/gb/Qv9+/7r/+/87AHcAswDqABsBRwFtAY4BowGuAbQBtAGpAZMBfQFcATYBCwHaAK4AfQBMABsA6//F/57/fv9d/0f/PP8x/yz/Mf88/0f/Xf9z/47/qf/K/+v/CgArAEwAZwCCAJgAqQC5AMQAyQDJAMQAvgCuAJ4AjQByAFcAOwAbAAAA4P+6/5n/eP9d/zz/Jv8L//X+5f7V/sr+xP7E/sT+yv7V/uX+9f4L/yb/Qv9d/37/nv+//+D/BQAmAEYAYgCCAJ4AswDJANoA5ADvAPUA+gD6APUA7wDkANoAyQC5AKkAkwB9AG0AVwBBADEAGwAKAPv/6//a/8//v/+0/6n/mf+T/4n/fv9z/23/aP9d/1f/Uv9N/03/R/9H/0f/Tf9S/1f/Yv9t/37/jv+e/7T/yv/l//v/FQAxAEwAbQCIAKMAuQDUAOoA+gALARsBJgExATYBPAE8ATYBMQErASABEAEAAe8A3wDJAK4AmAB9AGIARgAmAAoA6//K/6n/g/9i/0L/If8A/+D+v/6k/oj+bf5d/kf+PP4x/iz+Mf43/kH+Uv5o/n3+nv7E/ur+Fv9C/3P/nv/P/wAAMQBiAI0AswDaAPoAFgErATwBTAFSAVcBUgFMAUEBMQEgARAB+gDkAM8AswCeAI0AdwBnAFcATABBADYAMQArACsAKwArADEAMQA2ADYAOwA7ADsAOwA2ADYAMQAmACAAFQAFAPv/6//a/8r/uv+p/5n/if94/2j/Xf9N/0f/PP83/zH/Mf8s/zH/Mf83/0L/R/9S/13/bf94/4n/mf+k/7T/xf/V/+D/8P/7/wUAEAAbACYAKwAxADYAOwA7ADsAOwA7ADsAOwA2ADYAMQArACsAJgAmACAAIAAgACAAIAAmACYAKwArADEANgA7AEYATABRAFcAYgBnAG0AcgByAHcAfQB9AH0AfQB3AHcAcgBtAGcAXABRAEYAOwAxACYAFQAFAPv/6//a/8r/uv+p/5n/if94/23/Xf9S/0f/PP8x/yz/If8c/xz/HP8c/xz/If8m/zH/N/9H/1L/Yv9z/4P/mf+v/8X/2v/w/woAIAA2AEwAYgB3AI0AngCuAL4AyQDUAN8A5ADqAO8A7wDqAOoA5ADaAM8AxAC5AKkAmACIAHcAYgBRADsAJgAVAAAA8P/g/8r/uv+v/57/k/+D/3j/c/9o/2L/Xf9d/1f/V/9X/1f/Xf9d/2L/aP9t/3P/fv+D/4n/k/+Z/6T/r/+0/7//yv/V/9r/5f/w//v/AAAKABUAIAArADYAOwBGAFEAXABnAHIAdwCCAI0AkwCYAKMAowCpAK4ArgCuAK4AqQCjAJ4AmACNAIIAcgBnAFcARgA2ACAAEAD7/+X/z/+6/6n/k/9+/23/Xf9N/zz/Mf8h/xz/Ef8L/wv/Bv8G/wv/Ef8c/yH/Mf88/03/Xf9z/4n/nv+0/8//6/8AABsANgBMAGcAfQCTAKkAvgDPAN8A6gD6AAABBQELAQsBCwEFAQAB+gDvAN8A1ADEAK4AngCIAHIAXABGADEAGwAFAPD/2v/F/7T/nv+O/37/bf9d/03/Qv83/yz/If8c/xb/Ef8L/wv/Bv8G/wv/C/8R/xb/If8s/zf/Qv9S/2L/eP+J/57/tP/K/+X/+/8VADEARgBiAHcAjQCjALkAyQDaAOoA9QAAAQUBCwELAQsBCwEFAfoA9QDqANoAyQC+AKkAmACIAHIAXABMADYAJgAQAAAA6//a/8r/uv+v/57/k/+D/3j/bf9i/13/Uv9N/0f/Qv88/zz/N/83/zf/N/88/0L/R/9N/1L/Xf9o/3P/fv+J/5n/qf+6/8r/2v/w/wAAEAAgADYARgBXAGcAcgCCAI0AmACjAKkArgCzALMAswCzALMArgCpAKMAmACTAIgAfQByAGIAVwBMADsAMQAmABUACgAAAPb/6//g/9X/yv+//7r/r/+p/6T/nv+Z/5P/jv+J/4n/g/+D/4P/g/+D/4P/g/+J/4n/jv+T/5n/nv+p/6//uv+//8r/1f/g/+v/9v8AAAoAFQAgACsANgA7AEYATABRAFcAXABiAGIAZwBnAGcAZwBiAGIAXABXAFcAUQBMAEEAOwA2ADEAKwAmACAAFQAQAAoABQAAAPv/9v/w/+v/5f/g/+D/2v/V/8//z//K/8X/xf+//7r/uv+6/7T/tP+0/7T/tP+0/7r/uv+//7//xf/K/8//1f/a/+D/5f/r//D/+/8AAAUACgAQABUAGwAgACAAJgArACsAKwAxADEAMQAxADEAKwArACsAKwAmACYAIAAgABsAGwAbABUAFQAQABAACgAKAAoABQAFAAAAAAAAAPv/+//2//b/9v/w//D/6//r/+v/5f/l/+X/4P/g/+D/4P/g/9r/2v/a/9r/4P/g/+D/4P/g/+D/5f/l/+X/6//r/+v/8P/w//b/9v/2//v/+//7/wAAAAAAAAUABQAKAAoACgAQABAAEAAVABUAFQAbABsAGwAgACAAIAAgACAAIAAgACAAIAAgACAAGwAbABsAFQAVABAAEAAKAAoABQAAAAAA+//2//b/8P/r/+v/5f/l/+D/4P/a/9r/2v/V/9X/1f/V/9X/1f/V/9X/1f/V/9r/2v/a/+D/4P/l/+X/6//r//D/8P/2//b/+/8AAAAABQAFAAoAEAAQABUAFQAbABsAGwAgACAAIAAgACAAIAAgACAAIAAgACAAIAAbABsAGwAVABUAEAAQABAACgAKAAUABQAAAAAA+//7//b/9v/w//D/6//r/+v/5f/l/+X/5f/g/+D/4P/g/+D/4P/g/+D/4P/g/+D/5f/l/+X/5f/r/+v/6//w//D/8P/2//b/+//7/wAAAAAFAAUABQAKAAoACgAQABAAEAAVABUAFQAVABUAFQAVABUAFQAVABUAFQAVABUAEAAQABAAEAAKAAoACgAFAAUAAAAAAAAA+//7//v/9v/2//b/8P/w//D/8P/r/+v/6//r/+v/6//r/+v/6//r/+v/6//r/+v/6//r//D/8P/w//D/9v/2//b/9v/7//v/+/8AAAAAAAAAAAUABQAFAAUABQAKAAoACgAKAAoACgAKAAoACgAKAAoACgAKAAoACgAKAAoACgAFAAUABQAFAAUABQAAAAAAAAAAAAAA+//7//v/+//7//b/9v/2//b/9v/2//b/9v/2//b/9v/2//b/9v/2//b/9v/2//b/9v/2//b/9v/2//b/+//7//v/+//7//v/+/8AAAAAAAAAAAAAAAAAAAAAAAAAAAUABQAFAAUABQAFAAUABQAFAAUABQAFAAUABQAFAAAAAAAAAAAAAAAAAAAAAAAAAAAAAAAAAAAA+//7//v/+//7//v/+//7//v/+//7//v/+//7//v/+//7//v/+//7//v/+//7//v/+//7//v/+//7//v/+//7//v/+//7//v/+//7/wAAAAAAAAAAAAAAAAAAAAAAAAAAAAAAAAAAAAAAAAAAAAAAAAAAAAAAAAAAAAAAAAAAAAAAAAAAAAAAAAAAAAAAAAAAAAAAAAAA+//7//v/+//7//v/+//7//v/+//7//v/+//7//v/+//7//v/+//7//v/+//7//v/+//7//v/+//7//v/+//7//v/+//7//v/+//7/wAAAAAAAAAAAAAAAAAAAAAAAAAAAAAAAAAAAAAAAAAAAAAAAAAAAAAAAAAAAAAAAAAAAAAAAAAAAAAAAAAAAAAAAAAAAAAAAAAAAAAAAAAAAAAAAPv/+//7//v/+//7//v/+//7//v/+//7//v/+//7//v/+//7//v/+//7//v/+//7//v/+//7//v/+//7//v/+//7//v/+//7//v/+/8AAAAAAAAAAAAAAAAAAAAAAAAAAAAAAAAAAAAAAAAAAAAAAAAAAAAAAAAAAAAAAAAAAAAAAAAAAAAAAAAAAAAAAAAAAAAAAAAAAAAAAAAAAAAAAAD7//v/+//7//v/+//7//v/+//7//v/+//7//v/+//7//v/+//7//v/+//7//v/+//7//v/+//7//v/+//7//v/+//7//v/+//7//v/+//7//v/+/8AAAAAAAAAAAAAAAAAAAAAAAAAAAAAAAAAAAAAAAAAAAAAAAAAAAAAAAAAAAAAAAAAAAAAAAAAAAAAAAAAAAAAAAAAAAAAAAAAAAAAAAAAAAAA+//7//v/+//7//v/+//7//v/+//7//v/+//7//v/+//7//v/+//7//v/+//7//v/+//7//v/+//7//v/+//7//v/+//7//v/+//7//v/AAAAAAAAAAAAAAAAAAAAAAAAAAAAAAAAAAAAAAAAAAAAAAAAAAAAAAAAAAAAAAAAAAAAAAAAAAAAAAAAAAAAAAAAAAAAAAAAAAAAAAAAAAAAAAAAAAAAAPv/+//7//v/+//7//v/+//7//v/+//7//v/+//7//v/+//7//v/+//7//v/+/8AAAAAAAAAAAAAAAAAAAAAAAAAAAAAAAAAAAAAAAAAAAAAAAAAAAAAAAAAAAAAAAAAAAAAAAAAAAAAAAAAAAAAAAAAAAAAAAAAAAAAAAAAAAAAAAAAAAAAAAAAAAAAAAAAAAAAAAAAAAAAAAAAAAAAAAAAAAAAAAAAAAAAAAAAAAAAAAAAAAAAAAAAAAAAAAAAAAAAAAAAAAAAAAAAAAAAAAAAAAAAAAAAAAAAAAAAAAAAAAAAAAAAAAAAAAAAAAAAAAAAAAAAAAAAAAAAAAAAAAAAAAAAAAAAAAAAAAAAAAAAAAAAAAAAAAAAAAAAAAAAAAAAAAAAAAAAAAAAAAAAAAAAAAAAAAAAAAAAAAAAAAAAAAAAAAAAAAAAAAAAAAAAAAAAAAAAAAAAAAAAAAAAAAAAAAAAAAAAAAAAAAAAAAAAAAAAAAAAAAAAAAAAAAAAAAAAAAAAAAAAAAAAAAAAAAAAAAAAAAAAAAAAAAAAAAAAAAAAAAAAAAAAAAAAAAAAAAAAAAAAAAAAAAAAAAAAAAAAAAAAAAAAAAAAAAAAAAAAAAAAAAAAAAAAAAAAAAAAAAAAAAAAAAAAAAAAAAAAAAAAAAAAAAAAAAAAAAAAAAAAAAAAAAAAAAAAAAAAAAAAAAAAAAAAAAAAAAAAAAAAAAAAAAAAAAAAAAAAAAAAAAAAAAAAAAAAAAAAAAAAAAAAAAAAAAAAAAAAAAAAAAAAAAAAAAAAAAAAAAAAAAAAAAAAAAAAAAAAAAAAAAAAAAAAAAAAAAAAAAAAAAAAAAAAAAAAAAAAAAAAAAAAAAAAAAAAAAAAAAAAAAAAAAAAAAAAAAAAAAAAAAAAAAAAAAAAAAAAAAAAAAAAAAAAAAAAAAAAAAAAAAAAAAAAAAAAAAAAAAAAAAAAAAAAAAAAAAAAAAAAAAAAAAAAAAAAAAAAAAAAAAAAAAAAAAAAAAAAAAAAAAAAAAAAAAAAAAAAAAAAAAAAAAAAAAAAAAAAAAAAAAAAAAAAAAAAAAAAAAAAAAAAAAAAAAAAAAAAAAAAAAAAAAAAAAAAAAAAAAAAAAAAAAAAAAAAAAAAAAAAAAAAAAAAAAAAAAAAAAAAAAAAAAAAAAAAAAAAAAAAAAAAAAAAAAAAAAAAAAAAAAAAAAAAAAAAAAAAAAAAAAAAAAAAAAAAAAAAAAAAAAAAAAAAAAAAAAAAAAAAAAAAAAAAAAAAAAAAAAAAAAAAAAAAAAAAAAAAAAAAAAAAAAAAAAAAAAAAAAAAAAAAAAAAAAAAAAAAAAAAAAAAAAAAAAAAAAAAAAAAAAAAAAAAAAAAAAAAAAAAAAAAAAAAAAAAAAAAAAAAAAAAAAAAAAAAAAAAAAAAAAAAAAAAAAAAAAAAAAAAAAAAAAAAAAAAAAAAAAAAAAAAAAAAAAAAAAAAAAAAAAAAAAAAAAAAAAAAAAAAAAAAAAAAAAAAAAAAAAAAAAAAAAAAAAAAAAAAAAAAAAAAAAAAAAAAAAAAAAAAAAAAAAAAAAAAAAAAAAAAAAAAAAAAAAAAAAAAAAAAAAAAAAAAAAAAAAAAAAAAAAAAAAAAAAAAAAAAAAAAAAAAAAAAAAAAAAAAAAAAAAAAAAAAAAAAAAAAAAAAAAAAAAAAAAAAAAAAAAAAAAAAAAAAAAAAAAAAAAAAAAAAAAAAAAAAAAAAAAAAAAAAAAAAAAAAAAAAAAAAAAAAAAAAAAAAAAAAAAAAAAAAAAAAAAAAAAAAAAAAAAAAAAAAAAAAAAAAAAAAAAAAAAAAAAAAAAAAAAAAAAAAAAAAAAAAAAAAAAAAAAAAAAAAAAAAAAAAAAAAAAAAAAAAAAAAAAAAAAAAAAAAAAAAAAAAAAAAAAAAAAAAAAAAAAAAAAAAAAAAAAAAAAAAAAAAAAAAAAAAAAAAAAAAAAAAAAAAAAAAAAAAAAAAAAAAAAAAAAAAAAAAAAAAAAAAAAAAAAAAAAAAAAAAAAAAAAAAAAAAAAAAAAAAAAAAAAAAAAAAAAAAAAAAAAAAAAAAAAAAAAAAAAAAAAAAAAAAAAAAAAAAAAAAAAAAAAAAAAAAAAAAAAAAAAAAAAAAAAAAAAAAAAAAAAAAAAAAAAAAAAAAAAAAAAAAAAAAAAAAAAAAAAAAAAAAAAAAAAAAAAAAAAAAAAAAAAAAAAAAAAAAAAAAAAAAAAAAAAAAAAAAAAAAAAAAAAAAAAAAAAAAAAAAAAAAAAAAAAAAAAAAAAAAAAAAAAAAAAAAAAAAAAAAAAAAAAAAAAAAAAAAAAAAAAAAAAAAAAAAAAAAAAAAAAAAAAAAAAAAAAAAAAAAAAAAAAAAAAAAAAAAAAAAAAAAAAAAAAAAAAAAAAAAAAAAAAAAAAAAAAAAAAAAAAAAAAAAAAAAAAAAAAAAAAAAAAAAAAAAAAAAAAAAAAAAAAAAAAAAAAAAAAAAAAAAAAAAAAAAAAAAAAAAAAAAAAAAAAAAAAAAAAAAAAAAAAAAAAAAAAAAAAAAAAAAAAAAAAAAAAAAAAAAAAAAAAAAAAAAAAAAAAAAAAAAAAAAAAAAAAAAAAAAAAAAAAAAAAAAAAAAAAAAAAAAAAAAAAAAAAAAAAAAAAAAAAAAAAAAAAAAAAAAAAAAAAAAAAAAAAAAAAAAAAAAAAAAAAAAAAAAAAAAAAAAAAAAAAAAAAAAAAAAAAAAAAAAAAAAAAAAAAAAAAAAAAAAAAAAAAAAAAAAAAAAAAAAAAAAAAAAAAAAAAAAAAAAAAAAAAAAAAAAAAAAAAAAAAAAAAAAAAAAAAAAAAAAAAAAAAAAAAAAAAAAAAAAAAAAAAAAAAAAAAAAAAAAAAAAAAAAAAAAAAAAAAAAAAAAAAAAAAAAAAAAAAAAAAAAAAAAAAAAAAAAAAAAAAAAAAAAAAAAAAAAAAAAAAAAAAAAAAAAAAAAAAAAAAAAAAAAAAAAAAAAAAAAAAAAAAAAAAAAAAAAAAAAAAAAAAAAAAAAAAAAAAAAAAAAAAAAAAAAAAAAAAAAAAAAAAAAAAAAAAAAAAAAAAAAAAAAAAAAAAAAAAAAAAAAAAAAAAAAAAAAAAAAAAAAAAAAAAAAAAAAAAAAAAAAAAAAAAAAAAAAAAAAAAAAAAAAAAAAAAAAAAAAAAAAAAAAAAAAAAAAAAAAAAAAAAAAAAAAAAAAAAAAAAAAAAAAAAAAAAAAAAAAAAAAAAAAAAAAAAAAAAAAAAAAAAAAAAAAAAAAAAAAAAAAAAAAAAAAAAAAAAAAAAAAAAAAAAAAAAAAAAAAAAAAAAAAAAAAAAAAAAAAAAAAAAAAAAAAAAAAAAAAAAAAAAAAAAAAAAAAAAAAAAAAAAAAAAAAAAAAAAAAAAAAAAAAAAAAAAAAAAAAAAAAAAAAAAAAAAAAAAAAAAAAAAAAAAAAAAAAAAAAAAAAAAAAAAAAAAAAAAAAAAAAAAAAAAAAAAAAAAAAAAAAAAAAAAAAAAAAAAAAAAAAAAAAAAAAAAAAAAAAAAAAAAAAAAAAAAAAAAAAAAAAAAAAAAAAAAAAAAAAAAAAAAAAAAAAAAAAAAAAAAAAAAAAAAAAAAAAAAAAAAAAAAAAAAAAAAAAAAAAAAAAAAAAAAAAAAAAAAAAAAAAAAAAAAAAAAAAAAAAAAAAAAAAAAAAAAAAAAAAAAAAAAAAAAAAAAAAAAAAAAAAAAAAAAAAAAAAAAAAAAAAAAAAAAAAAAAAAAAAAAAAAAAAAAAAAAAAAAAAAAAAAAAAAAAAAAAAAAAAAAAAAAAAAAAAAAAAAAAAAAAAAAAAAAAAAAAAAAAAAAAAAAAAAAAAAAAAAAAAAAAAAAAAAAAAAAAAAAAAAAAAAAAAAAAAAAAAAAAAAAAAAAAAAAAAAAAAAAAAAAAAAAAAAAAAAAAAAAAAAAAAAAAAAAAAAAAAAAAAAAAAAAAAAAAAAAAAAAAAAAAAAAAAAAAAAAAAAAAAAAAAAAAAAAAAAAAAAAAAAAAAAAAAAAAAAAAAAAAAAAAAAAAAAAAAAAAAAAAAAAAAAAAAAAAAAAAAAAAAAAAAAAAAAAAAAAAAAAAAAAAAAAAAAAAAAAAAAAAAAAAAAAAAAAAAAAAAAAAAAAAAAAAAAAAAAAAAAAAAAAAAAAAAAAAAAAAAAAAAAAAAAAAAAAAAAAAAAAAAAAAAAAAAAAAAAAAAAAAAAAAAAAAAAAAAAAAAAAAAAAAAAAAAAAAAAAAAAAAAAAAAAAAAAAAAAAAAAAAAAAAAAAAAAAAAAAAAAAAAAAAAAAAAAAAAAAAAAAAAAAAAAAAAAAAAAAAAAAAAAAAAAAAAAAAAAAAAAAAAAAAAAAAAAAAAAAAAAAAAAAAAAAAAAAAAAAAAAAAAAAAAAAAAAAAAAAAAAAAAAAAAAAAAAAAAAAAAAAAAAAAAAAAAAAAAAAAAAAAAAAAAAAAAAAAAAAAAAAAAAAAAAAAAAAAAAAAAAAAAAAAAAAAAAAAAAAAAAAAAAAAAAAAAAAAAAAAAAAAAAAAAAAAAAAAAAAAAAAAAAAAAAAAAAAAAAAAAAAAAAAAAAAAAAAAAAAAAAAAAAAAAAAAAAAAAAAAAAAAAAAAAAAAAAAAAAAAAAAAAAAAAAAAAAAAAAAAAAAAAAAAAAAAAAAAAAAAAAAAAAAAAAAAAAAAAAAAAAAAAAAAAAAAAAAAAAAAAAAAAAAAAAAAAAAAAAAAAAAAAAAAAAAAAAAAAAAAAAAAAAAAAAAAAAAAAAAAAAAAAAAAAAAAAAAAAAAAAAAAAAAAAAAAAAAAAAAAAAAAAAAAAAAAAAAAAAAAAAAAAAAAAAAAAAAAAAAAAAAAAAAAAAAAAAAAAAAAAAAAAAAAAAAAAAAAAAAAAAAAAAAAAAAAAAAAAAAAAAAAAAAAAAAAAAAAAAAAAAAAAAAAAAAAAAAAAAAAAAAAAAAAAAAAAAAAAAAAAAAAAAAAAAAAAAAAAAAAAAAAAAAAAAAAAAAAAAAAAAAAAAAAAAAAAAAAAAAAAAAAAAAAAAAAAAAAAAAAAAAAAAAAAAAAAAAAAAAAAAAAAAAAAAAAAAAAAAAAAAAAAAAAAAAAAAAAAAAAAAAAAAAAAAAAAAAAAAAAAAAAAAAAAAAAAAAAAAAAAAAAAAAAAAAAAAAAAAAAAAAAAAAAAAAAAAAAAAAAAAAAAAAAAAAAAAAAAAAAAAAAAAAAAAAAAAAAAAAAAAAAAAAAAAAAAAAAAAAAAAAAAAAAAAAAAAAAAAAAAAAAAAAAAAAAAAAAAAAAAAAAAAAAAAAAAAAAAAAAAAAAAAAAAAAAAAAAAAAAAAAAAAAAAAAAAAAAAAAAAAAAAAAAAAAAAAAAAAAAAAAAAAAAAAAAAAAAAAAAAAAAAAAAAAAAAAAAAAAAAAAAAAAAAAAAAAAAAAAAAAAAAAAAAAAAAAAAAAAAAAAAAAAAAAAAAAAAAAAAAAAAAAAAAAAAAAAAAAAAAAAAAAAAAAAAAAAAAAAAAAAAAAAAAAAAAAAAAAAAAAAAAAAAAAAAAAAAAAAAAAAAAAAAAAAAAAAAAAAAAAAAAAAAAAAAAAAAAAAAAAAAAAAAAAAAAAAAAAAAAAAAAAAAAAAAAAAAAAAAAAAAAAAAAAAAAAAAAAAAAAAAAAAAAAAAAAAAAAAAAAAAAAAAAAAAAAAAAAAAAAAAAAAAAAAAAAAAAAAAAAAAAAAAAAAAAAAAAAAAAAAAAAAAAAAAAAAAAAAAAAAAAAAAAAAAAAAAAAAAAAAAAAAAAAAAAAAAAAAAAAAAAAAAAAAAAAAAAAAAAAAAAAAAAAAAAAAAAAAAAAAAAAAAAAAAAAAAAAAAAAAAAAAAAAAAAAAAAAAAAAAAAAAAAAAAAAAAAAAAAAAAAAAAAAAAAAAAAAAAAAAAAAAAAAAAAAAAAAAAAAAAAAAAAAAAAAAAAAAAAAAAAAAAAAAAAAAAAAAAAAAAAAAAAAAAAAAAAAAAAAAAAAAAAAAAAAAAAAAAAAAAAAAAAAAAAAAAAAAAAAAAAAAAAAAAAAAAAAAAAAAAAAAAAAAAAAAAAAAAAAAAAAAAAAAAAAAAAAAAAAAAAAAAAAAAAAAAAAAAAAAAAAAAAAAAAAAAAAAAAAAAAAAAAAAAAAAAAAAAAAAAAAAAAAAAAAAAAAAAAAAAAAAAAAAAAAAAAAAAAAAAAAAAAAAAAAAAAAAAAAAAAAAAAAAAAAAAAAAAAAAAAAAAAAAAAAAAAAAAAAAAAAAAAAAAAAAAAAAAAAAAAAAAAAAAAAAAAAAAAAAAAAAAAAAAAAAAAAAAAAAAAAAAAAAAAAAAAAAAAAAAAAAAAAAAAAAAAAAAAAAAAAAAAAAAAAAAAAAAAAAAAAAAAAAAAAAAAAAAAAAAAAAAAAAAAAAAAAAAAAAAAAAAAAAAAAAAAAAAAAAAAAAAAAAAAAAAAAAAAAAAAAAAAAAAAAAAAAAAAAAAAAAAAAAAAAAAAAAAAAAAAAAAAAAAAAAAAAAAAAAAAAAAAAAAAAAAAAAAAAAAAAAAAAAAAAAAAAAAAAAAAAAAAAAAAAAAAAAAAAAAAAAAAAAAAAAAAAAAAAAAAAAAAAAAAAAAAAAAAAAAAAAAAAAAAAAAAAAAAAAAAAAAAAAAAAAAAAAAAAAAAAAAAAAAAAAAAAAAAAAAAAAAAAAAAAAAAAAAAAAAAAAAAAAAAAAAAAAAAAAAAAAAAAAAAAAAAAAAAAAAAAAAAAAAAAAAAAAAAAAAAAAAAAAAAAAAAAAAAAAAAAAAAAAAAAAAAAAAAAAAAAAAAAAAAAAAAAAAAAAAAAAAAAAAAAAAAAAAAAAAAAAAAAAAAAAAAAAAAAAAAAAAAAAAAAAAAAAAAAAAAAAAAAAAAAAAAAAAAAAAAAAAAAAAAAAAAAAAAAAAAAAAAAAAAAAAAAAAAAAAAAAAAAAAAAAAAAAAAAAAAAAAAAAAAAAAAAAAAAAAAAAAAAAAAAAAAAAAAAAAAAAAAAAAAAAAAAAAAAAAAAAAAAAAAAAAAAAAA\" type=\"audio/wav\" />\n",
              "                    Your browser does not support the audio element.\n",
              "                </audio>\n",
              "              "
            ]
          },
          "metadata": {},
          "execution_count": 16
        }
      ]
    },
    {
      "cell_type": "markdown",
      "source": [
        "### **Step 2: Feature Extraction**\n",
        "To visualize the audio properties, we compute the Spectrogram and MFCC (Mel-frequency cepstral coefficients), two common feature representations used in ASR systems.\n"
      ],
      "metadata": {
        "id": "oG7jF3jrhmJi"
      }
    },
    {
      "cell_type": "code",
      "source": [
        "D = librosa.amplitude_to_db(np.abs(librosa.stft(y_denoised)), ref=np.max)\n",
        "plt.figure(figsize=(10, 4))\n",
        "librosa.display.specshow(D, sr=sr, x_axis='time', y_axis='log')\n",
        "plt.title('Spectrogram after removing noise')\n",
        "plt.colorbar(format='%+2.0f dB')\n",
        "plt.tight_layout()\n",
        "plt.show()"
      ],
      "metadata": {
        "colab": {
          "base_uri": "https://localhost:8080/",
          "height": 407
        },
        "id": "5zwuAwOddtRF",
        "outputId": "2fba3a00-0a65-4f5d-bf56-57b2adc75696"
      },
      "execution_count": null,
      "outputs": [
        {
          "output_type": "display_data",
          "data": {
            "text/plain": [
              "<Figure size 1000x400 with 2 Axes>"
            ],
            "image/png": "[encoded data removed]"
          },
          "metadata": {}
        }
      ]
    },
    {
      "cell_type": "code",
      "source": [
        "mfccs = librosa.feature.mfcc(y=y_denoised, sr=sr, n_mfcc=13)\n",
        "plt.figure(figsize=(10, 4))\n",
        "librosa.display.specshow(mfccs, x_axis='time')\n",
        "plt.colorbar()\n",
        "plt.title('MFCC after removing noise')\n",
        "plt.tight_layout()\n",
        "plt.show()\n"
      ],
      "metadata": {
        "colab": {
          "base_uri": "https://localhost:8080/",
          "height": 407
        },
        "id": "DY9Fdj5QeT8Y",
        "outputId": "819347de-2388-44ea-addd-bcc295f8a6e9"
      },
      "execution_count": null,
      "outputs": [
        {
          "output_type": "display_data",
          "data": {
            "text/plain": [
              "<Figure size 1000x400 with 2 Axes>"
            ],
            "image/png": "[encoded data removed]"
          },
          "metadata": {}
        }
      ]
    },
    {
      "cell_type": "markdown",
      "source": [
        "### **Step 3: ASR with Whisper (OpenAI)**\n",
        "We transcribe both the original and denoised audio files using Whisper to evaluate how noise affects transcription quality.\n"
      ],
      "metadata": {
        "id": "XhCrwfolhv6y"
      }
    },
    {
      "cell_type": "code",
      "source": [
        "import whisper\n",
        "\n",
        "model = whisper.load_model(\"base\")\n",
        "\n",
        "result_raw = model.transcribe(\"/content/audio/4507-16021-0012.wav\")\n",
        "print(\"🎧 Main Output\")\n",
        "print(result_raw[\"text\"])\n",
        "\n",
        "result_clean = model.transcribe(\"denoised.wav\")\n",
        "print(\"\\n🧼 Output after denoising\")\n",
        "print(result_clean[\"text\"])\n"
      ],
      "metadata": {
        "colab": {
          "base_uri": "https://localhost:8080/"
        },
        "id": "eLByg0Iqechv",
        "outputId": "8e1ae627-f7bf-4305-d343-0f682369b18b"
      },
      "execution_count": null,
      "outputs": [
        {
          "output_type": "stream",
          "name": "stderr",
          "text": [
            "100%|███████████████████████████████████████| 139M/139M [00:04<00:00, 32.8MiB/s]\n"
          ]
        },
        {
          "output_type": "stream",
          "name": "stdout",
          "text": [
            "🎧 Main Output\n",
            " Why should one halt on the way?\n",
            "\n",
            "🧼 Output after denoising\n",
            " Wash it one halt on the way.\n"
          ]
        }
      ]
    },
    {
      "cell_type": "markdown",
      "source": [
        "### **Wav2Vec2 (HuggingFace)**\n",
        "We now test the same audio files using Wav2Vec2, a powerful transformer-based ASR model, and compare its performance with Whisper.\n"
      ],
      "metadata": {
        "id": "PltsO1BpiFDR"
      }
    },
    {
      "cell_type": "code",
      "source": [
        "!pip install -q transformers datasets soundfile"
      ],
      "metadata": {
        "id": "0IERKxDTiHno"
      },
      "execution_count": 1,
      "outputs": []
    },
    {
      "cell_type": "code",
      "source": [
        "import torch\n",
        "from transformers import Wav2Vec2ForCTC, Wav2Vec2Processor\n",
        "import soundfile as sf"
      ],
      "metadata": {
        "id": "G3t7YbWZkd7u"
      },
      "execution_count": 2,
      "outputs": []
    },
    {
      "cell_type": "code",
      "source": [
        "def transcribe_with_wav2vec2(path):\n",
        "    speech, rate = sf.read(path)\n",
        "    input_values = processor(speech, return_tensors=\"pt\", sampling_rate=rate).input_values\n",
        "    with torch.no_grad():\n",
        "        logits = model(input_values).logits\n",
        "    predicted_ids = torch.argmax(logits, dim=-1)\n",
        "    transcription = processor.decode(predicted_ids[0])\n",
        "    return transcription"
      ],
      "metadata": {
        "id": "U5E6X8makmnQ"
      },
      "execution_count": 3,
      "outputs": []
    },
    {
      "cell_type": "code",
      "source": [
        "# Load pretrained model and tokenizer\n",
        "processor = Wav2Vec2Processor.from_pretrained(\"facebook/wav2vec2-base-960h\")\n",
        "model = Wav2Vec2ForCTC.from_pretrained(\"facebook/wav2vec2-base-960h\")"
      ],
      "metadata": {
        "colab": {
          "base_uri": "https://localhost:8080/",
          "height": 368,
          "referenced_widgets": [
            "428560df33f1493491cdf759d57ee562",
            "9845d42376fc40518a82b61b169fbfed",
            "d8d7ec8ebd994b758014166dc149522a",
            "f9b163a8519f43499e4b507f2df93757",
            "586d9247c6da489b85ca12d32cc7c9a9",
            "3d35881798014baea8aa8bdbb23b1412",
            "877f2d3dc9c540069bb878f276d9966b",
            "263400a11fa54483acdedc689045307f",
            "41154f18ad064008bc3c963f122e2d14",
            "3c7c03cf28e24f6bb471534c94ffadca",
            "d6d91f821d514854897eaaf9e140c33f",
            "60926a43ffda4a2d9000a6a908ae3414",
            "87fd9552878d4a02831415231215a81b",
            "9fdc6c17c0fb48168762b521d8443cdf",
            "128bb50ba4814dab89a7b09d1872298a",
            "302f453886ee47c2b51dae5ef9f7ff88",
            "216b0d18a9cc47b99a03fbaa3620b78e",
            "6aa161b2cf044f539124cd60acb7b4c3",
            "ffc926671ce14b84a7665ba97333c577",
            "5e84837c49e649578ec258610cbff398",
            "6ac64d6c7d4d4ef7a5180eb9d372e237",
            "368f1ea1dbf64b11aa3de7b1d1277850",
            "41934270ce8a48a1afd362201c717e0c",
            "16f266c61dae4f6d9f9989e72f5a2416",
            "6e8115e5c3a647348ccc5c01a47a06e6",
            "bbb4b7593b5348daaf8a667a2a5ce31c",
            "96396f9e91174b9da3281fa7ed226ff7",
            "adcdc94fce9b43fb907f1e5c966cf96a",
            "f9c312fc40ff4eb6a851a999dd3dc500",
            "731df761d2fc4700a813549c6b2f9052",
            "948f44bdc4f4479ba256acfc9fe72a4b",
            "053daa5456e64d30be98e21de55565df",
            "c3d88d7b17714f3d914660a1d9e908a2",
            "6bf720f97dae413eaf093b48e093b594",
            "76976b6f919d4b2a99e911c309fc8272",
            "76df04c4e06f4534aaf60b4c5565bacd",
            "05a591891a09444fa01d01e9b493718a",
            "b7ec32395c7c40a4a27b3ad6223c7cbb",
            "7dc844718f8540f1a17239f097f64449",
            "40703b62ed5541c0adcb24ed5c95c16e",
            "f42dd517e76141319e76573f28087047",
            "5944805def65400382e13f12aeba95b8",
            "8ca0a4c88479453b842b211fd1cc95c5",
            "3577c37be66d441da8907006ae6fa4f9",
            "09918948f73c4989b099051a6fbc090b",
            "eaf79d1db927464f915eab2bfc64632a",
            "13f6a5d375d14c5ba2e376c93125016e",
            "71edd4b7e2274fa793ecd9fde8d70840",
            "3efb542f133f45c99ff4b040f5d647da",
            "7ba81d8e8e5b453082678576dff53062",
            "83d29e415dbe47c79ad9e18836815ac9",
            "4786459ead8247c485fdc1df6c3ecb65",
            "052648e9639541c2a05e541b20ef64cf",
            "72d65708301e4a67a03b82da8f4a8e06",
            "9dfd649e602145d5b027ff34e65bc030",
            "396345e9dba64a52bc05e76ca59519f9",
            "2de474e66d484c9d8081a6e5087e0481",
            "08523c7faa19468a942e08b41f8b8373",
            "7ba91f1c42c64aa3850ed7acecb3a598",
            "75362d3d41fb4a37b265fdddc12db616",
            "cc949bb269694203a0519bc239670b89",
            "b03501edb0c34dc5a23bb67d23b1f739",
            "77ab02757cff450b895bfd39cf1d0b1c",
            "8be5375c3493439d83f3d7c047f1644c",
            "2bb73f32a1a944d8a67c65f913a5a70e",
            "5348485c733a4788953fa0dad4d298ca"
          ]
        },
        "id": "ib7WQsuAkhhC",
        "outputId": "9cac1cef-9922-4ef0-cef4-fa312ab690d0"
      },
      "execution_count": 4,
      "outputs": [
        {
          "output_type": "stream",
          "name": "stderr",
          "text": [
            "/usr/local/lib/python3.11/dist-packages/huggingface_hub/utils/_auth.py:94: UserWarning: \n",
            "The secret `HF_TOKEN` does not exist in your Colab secrets.\n",
            "To authenticate with the Hugging Face Hub, create a token in your settings tab (https://huggingface.co/settings/tokens), set it as secret in your Google Colab and restart your session.\n",
            "You will be able to reuse this secret in all of your notebooks.\n",
            "Please note that authentication is recommended but still optional to access public models or datasets.\n",
            "  warnings.warn(\n"
          ]
        },
        {
          "output_type": "display_data",
          "data": {
            "text/plain": [
              "preprocessor_config.json:   0%|          | 0.00/159 [00:00<?, ?B/s]"
            ],
            "application/vnd.jupyter.widget-view+json": {
              "version_major": 2,
              "version_minor": 0,
              "model_id": "428560df33f1493491cdf759d57ee562"
            }
          },
          "metadata": {}
        },
        {
          "output_type": "display_data",
          "data": {
            "text/plain": [
              "tokenizer_config.json:   0%|          | 0.00/163 [00:00<?, ?B/s]"
            ],
            "application/vnd.jupyter.widget-view+json": {
              "version_major": 2,
              "version_minor": 0,
              "model_id": "60926a43ffda4a2d9000a6a908ae3414"
            }
          },
          "metadata": {}
        },
        {
          "output_type": "display_data",
          "data": {
            "text/plain": [
              "config.json: 0.00B [00:00, ?B/s]"
            ],
            "application/vnd.jupyter.widget-view+json": {
              "version_major": 2,
              "version_minor": 0,
              "model_id": "41934270ce8a48a1afd362201c717e0c"
            }
          },
          "metadata": {}
        },
        {
          "output_type": "display_data",
          "data": {
            "text/plain": [
              "vocab.json:   0%|          | 0.00/291 [00:00<?, ?B/s]"
            ],
            "application/vnd.jupyter.widget-view+json": {
              "version_major": 2,
              "version_minor": 0,
              "model_id": "6bf720f97dae413eaf093b48e093b594"
            }
          },
          "metadata": {}
        },
        {
          "output_type": "display_data",
          "data": {
            "text/plain": [
              "special_tokens_map.json:   0%|          | 0.00/85.0 [00:00<?, ?B/s]"
            ],
            "application/vnd.jupyter.widget-view+json": {
              "version_major": 2,
              "version_minor": 0,
              "model_id": "09918948f73c4989b099051a6fbc090b"
            }
          },
          "metadata": {}
        },
        {
          "output_type": "display_data",
          "data": {
            "text/plain": [
              "model.safetensors:   0%|          | 0.00/378M [00:00<?, ?B/s]"
            ],
            "application/vnd.jupyter.widget-view+json": {
              "version_major": 2,
              "version_minor": 0,
              "model_id": "396345e9dba64a52bc05e76ca59519f9"
            }
          },
          "metadata": {}
        },
        {
          "output_type": "stream",
          "name": "stderr",
          "text": [
            "Some weights of Wav2Vec2ForCTC were not initialized from the model checkpoint at facebook/wav2vec2-base-960h and are newly initialized: ['wav2vec2.masked_spec_embed']\n",
            "You should probably TRAIN this model on a down-stream task to be able to use it for predictions and inference.\n"
          ]
        }
      ]
    },
    {
      "cell_type": "code",
      "source": [
        "# Transcribe original file\n",
        "raw_text = transcribe_with_wav2vec2(\"/content/audio/4507-16021-0012.wav\")\n",
        "print(\"🔊 Wav2Vec2 on RAW:\", raw_text)\n",
        "\n",
        "# Transcribe denoised file\n",
        "clean_text = transcribe_with_wav2vec2(\"denoised.wav\")\n",
        "print(\"🧼 Wav2Vec2 on CLEANED:\", clean_text)"
      ],
      "metadata": {
        "colab": {
          "base_uri": "https://localhost:8080/"
        },
        "id": "ExOSLVzDkQa6",
        "outputId": "9d151e27-ae4e-4471-9108-d71dfcbae84c"
      },
      "execution_count": 10,
      "outputs": [
        {
          "output_type": "stream",
          "name": "stdout",
          "text": [
            "🔊 Wav2Vec2 on RAW: WHY SHOULD ONE HALT ON THE WAY\n",
            "🧼 Wav2Vec2 on CLEANED: WHY SHOULD ONE HALT ON THE WAY\n"
          ]
        }
      ]
    }
  ]
}