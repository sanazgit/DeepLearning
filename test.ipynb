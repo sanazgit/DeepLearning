{
  "nbformat": 4,
  "nbformat_minor": 0,
  "metadata": {
    "colab": {
      "provenance": [],
      "authorship_tag": "ABX9TyPfxOH4o8gZB4ocAxB0Vbxg",
      "include_colab_link": true
    },
    "kernelspec": {
      "name": "python3",
      "display_name": "Python 3"
    },
    "language_info": {
      "name": "python"
    }
  },
  "cells": [
    {
      "cell_type": "markdown",
      "metadata": {
        "id": "view-in-github",
        "colab_type": "text"
      },
      "source": [
        "<a href=\"https://colab.research.google.com/github/sanazgit/Deep-Iearning-Projects/blob/main/test.ipynb\" target=\"_parent\"><img src=\"https://colab.research.google.com/assets/colab-badge.svg\" alt=\"Open In Colab\"/></a>"
      ]
    },
    {
      "cell_type": "code",
      "execution_count": 25,
      "metadata": {
        "colab": {
          "base_uri": "https://localhost:8080/"
        },
        "id": "QJWeRrCT8I7H",
        "outputId": "d3a87eb6-979f-434e-a254-b55456d303c2"
      },
      "outputs": [
        {
          "output_type": "stream",
          "name": "stdout",
          "text": [
            "git version 2.34.1\n"
          ]
        }
      ],
      "source": [
        "!git version"
      ]
    },
    {
      "cell_type": "code",
      "source": [
        "!git config --global user.email \"sani.enmail@gmail.com\"\n",
        "!git config --global user.name \"sanigit\""
      ],
      "metadata": {
        "id": "gHMrtPgb8QS_"
      },
      "execution_count": 26,
      "outputs": []
    },
    {
      "cell_type": "code",
      "source": [
        "%cd /content/FER/test/"
      ],
      "metadata": {
        "id": "rYSHMtY4-QOy",
        "colab": {
          "base_uri": "https://localhost:8080/"
        },
        "outputId": "eb473451-f213-4bf4-cc91-44f5d5ca631f"
      },
      "execution_count": 27,
      "outputs": [
        {
          "output_type": "stream",
          "name": "stdout",
          "text": [
            "/content/FER/test\n"
          ]
        }
      ]
    },
    {
      "cell_type": "code",
      "source": [
        "print(\"hello world\")"
      ],
      "metadata": {
        "colab": {
          "base_uri": "https://localhost:8080/"
        },
        "id": "SpQ--kJUXfFC",
        "outputId": "d4d2ccca-6d00-4cf6-a3ac-5aee3261081e"
      },
      "execution_count": 28,
      "outputs": [
        {
          "output_type": "stream",
          "name": "stdout",
          "text": [
            "hello world\n"
          ]
        }
      ]
    },
    {
      "cell_type": "code",
      "source": [
        "!git"
      ],
      "metadata": {
        "id": "-xKxPdrRX4Ys"
      },
      "execution_count": null,
      "outputs": []
    }
  ]
}